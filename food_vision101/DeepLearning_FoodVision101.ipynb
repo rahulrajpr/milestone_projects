{
  "nbformat": 4,
  "nbformat_minor": 0,
  "metadata": {
    "colab": {
      "provenance": [],
      "include_colab_link": true
    },
    "kernelspec": {
      "name": "python3",
      "display_name": "Python 3"
    },
    "language_info": {
      "name": "python"
    },
    "accelerator": "GPU",
    "gpuClass": "standard",
    "widgets": {
      "application/vnd.jupyter.widget-state+json": {
        "9e81a873fbe9419ea0c7f7406e365f85": {
          "model_module": "@jupyter-widgets/controls",
          "model_name": "HBoxModel",
          "model_module_version": "1.5.0",
          "state": {
            "_dom_classes": [],
            "_model_module": "@jupyter-widgets/controls",
            "_model_module_version": "1.5.0",
            "_model_name": "HBoxModel",
            "_view_count": null,
            "_view_module": "@jupyter-widgets/controls",
            "_view_module_version": "1.5.0",
            "_view_name": "HBoxView",
            "box_style": "",
            "children": [
              "IPY_MODEL_5e7fbc11deeb4ff087ada330a32bc898",
              "IPY_MODEL_5e1fffe00a56474ca054284db6b281fe",
              "IPY_MODEL_cb45957894aa4d34a146dc09a8a7353c"
            ],
            "layout": "IPY_MODEL_285deb20f0a847678634833a8de52ede"
          }
        },
        "5e7fbc11deeb4ff087ada330a32bc898": {
          "model_module": "@jupyter-widgets/controls",
          "model_name": "HTMLModel",
          "model_module_version": "1.5.0",
          "state": {
            "_dom_classes": [],
            "_model_module": "@jupyter-widgets/controls",
            "_model_module_version": "1.5.0",
            "_model_name": "HTMLModel",
            "_view_count": null,
            "_view_module": "@jupyter-widgets/controls",
            "_view_module_version": "1.5.0",
            "_view_name": "HTMLView",
            "description": "",
            "description_tooltip": null,
            "layout": "IPY_MODEL_e975446fe0c641e8becab924f5e8d5c1",
            "placeholder": "​",
            "style": "IPY_MODEL_f6893a73635545179ba1c1dc1fe44b61",
            "value": "Dl Completed...: 100%"
          }
        },
        "5e1fffe00a56474ca054284db6b281fe": {
          "model_module": "@jupyter-widgets/controls",
          "model_name": "FloatProgressModel",
          "model_module_version": "1.5.0",
          "state": {
            "_dom_classes": [],
            "_model_module": "@jupyter-widgets/controls",
            "_model_module_version": "1.5.0",
            "_model_name": "FloatProgressModel",
            "_view_count": null,
            "_view_module": "@jupyter-widgets/controls",
            "_view_module_version": "1.5.0",
            "_view_name": "ProgressView",
            "bar_style": "info",
            "description": "",
            "description_tooltip": null,
            "layout": "IPY_MODEL_f4ba94422c82482db923a4145d56be03",
            "max": 1,
            "min": 0,
            "orientation": "horizontal",
            "style": "IPY_MODEL_2d0b1ef9d90548c29befe70f94b5ba66",
            "value": 1
          }
        },
        "cb45957894aa4d34a146dc09a8a7353c": {
          "model_module": "@jupyter-widgets/controls",
          "model_name": "HTMLModel",
          "model_module_version": "1.5.0",
          "state": {
            "_dom_classes": [],
            "_model_module": "@jupyter-widgets/controls",
            "_model_module_version": "1.5.0",
            "_model_name": "HTMLModel",
            "_view_count": null,
            "_view_module": "@jupyter-widgets/controls",
            "_view_module_version": "1.5.0",
            "_view_name": "HTMLView",
            "description": "",
            "description_tooltip": null,
            "layout": "IPY_MODEL_7ca2cfe586784d0cb69c2e394574a7b0",
            "placeholder": "​",
            "style": "IPY_MODEL_d9f8dc7b0a25432a8868fd8384f528ea",
            "value": " 1/1 [07:28&lt;00:00, 87.19s/ url]"
          }
        },
        "285deb20f0a847678634833a8de52ede": {
          "model_module": "@jupyter-widgets/base",
          "model_name": "LayoutModel",
          "model_module_version": "1.2.0",
          "state": {
            "_model_module": "@jupyter-widgets/base",
            "_model_module_version": "1.2.0",
            "_model_name": "LayoutModel",
            "_view_count": null,
            "_view_module": "@jupyter-widgets/base",
            "_view_module_version": "1.2.0",
            "_view_name": "LayoutView",
            "align_content": null,
            "align_items": null,
            "align_self": null,
            "border": null,
            "bottom": null,
            "display": null,
            "flex": null,
            "flex_flow": null,
            "grid_area": null,
            "grid_auto_columns": null,
            "grid_auto_flow": null,
            "grid_auto_rows": null,
            "grid_column": null,
            "grid_gap": null,
            "grid_row": null,
            "grid_template_areas": null,
            "grid_template_columns": null,
            "grid_template_rows": null,
            "height": null,
            "justify_content": null,
            "justify_items": null,
            "left": null,
            "margin": null,
            "max_height": null,
            "max_width": null,
            "min_height": null,
            "min_width": null,
            "object_fit": null,
            "object_position": null,
            "order": null,
            "overflow": null,
            "overflow_x": null,
            "overflow_y": null,
            "padding": null,
            "right": null,
            "top": null,
            "visibility": null,
            "width": null
          }
        },
        "e975446fe0c641e8becab924f5e8d5c1": {
          "model_module": "@jupyter-widgets/base",
          "model_name": "LayoutModel",
          "model_module_version": "1.2.0",
          "state": {
            "_model_module": "@jupyter-widgets/base",
            "_model_module_version": "1.2.0",
            "_model_name": "LayoutModel",
            "_view_count": null,
            "_view_module": "@jupyter-widgets/base",
            "_view_module_version": "1.2.0",
            "_view_name": "LayoutView",
            "align_content": null,
            "align_items": null,
            "align_self": null,
            "border": null,
            "bottom": null,
            "display": null,
            "flex": null,
            "flex_flow": null,
            "grid_area": null,
            "grid_auto_columns": null,
            "grid_auto_flow": null,
            "grid_auto_rows": null,
            "grid_column": null,
            "grid_gap": null,
            "grid_row": null,
            "grid_template_areas": null,
            "grid_template_columns": null,
            "grid_template_rows": null,
            "height": null,
            "justify_content": null,
            "justify_items": null,
            "left": null,
            "margin": null,
            "max_height": null,
            "max_width": null,
            "min_height": null,
            "min_width": null,
            "object_fit": null,
            "object_position": null,
            "order": null,
            "overflow": null,
            "overflow_x": null,
            "overflow_y": null,
            "padding": null,
            "right": null,
            "top": null,
            "visibility": null,
            "width": null
          }
        },
        "f6893a73635545179ba1c1dc1fe44b61": {
          "model_module": "@jupyter-widgets/controls",
          "model_name": "DescriptionStyleModel",
          "model_module_version": "1.5.0",
          "state": {
            "_model_module": "@jupyter-widgets/controls",
            "_model_module_version": "1.5.0",
            "_model_name": "DescriptionStyleModel",
            "_view_count": null,
            "_view_module": "@jupyter-widgets/base",
            "_view_module_version": "1.2.0",
            "_view_name": "StyleView",
            "description_width": ""
          }
        },
        "f4ba94422c82482db923a4145d56be03": {
          "model_module": "@jupyter-widgets/base",
          "model_name": "LayoutModel",
          "model_module_version": "1.2.0",
          "state": {
            "_model_module": "@jupyter-widgets/base",
            "_model_module_version": "1.2.0",
            "_model_name": "LayoutModel",
            "_view_count": null,
            "_view_module": "@jupyter-widgets/base",
            "_view_module_version": "1.2.0",
            "_view_name": "LayoutView",
            "align_content": null,
            "align_items": null,
            "align_self": null,
            "border": null,
            "bottom": null,
            "display": null,
            "flex": null,
            "flex_flow": null,
            "grid_area": null,
            "grid_auto_columns": null,
            "grid_auto_flow": null,
            "grid_auto_rows": null,
            "grid_column": null,
            "grid_gap": null,
            "grid_row": null,
            "grid_template_areas": null,
            "grid_template_columns": null,
            "grid_template_rows": null,
            "height": null,
            "justify_content": null,
            "justify_items": null,
            "left": null,
            "margin": null,
            "max_height": null,
            "max_width": null,
            "min_height": null,
            "min_width": null,
            "object_fit": null,
            "object_position": null,
            "order": null,
            "overflow": null,
            "overflow_x": null,
            "overflow_y": null,
            "padding": null,
            "right": null,
            "top": null,
            "visibility": null,
            "width": "20px"
          }
        },
        "2d0b1ef9d90548c29befe70f94b5ba66": {
          "model_module": "@jupyter-widgets/controls",
          "model_name": "ProgressStyleModel",
          "model_module_version": "1.5.0",
          "state": {
            "_model_module": "@jupyter-widgets/controls",
            "_model_module_version": "1.5.0",
            "_model_name": "ProgressStyleModel",
            "_view_count": null,
            "_view_module": "@jupyter-widgets/base",
            "_view_module_version": "1.2.0",
            "_view_name": "StyleView",
            "bar_color": null,
            "description_width": ""
          }
        },
        "7ca2cfe586784d0cb69c2e394574a7b0": {
          "model_module": "@jupyter-widgets/base",
          "model_name": "LayoutModel",
          "model_module_version": "1.2.0",
          "state": {
            "_model_module": "@jupyter-widgets/base",
            "_model_module_version": "1.2.0",
            "_model_name": "LayoutModel",
            "_view_count": null,
            "_view_module": "@jupyter-widgets/base",
            "_view_module_version": "1.2.0",
            "_view_name": "LayoutView",
            "align_content": null,
            "align_items": null,
            "align_self": null,
            "border": null,
            "bottom": null,
            "display": null,
            "flex": null,
            "flex_flow": null,
            "grid_area": null,
            "grid_auto_columns": null,
            "grid_auto_flow": null,
            "grid_auto_rows": null,
            "grid_column": null,
            "grid_gap": null,
            "grid_row": null,
            "grid_template_areas": null,
            "grid_template_columns": null,
            "grid_template_rows": null,
            "height": null,
            "justify_content": null,
            "justify_items": null,
            "left": null,
            "margin": null,
            "max_height": null,
            "max_width": null,
            "min_height": null,
            "min_width": null,
            "object_fit": null,
            "object_position": null,
            "order": null,
            "overflow": null,
            "overflow_x": null,
            "overflow_y": null,
            "padding": null,
            "right": null,
            "top": null,
            "visibility": null,
            "width": null
          }
        },
        "d9f8dc7b0a25432a8868fd8384f528ea": {
          "model_module": "@jupyter-widgets/controls",
          "model_name": "DescriptionStyleModel",
          "model_module_version": "1.5.0",
          "state": {
            "_model_module": "@jupyter-widgets/controls",
            "_model_module_version": "1.5.0",
            "_model_name": "DescriptionStyleModel",
            "_view_count": null,
            "_view_module": "@jupyter-widgets/base",
            "_view_module_version": "1.2.0",
            "_view_name": "StyleView",
            "description_width": ""
          }
        },
        "33c7757d510943d898bb211e6b2c43b3": {
          "model_module": "@jupyter-widgets/controls",
          "model_name": "HBoxModel",
          "model_module_version": "1.5.0",
          "state": {
            "_dom_classes": [],
            "_model_module": "@jupyter-widgets/controls",
            "_model_module_version": "1.5.0",
            "_model_name": "HBoxModel",
            "_view_count": null,
            "_view_module": "@jupyter-widgets/controls",
            "_view_module_version": "1.5.0",
            "_view_name": "HBoxView",
            "box_style": "",
            "children": [
              "IPY_MODEL_176150bb818345089c388c1ffb6a01dc",
              "IPY_MODEL_25929ec95ae741e58b68ad20173ca588",
              "IPY_MODEL_49bf0f980f2b43feb44502181f438da2"
            ],
            "layout": "IPY_MODEL_86c4a6b803a9474f9687fde80a70945f"
          }
        },
        "176150bb818345089c388c1ffb6a01dc": {
          "model_module": "@jupyter-widgets/controls",
          "model_name": "HTMLModel",
          "model_module_version": "1.5.0",
          "state": {
            "_dom_classes": [],
            "_model_module": "@jupyter-widgets/controls",
            "_model_module_version": "1.5.0",
            "_model_name": "HTMLModel",
            "_view_count": null,
            "_view_module": "@jupyter-widgets/controls",
            "_view_module_version": "1.5.0",
            "_view_name": "HTMLView",
            "description": "",
            "description_tooltip": null,
            "layout": "IPY_MODEL_af57c8e319fe4fdb8560fcee66a82518",
            "placeholder": "​",
            "style": "IPY_MODEL_2110ddbbec1243be9f6c16e3744ae935",
            "value": "Dl Size...: 100%"
          }
        },
        "25929ec95ae741e58b68ad20173ca588": {
          "model_module": "@jupyter-widgets/controls",
          "model_name": "FloatProgressModel",
          "model_module_version": "1.5.0",
          "state": {
            "_dom_classes": [],
            "_model_module": "@jupyter-widgets/controls",
            "_model_module_version": "1.5.0",
            "_model_name": "FloatProgressModel",
            "_view_count": null,
            "_view_module": "@jupyter-widgets/controls",
            "_view_module_version": "1.5.0",
            "_view_name": "ProgressView",
            "bar_style": "info",
            "description": "",
            "description_tooltip": null,
            "layout": "IPY_MODEL_346c7a967a504f629fe802853a4882a1",
            "max": 1,
            "min": 0,
            "orientation": "horizontal",
            "style": "IPY_MODEL_765210ed30114e52b075a1326a2ed654",
            "value": 1
          }
        },
        "49bf0f980f2b43feb44502181f438da2": {
          "model_module": "@jupyter-widgets/controls",
          "model_name": "HTMLModel",
          "model_module_version": "1.5.0",
          "state": {
            "_dom_classes": [],
            "_model_module": "@jupyter-widgets/controls",
            "_model_module_version": "1.5.0",
            "_model_name": "HTMLModel",
            "_view_count": null,
            "_view_module": "@jupyter-widgets/controls",
            "_view_module_version": "1.5.0",
            "_view_name": "HTMLView",
            "description": "",
            "description_tooltip": null,
            "layout": "IPY_MODEL_9c4ea3bbbdcc4b3680c16320766eaf11",
            "placeholder": "​",
            "style": "IPY_MODEL_6f2302976f20498da1eaed005a787424",
            "value": " 4764/4764 [07:28&lt;00:00, 47.64 MiB/s]"
          }
        },
        "86c4a6b803a9474f9687fde80a70945f": {
          "model_module": "@jupyter-widgets/base",
          "model_name": "LayoutModel",
          "model_module_version": "1.2.0",
          "state": {
            "_model_module": "@jupyter-widgets/base",
            "_model_module_version": "1.2.0",
            "_model_name": "LayoutModel",
            "_view_count": null,
            "_view_module": "@jupyter-widgets/base",
            "_view_module_version": "1.2.0",
            "_view_name": "LayoutView",
            "align_content": null,
            "align_items": null,
            "align_self": null,
            "border": null,
            "bottom": null,
            "display": null,
            "flex": null,
            "flex_flow": null,
            "grid_area": null,
            "grid_auto_columns": null,
            "grid_auto_flow": null,
            "grid_auto_rows": null,
            "grid_column": null,
            "grid_gap": null,
            "grid_row": null,
            "grid_template_areas": null,
            "grid_template_columns": null,
            "grid_template_rows": null,
            "height": null,
            "justify_content": null,
            "justify_items": null,
            "left": null,
            "margin": null,
            "max_height": null,
            "max_width": null,
            "min_height": null,
            "min_width": null,
            "object_fit": null,
            "object_position": null,
            "order": null,
            "overflow": null,
            "overflow_x": null,
            "overflow_y": null,
            "padding": null,
            "right": null,
            "top": null,
            "visibility": null,
            "width": null
          }
        },
        "af57c8e319fe4fdb8560fcee66a82518": {
          "model_module": "@jupyter-widgets/base",
          "model_name": "LayoutModel",
          "model_module_version": "1.2.0",
          "state": {
            "_model_module": "@jupyter-widgets/base",
            "_model_module_version": "1.2.0",
            "_model_name": "LayoutModel",
            "_view_count": null,
            "_view_module": "@jupyter-widgets/base",
            "_view_module_version": "1.2.0",
            "_view_name": "LayoutView",
            "align_content": null,
            "align_items": null,
            "align_self": null,
            "border": null,
            "bottom": null,
            "display": null,
            "flex": null,
            "flex_flow": null,
            "grid_area": null,
            "grid_auto_columns": null,
            "grid_auto_flow": null,
            "grid_auto_rows": null,
            "grid_column": null,
            "grid_gap": null,
            "grid_row": null,
            "grid_template_areas": null,
            "grid_template_columns": null,
            "grid_template_rows": null,
            "height": null,
            "justify_content": null,
            "justify_items": null,
            "left": null,
            "margin": null,
            "max_height": null,
            "max_width": null,
            "min_height": null,
            "min_width": null,
            "object_fit": null,
            "object_position": null,
            "order": null,
            "overflow": null,
            "overflow_x": null,
            "overflow_y": null,
            "padding": null,
            "right": null,
            "top": null,
            "visibility": null,
            "width": null
          }
        },
        "2110ddbbec1243be9f6c16e3744ae935": {
          "model_module": "@jupyter-widgets/controls",
          "model_name": "DescriptionStyleModel",
          "model_module_version": "1.5.0",
          "state": {
            "_model_module": "@jupyter-widgets/controls",
            "_model_module_version": "1.5.0",
            "_model_name": "DescriptionStyleModel",
            "_view_count": null,
            "_view_module": "@jupyter-widgets/base",
            "_view_module_version": "1.2.0",
            "_view_name": "StyleView",
            "description_width": ""
          }
        },
        "346c7a967a504f629fe802853a4882a1": {
          "model_module": "@jupyter-widgets/base",
          "model_name": "LayoutModel",
          "model_module_version": "1.2.0",
          "state": {
            "_model_module": "@jupyter-widgets/base",
            "_model_module_version": "1.2.0",
            "_model_name": "LayoutModel",
            "_view_count": null,
            "_view_module": "@jupyter-widgets/base",
            "_view_module_version": "1.2.0",
            "_view_name": "LayoutView",
            "align_content": null,
            "align_items": null,
            "align_self": null,
            "border": null,
            "bottom": null,
            "display": null,
            "flex": null,
            "flex_flow": null,
            "grid_area": null,
            "grid_auto_columns": null,
            "grid_auto_flow": null,
            "grid_auto_rows": null,
            "grid_column": null,
            "grid_gap": null,
            "grid_row": null,
            "grid_template_areas": null,
            "grid_template_columns": null,
            "grid_template_rows": null,
            "height": null,
            "justify_content": null,
            "justify_items": null,
            "left": null,
            "margin": null,
            "max_height": null,
            "max_width": null,
            "min_height": null,
            "min_width": null,
            "object_fit": null,
            "object_position": null,
            "order": null,
            "overflow": null,
            "overflow_x": null,
            "overflow_y": null,
            "padding": null,
            "right": null,
            "top": null,
            "visibility": null,
            "width": "20px"
          }
        },
        "765210ed30114e52b075a1326a2ed654": {
          "model_module": "@jupyter-widgets/controls",
          "model_name": "ProgressStyleModel",
          "model_module_version": "1.5.0",
          "state": {
            "_model_module": "@jupyter-widgets/controls",
            "_model_module_version": "1.5.0",
            "_model_name": "ProgressStyleModel",
            "_view_count": null,
            "_view_module": "@jupyter-widgets/base",
            "_view_module_version": "1.2.0",
            "_view_name": "StyleView",
            "bar_color": null,
            "description_width": ""
          }
        },
        "9c4ea3bbbdcc4b3680c16320766eaf11": {
          "model_module": "@jupyter-widgets/base",
          "model_name": "LayoutModel",
          "model_module_version": "1.2.0",
          "state": {
            "_model_module": "@jupyter-widgets/base",
            "_model_module_version": "1.2.0",
            "_model_name": "LayoutModel",
            "_view_count": null,
            "_view_module": "@jupyter-widgets/base",
            "_view_module_version": "1.2.0",
            "_view_name": "LayoutView",
            "align_content": null,
            "align_items": null,
            "align_self": null,
            "border": null,
            "bottom": null,
            "display": null,
            "flex": null,
            "flex_flow": null,
            "grid_area": null,
            "grid_auto_columns": null,
            "grid_auto_flow": null,
            "grid_auto_rows": null,
            "grid_column": null,
            "grid_gap": null,
            "grid_row": null,
            "grid_template_areas": null,
            "grid_template_columns": null,
            "grid_template_rows": null,
            "height": null,
            "justify_content": null,
            "justify_items": null,
            "left": null,
            "margin": null,
            "max_height": null,
            "max_width": null,
            "min_height": null,
            "min_width": null,
            "object_fit": null,
            "object_position": null,
            "order": null,
            "overflow": null,
            "overflow_x": null,
            "overflow_y": null,
            "padding": null,
            "right": null,
            "top": null,
            "visibility": null,
            "width": null
          }
        },
        "6f2302976f20498da1eaed005a787424": {
          "model_module": "@jupyter-widgets/controls",
          "model_name": "DescriptionStyleModel",
          "model_module_version": "1.5.0",
          "state": {
            "_model_module": "@jupyter-widgets/controls",
            "_model_module_version": "1.5.0",
            "_model_name": "DescriptionStyleModel",
            "_view_count": null,
            "_view_module": "@jupyter-widgets/base",
            "_view_module_version": "1.2.0",
            "_view_name": "StyleView",
            "description_width": ""
          }
        },
        "fc1b0364bdfb4ef483aa4a2e6f6277cb": {
          "model_module": "@jupyter-widgets/controls",
          "model_name": "HBoxModel",
          "model_module_version": "1.5.0",
          "state": {
            "_dom_classes": [],
            "_model_module": "@jupyter-widgets/controls",
            "_model_module_version": "1.5.0",
            "_model_name": "HBoxModel",
            "_view_count": null,
            "_view_module": "@jupyter-widgets/controls",
            "_view_module_version": "1.5.0",
            "_view_name": "HBoxView",
            "box_style": "",
            "children": [
              "IPY_MODEL_cd3abf4546b14a90af1096c501a9da7e",
              "IPY_MODEL_c6e3bc204f194c15a78c7c85acd5dd05",
              "IPY_MODEL_b35a4820d9f14dc4b5c68dd6e92dfad4"
            ],
            "layout": "IPY_MODEL_7582934f75904e47a0d3e945abb6ab66"
          }
        },
        "cd3abf4546b14a90af1096c501a9da7e": {
          "model_module": "@jupyter-widgets/controls",
          "model_name": "HTMLModel",
          "model_module_version": "1.5.0",
          "state": {
            "_dom_classes": [],
            "_model_module": "@jupyter-widgets/controls",
            "_model_module_version": "1.5.0",
            "_model_name": "HTMLModel",
            "_view_count": null,
            "_view_module": "@jupyter-widgets/controls",
            "_view_module_version": "1.5.0",
            "_view_name": "HTMLView",
            "description": "",
            "description_tooltip": null,
            "layout": "IPY_MODEL_9b9e065a86a24acbb72690935c7a8f73",
            "placeholder": "​",
            "style": "IPY_MODEL_e4e39ffb00714adfa529dd460e167d5b",
            "value": "Extraction completed...: 100%"
          }
        },
        "c6e3bc204f194c15a78c7c85acd5dd05": {
          "model_module": "@jupyter-widgets/controls",
          "model_name": "FloatProgressModel",
          "model_module_version": "1.5.0",
          "state": {
            "_dom_classes": [],
            "_model_module": "@jupyter-widgets/controls",
            "_model_module_version": "1.5.0",
            "_model_name": "FloatProgressModel",
            "_view_count": null,
            "_view_module": "@jupyter-widgets/controls",
            "_view_module_version": "1.5.0",
            "_view_name": "ProgressView",
            "bar_style": "info",
            "description": "",
            "description_tooltip": null,
            "layout": "IPY_MODEL_1f3988f176ca4eaeb59a47723c788122",
            "max": 1,
            "min": 0,
            "orientation": "horizontal",
            "style": "IPY_MODEL_5d852a7f56d642a89d090ebfe23e6598",
            "value": 1
          }
        },
        "b35a4820d9f14dc4b5c68dd6e92dfad4": {
          "model_module": "@jupyter-widgets/controls",
          "model_name": "HTMLModel",
          "model_module_version": "1.5.0",
          "state": {
            "_dom_classes": [],
            "_model_module": "@jupyter-widgets/controls",
            "_model_module_version": "1.5.0",
            "_model_name": "HTMLModel",
            "_view_count": null,
            "_view_module": "@jupyter-widgets/controls",
            "_view_module_version": "1.5.0",
            "_view_name": "HTMLView",
            "description": "",
            "description_tooltip": null,
            "layout": "IPY_MODEL_05204cc0e4c04b6491a8d6667dfa10ef",
            "placeholder": "​",
            "style": "IPY_MODEL_0619228ef4c349e0bb08b255be27f267",
            "value": " 100546/101008 [07:28&lt;00:00, 952.03 file/s]"
          }
        },
        "7582934f75904e47a0d3e945abb6ab66": {
          "model_module": "@jupyter-widgets/base",
          "model_name": "LayoutModel",
          "model_module_version": "1.2.0",
          "state": {
            "_model_module": "@jupyter-widgets/base",
            "_model_module_version": "1.2.0",
            "_model_name": "LayoutModel",
            "_view_count": null,
            "_view_module": "@jupyter-widgets/base",
            "_view_module_version": "1.2.0",
            "_view_name": "LayoutView",
            "align_content": null,
            "align_items": null,
            "align_self": null,
            "border": null,
            "bottom": null,
            "display": null,
            "flex": null,
            "flex_flow": null,
            "grid_area": null,
            "grid_auto_columns": null,
            "grid_auto_flow": null,
            "grid_auto_rows": null,
            "grid_column": null,
            "grid_gap": null,
            "grid_row": null,
            "grid_template_areas": null,
            "grid_template_columns": null,
            "grid_template_rows": null,
            "height": null,
            "justify_content": null,
            "justify_items": null,
            "left": null,
            "margin": null,
            "max_height": null,
            "max_width": null,
            "min_height": null,
            "min_width": null,
            "object_fit": null,
            "object_position": null,
            "order": null,
            "overflow": null,
            "overflow_x": null,
            "overflow_y": null,
            "padding": null,
            "right": null,
            "top": null,
            "visibility": null,
            "width": null
          }
        },
        "9b9e065a86a24acbb72690935c7a8f73": {
          "model_module": "@jupyter-widgets/base",
          "model_name": "LayoutModel",
          "model_module_version": "1.2.0",
          "state": {
            "_model_module": "@jupyter-widgets/base",
            "_model_module_version": "1.2.0",
            "_model_name": "LayoutModel",
            "_view_count": null,
            "_view_module": "@jupyter-widgets/base",
            "_view_module_version": "1.2.0",
            "_view_name": "LayoutView",
            "align_content": null,
            "align_items": null,
            "align_self": null,
            "border": null,
            "bottom": null,
            "display": null,
            "flex": null,
            "flex_flow": null,
            "grid_area": null,
            "grid_auto_columns": null,
            "grid_auto_flow": null,
            "grid_auto_rows": null,
            "grid_column": null,
            "grid_gap": null,
            "grid_row": null,
            "grid_template_areas": null,
            "grid_template_columns": null,
            "grid_template_rows": null,
            "height": null,
            "justify_content": null,
            "justify_items": null,
            "left": null,
            "margin": null,
            "max_height": null,
            "max_width": null,
            "min_height": null,
            "min_width": null,
            "object_fit": null,
            "object_position": null,
            "order": null,
            "overflow": null,
            "overflow_x": null,
            "overflow_y": null,
            "padding": null,
            "right": null,
            "top": null,
            "visibility": null,
            "width": null
          }
        },
        "e4e39ffb00714adfa529dd460e167d5b": {
          "model_module": "@jupyter-widgets/controls",
          "model_name": "DescriptionStyleModel",
          "model_module_version": "1.5.0",
          "state": {
            "_model_module": "@jupyter-widgets/controls",
            "_model_module_version": "1.5.0",
            "_model_name": "DescriptionStyleModel",
            "_view_count": null,
            "_view_module": "@jupyter-widgets/base",
            "_view_module_version": "1.2.0",
            "_view_name": "StyleView",
            "description_width": ""
          }
        },
        "1f3988f176ca4eaeb59a47723c788122": {
          "model_module": "@jupyter-widgets/base",
          "model_name": "LayoutModel",
          "model_module_version": "1.2.0",
          "state": {
            "_model_module": "@jupyter-widgets/base",
            "_model_module_version": "1.2.0",
            "_model_name": "LayoutModel",
            "_view_count": null,
            "_view_module": "@jupyter-widgets/base",
            "_view_module_version": "1.2.0",
            "_view_name": "LayoutView",
            "align_content": null,
            "align_items": null,
            "align_self": null,
            "border": null,
            "bottom": null,
            "display": null,
            "flex": null,
            "flex_flow": null,
            "grid_area": null,
            "grid_auto_columns": null,
            "grid_auto_flow": null,
            "grid_auto_rows": null,
            "grid_column": null,
            "grid_gap": null,
            "grid_row": null,
            "grid_template_areas": null,
            "grid_template_columns": null,
            "grid_template_rows": null,
            "height": null,
            "justify_content": null,
            "justify_items": null,
            "left": null,
            "margin": null,
            "max_height": null,
            "max_width": null,
            "min_height": null,
            "min_width": null,
            "object_fit": null,
            "object_position": null,
            "order": null,
            "overflow": null,
            "overflow_x": null,
            "overflow_y": null,
            "padding": null,
            "right": null,
            "top": null,
            "visibility": null,
            "width": "20px"
          }
        },
        "5d852a7f56d642a89d090ebfe23e6598": {
          "model_module": "@jupyter-widgets/controls",
          "model_name": "ProgressStyleModel",
          "model_module_version": "1.5.0",
          "state": {
            "_model_module": "@jupyter-widgets/controls",
            "_model_module_version": "1.5.0",
            "_model_name": "ProgressStyleModel",
            "_view_count": null,
            "_view_module": "@jupyter-widgets/base",
            "_view_module_version": "1.2.0",
            "_view_name": "StyleView",
            "bar_color": null,
            "description_width": ""
          }
        },
        "05204cc0e4c04b6491a8d6667dfa10ef": {
          "model_module": "@jupyter-widgets/base",
          "model_name": "LayoutModel",
          "model_module_version": "1.2.0",
          "state": {
            "_model_module": "@jupyter-widgets/base",
            "_model_module_version": "1.2.0",
            "_model_name": "LayoutModel",
            "_view_count": null,
            "_view_module": "@jupyter-widgets/base",
            "_view_module_version": "1.2.0",
            "_view_name": "LayoutView",
            "align_content": null,
            "align_items": null,
            "align_self": null,
            "border": null,
            "bottom": null,
            "display": null,
            "flex": null,
            "flex_flow": null,
            "grid_area": null,
            "grid_auto_columns": null,
            "grid_auto_flow": null,
            "grid_auto_rows": null,
            "grid_column": null,
            "grid_gap": null,
            "grid_row": null,
            "grid_template_areas": null,
            "grid_template_columns": null,
            "grid_template_rows": null,
            "height": null,
            "justify_content": null,
            "justify_items": null,
            "left": null,
            "margin": null,
            "max_height": null,
            "max_width": null,
            "min_height": null,
            "min_width": null,
            "object_fit": null,
            "object_position": null,
            "order": null,
            "overflow": null,
            "overflow_x": null,
            "overflow_y": null,
            "padding": null,
            "right": null,
            "top": null,
            "visibility": null,
            "width": null
          }
        },
        "0619228ef4c349e0bb08b255be27f267": {
          "model_module": "@jupyter-widgets/controls",
          "model_name": "DescriptionStyleModel",
          "model_module_version": "1.5.0",
          "state": {
            "_model_module": "@jupyter-widgets/controls",
            "_model_module_version": "1.5.0",
            "_model_name": "DescriptionStyleModel",
            "_view_count": null,
            "_view_module": "@jupyter-widgets/base",
            "_view_module_version": "1.2.0",
            "_view_name": "StyleView",
            "description_width": ""
          }
        },
        "f18da41d6ed54d439f49d35b8e61dd15": {
          "model_module": "@jupyter-widgets/controls",
          "model_name": "HBoxModel",
          "model_module_version": "1.5.0",
          "state": {
            "_dom_classes": [],
            "_model_module": "@jupyter-widgets/controls",
            "_model_module_version": "1.5.0",
            "_model_name": "HBoxModel",
            "_view_count": null,
            "_view_module": "@jupyter-widgets/controls",
            "_view_module_version": "1.5.0",
            "_view_name": "HBoxView",
            "box_style": "",
            "children": [
              "IPY_MODEL_b24c55fc11834c24b5b780bdcdcc6dbe",
              "IPY_MODEL_0aafab35a1774637936054c4f7ba48a1",
              "IPY_MODEL_9f6aa39544e042e38153aed4e67f6aaf"
            ],
            "layout": "IPY_MODEL_f76f15a3d73d43e08138ada860863a6b"
          }
        },
        "b24c55fc11834c24b5b780bdcdcc6dbe": {
          "model_module": "@jupyter-widgets/controls",
          "model_name": "HTMLModel",
          "model_module_version": "1.5.0",
          "state": {
            "_dom_classes": [],
            "_model_module": "@jupyter-widgets/controls",
            "_model_module_version": "1.5.0",
            "_model_name": "HTMLModel",
            "_view_count": null,
            "_view_module": "@jupyter-widgets/controls",
            "_view_module_version": "1.5.0",
            "_view_name": "HTMLView",
            "description": "",
            "description_tooltip": null,
            "layout": "IPY_MODEL_9f2300c717064e6fb436da25e17bc353",
            "placeholder": "​",
            "style": "IPY_MODEL_79339aaf9cdf4514a01c815df05fe850",
            "value": "Shuffling /root/tensorflow_datasets/food101/2.0.0.incompleteU1994Q/food101-train.tfrecord*...: 100%"
          }
        },
        "0aafab35a1774637936054c4f7ba48a1": {
          "model_module": "@jupyter-widgets/controls",
          "model_name": "FloatProgressModel",
          "model_module_version": "1.5.0",
          "state": {
            "_dom_classes": [],
            "_model_module": "@jupyter-widgets/controls",
            "_model_module_version": "1.5.0",
            "_model_name": "FloatProgressModel",
            "_view_count": null,
            "_view_module": "@jupyter-widgets/controls",
            "_view_module_version": "1.5.0",
            "_view_name": "ProgressView",
            "bar_style": "",
            "description": "",
            "description_tooltip": null,
            "layout": "IPY_MODEL_442145f3b48447e79be6a762d6c3df04",
            "max": 75750,
            "min": 0,
            "orientation": "horizontal",
            "style": "IPY_MODEL_8d8758e216bb44b68521f6b7d66a8914",
            "value": 75750
          }
        },
        "9f6aa39544e042e38153aed4e67f6aaf": {
          "model_module": "@jupyter-widgets/controls",
          "model_name": "HTMLModel",
          "model_module_version": "1.5.0",
          "state": {
            "_dom_classes": [],
            "_model_module": "@jupyter-widgets/controls",
            "_model_module_version": "1.5.0",
            "_model_name": "HTMLModel",
            "_view_count": null,
            "_view_module": "@jupyter-widgets/controls",
            "_view_module_version": "1.5.0",
            "_view_name": "HTMLView",
            "description": "",
            "description_tooltip": null,
            "layout": "IPY_MODEL_ccd4e25c802046e7ad472fe67c409c8e",
            "placeholder": "​",
            "style": "IPY_MODEL_a934cf0fa30a473f993871371a521b7e",
            "value": " 75680/75750 [00:27&lt;00:00, 2854.64 examples/s]"
          }
        },
        "f76f15a3d73d43e08138ada860863a6b": {
          "model_module": "@jupyter-widgets/base",
          "model_name": "LayoutModel",
          "model_module_version": "1.2.0",
          "state": {
            "_model_module": "@jupyter-widgets/base",
            "_model_module_version": "1.2.0",
            "_model_name": "LayoutModel",
            "_view_count": null,
            "_view_module": "@jupyter-widgets/base",
            "_view_module_version": "1.2.0",
            "_view_name": "LayoutView",
            "align_content": null,
            "align_items": null,
            "align_self": null,
            "border": null,
            "bottom": null,
            "display": null,
            "flex": null,
            "flex_flow": null,
            "grid_area": null,
            "grid_auto_columns": null,
            "grid_auto_flow": null,
            "grid_auto_rows": null,
            "grid_column": null,
            "grid_gap": null,
            "grid_row": null,
            "grid_template_areas": null,
            "grid_template_columns": null,
            "grid_template_rows": null,
            "height": null,
            "justify_content": null,
            "justify_items": null,
            "left": null,
            "margin": null,
            "max_height": null,
            "max_width": null,
            "min_height": null,
            "min_width": null,
            "object_fit": null,
            "object_position": null,
            "order": null,
            "overflow": null,
            "overflow_x": null,
            "overflow_y": null,
            "padding": null,
            "right": null,
            "top": null,
            "visibility": "hidden",
            "width": null
          }
        },
        "9f2300c717064e6fb436da25e17bc353": {
          "model_module": "@jupyter-widgets/base",
          "model_name": "LayoutModel",
          "model_module_version": "1.2.0",
          "state": {
            "_model_module": "@jupyter-widgets/base",
            "_model_module_version": "1.2.0",
            "_model_name": "LayoutModel",
            "_view_count": null,
            "_view_module": "@jupyter-widgets/base",
            "_view_module_version": "1.2.0",
            "_view_name": "LayoutView",
            "align_content": null,
            "align_items": null,
            "align_self": null,
            "border": null,
            "bottom": null,
            "display": null,
            "flex": null,
            "flex_flow": null,
            "grid_area": null,
            "grid_auto_columns": null,
            "grid_auto_flow": null,
            "grid_auto_rows": null,
            "grid_column": null,
            "grid_gap": null,
            "grid_row": null,
            "grid_template_areas": null,
            "grid_template_columns": null,
            "grid_template_rows": null,
            "height": null,
            "justify_content": null,
            "justify_items": null,
            "left": null,
            "margin": null,
            "max_height": null,
            "max_width": null,
            "min_height": null,
            "min_width": null,
            "object_fit": null,
            "object_position": null,
            "order": null,
            "overflow": null,
            "overflow_x": null,
            "overflow_y": null,
            "padding": null,
            "right": null,
            "top": null,
            "visibility": null,
            "width": null
          }
        },
        "79339aaf9cdf4514a01c815df05fe850": {
          "model_module": "@jupyter-widgets/controls",
          "model_name": "DescriptionStyleModel",
          "model_module_version": "1.5.0",
          "state": {
            "_model_module": "@jupyter-widgets/controls",
            "_model_module_version": "1.5.0",
            "_model_name": "DescriptionStyleModel",
            "_view_count": null,
            "_view_module": "@jupyter-widgets/base",
            "_view_module_version": "1.2.0",
            "_view_name": "StyleView",
            "description_width": ""
          }
        },
        "442145f3b48447e79be6a762d6c3df04": {
          "model_module": "@jupyter-widgets/base",
          "model_name": "LayoutModel",
          "model_module_version": "1.2.0",
          "state": {
            "_model_module": "@jupyter-widgets/base",
            "_model_module_version": "1.2.0",
            "_model_name": "LayoutModel",
            "_view_count": null,
            "_view_module": "@jupyter-widgets/base",
            "_view_module_version": "1.2.0",
            "_view_name": "LayoutView",
            "align_content": null,
            "align_items": null,
            "align_self": null,
            "border": null,
            "bottom": null,
            "display": null,
            "flex": null,
            "flex_flow": null,
            "grid_area": null,
            "grid_auto_columns": null,
            "grid_auto_flow": null,
            "grid_auto_rows": null,
            "grid_column": null,
            "grid_gap": null,
            "grid_row": null,
            "grid_template_areas": null,
            "grid_template_columns": null,
            "grid_template_rows": null,
            "height": null,
            "justify_content": null,
            "justify_items": null,
            "left": null,
            "margin": null,
            "max_height": null,
            "max_width": null,
            "min_height": null,
            "min_width": null,
            "object_fit": null,
            "object_position": null,
            "order": null,
            "overflow": null,
            "overflow_x": null,
            "overflow_y": null,
            "padding": null,
            "right": null,
            "top": null,
            "visibility": null,
            "width": null
          }
        },
        "8d8758e216bb44b68521f6b7d66a8914": {
          "model_module": "@jupyter-widgets/controls",
          "model_name": "ProgressStyleModel",
          "model_module_version": "1.5.0",
          "state": {
            "_model_module": "@jupyter-widgets/controls",
            "_model_module_version": "1.5.0",
            "_model_name": "ProgressStyleModel",
            "_view_count": null,
            "_view_module": "@jupyter-widgets/base",
            "_view_module_version": "1.2.0",
            "_view_name": "StyleView",
            "bar_color": null,
            "description_width": ""
          }
        },
        "ccd4e25c802046e7ad472fe67c409c8e": {
          "model_module": "@jupyter-widgets/base",
          "model_name": "LayoutModel",
          "model_module_version": "1.2.0",
          "state": {
            "_model_module": "@jupyter-widgets/base",
            "_model_module_version": "1.2.0",
            "_model_name": "LayoutModel",
            "_view_count": null,
            "_view_module": "@jupyter-widgets/base",
            "_view_module_version": "1.2.0",
            "_view_name": "LayoutView",
            "align_content": null,
            "align_items": null,
            "align_self": null,
            "border": null,
            "bottom": null,
            "display": null,
            "flex": null,
            "flex_flow": null,
            "grid_area": null,
            "grid_auto_columns": null,
            "grid_auto_flow": null,
            "grid_auto_rows": null,
            "grid_column": null,
            "grid_gap": null,
            "grid_row": null,
            "grid_template_areas": null,
            "grid_template_columns": null,
            "grid_template_rows": null,
            "height": null,
            "justify_content": null,
            "justify_items": null,
            "left": null,
            "margin": null,
            "max_height": null,
            "max_width": null,
            "min_height": null,
            "min_width": null,
            "object_fit": null,
            "object_position": null,
            "order": null,
            "overflow": null,
            "overflow_x": null,
            "overflow_y": null,
            "padding": null,
            "right": null,
            "top": null,
            "visibility": null,
            "width": null
          }
        },
        "a934cf0fa30a473f993871371a521b7e": {
          "model_module": "@jupyter-widgets/controls",
          "model_name": "DescriptionStyleModel",
          "model_module_version": "1.5.0",
          "state": {
            "_model_module": "@jupyter-widgets/controls",
            "_model_module_version": "1.5.0",
            "_model_name": "DescriptionStyleModel",
            "_view_count": null,
            "_view_module": "@jupyter-widgets/base",
            "_view_module_version": "1.2.0",
            "_view_name": "StyleView",
            "description_width": ""
          }
        },
        "7597334203c0430280507cc833869ed9": {
          "model_module": "@jupyter-widgets/controls",
          "model_name": "HBoxModel",
          "model_module_version": "1.5.0",
          "state": {
            "_dom_classes": [],
            "_model_module": "@jupyter-widgets/controls",
            "_model_module_version": "1.5.0",
            "_model_name": "HBoxModel",
            "_view_count": null,
            "_view_module": "@jupyter-widgets/controls",
            "_view_module_version": "1.5.0",
            "_view_name": "HBoxView",
            "box_style": "",
            "children": [
              "IPY_MODEL_6ecef965d011498c997d2560aa3f208f",
              "IPY_MODEL_4d8a2b91c8ff44ef885dee3d8c549ad4",
              "IPY_MODEL_14f8b7b26e594ee8bb098e920ed8eaae"
            ],
            "layout": "IPY_MODEL_d2b514a0910240b48c014af216d72a40"
          }
        },
        "6ecef965d011498c997d2560aa3f208f": {
          "model_module": "@jupyter-widgets/controls",
          "model_name": "HTMLModel",
          "model_module_version": "1.5.0",
          "state": {
            "_dom_classes": [],
            "_model_module": "@jupyter-widgets/controls",
            "_model_module_version": "1.5.0",
            "_model_name": "HTMLModel",
            "_view_count": null,
            "_view_module": "@jupyter-widgets/controls",
            "_view_module_version": "1.5.0",
            "_view_name": "HTMLView",
            "description": "",
            "description_tooltip": null,
            "layout": "IPY_MODEL_244ef4cccc72452386a2f59e25ce326c",
            "placeholder": "​",
            "style": "IPY_MODEL_3c7175756efe4457826bb3bef827986f",
            "value": "Generating validation examples...: 100%"
          }
        },
        "4d8a2b91c8ff44ef885dee3d8c549ad4": {
          "model_module": "@jupyter-widgets/controls",
          "model_name": "FloatProgressModel",
          "model_module_version": "1.5.0",
          "state": {
            "_dom_classes": [],
            "_model_module": "@jupyter-widgets/controls",
            "_model_module_version": "1.5.0",
            "_model_name": "FloatProgressModel",
            "_view_count": null,
            "_view_module": "@jupyter-widgets/controls",
            "_view_module_version": "1.5.0",
            "_view_name": "ProgressView",
            "bar_style": "",
            "description": "",
            "description_tooltip": null,
            "layout": "IPY_MODEL_0bab6dabfcd64667a54055dbf7fdad70",
            "max": 25250,
            "min": 0,
            "orientation": "horizontal",
            "style": "IPY_MODEL_32fbd8ac8616497fa7da6e7880a24804",
            "value": 25250
          }
        },
        "14f8b7b26e594ee8bb098e920ed8eaae": {
          "model_module": "@jupyter-widgets/controls",
          "model_name": "HTMLModel",
          "model_module_version": "1.5.0",
          "state": {
            "_dom_classes": [],
            "_model_module": "@jupyter-widgets/controls",
            "_model_module_version": "1.5.0",
            "_model_name": "HTMLModel",
            "_view_count": null,
            "_view_module": "@jupyter-widgets/controls",
            "_view_module_version": "1.5.0",
            "_view_name": "HTMLView",
            "description": "",
            "description_tooltip": null,
            "layout": "IPY_MODEL_93a928474ede48818f5acd526aa7cc35",
            "placeholder": "​",
            "style": "IPY_MODEL_7775783b6c7a4773b4af5e0115fbf500",
            "value": " 25216/25250 [00:54&lt;00:00, 450.80 examples/s]"
          }
        },
        "d2b514a0910240b48c014af216d72a40": {
          "model_module": "@jupyter-widgets/base",
          "model_name": "LayoutModel",
          "model_module_version": "1.2.0",
          "state": {
            "_model_module": "@jupyter-widgets/base",
            "_model_module_version": "1.2.0",
            "_model_name": "LayoutModel",
            "_view_count": null,
            "_view_module": "@jupyter-widgets/base",
            "_view_module_version": "1.2.0",
            "_view_name": "LayoutView",
            "align_content": null,
            "align_items": null,
            "align_self": null,
            "border": null,
            "bottom": null,
            "display": null,
            "flex": null,
            "flex_flow": null,
            "grid_area": null,
            "grid_auto_columns": null,
            "grid_auto_flow": null,
            "grid_auto_rows": null,
            "grid_column": null,
            "grid_gap": null,
            "grid_row": null,
            "grid_template_areas": null,
            "grid_template_columns": null,
            "grid_template_rows": null,
            "height": null,
            "justify_content": null,
            "justify_items": null,
            "left": null,
            "margin": null,
            "max_height": null,
            "max_width": null,
            "min_height": null,
            "min_width": null,
            "object_fit": null,
            "object_position": null,
            "order": null,
            "overflow": null,
            "overflow_x": null,
            "overflow_y": null,
            "padding": null,
            "right": null,
            "top": null,
            "visibility": "hidden",
            "width": null
          }
        },
        "244ef4cccc72452386a2f59e25ce326c": {
          "model_module": "@jupyter-widgets/base",
          "model_name": "LayoutModel",
          "model_module_version": "1.2.0",
          "state": {
            "_model_module": "@jupyter-widgets/base",
            "_model_module_version": "1.2.0",
            "_model_name": "LayoutModel",
            "_view_count": null,
            "_view_module": "@jupyter-widgets/base",
            "_view_module_version": "1.2.0",
            "_view_name": "LayoutView",
            "align_content": null,
            "align_items": null,
            "align_self": null,
            "border": null,
            "bottom": null,
            "display": null,
            "flex": null,
            "flex_flow": null,
            "grid_area": null,
            "grid_auto_columns": null,
            "grid_auto_flow": null,
            "grid_auto_rows": null,
            "grid_column": null,
            "grid_gap": null,
            "grid_row": null,
            "grid_template_areas": null,
            "grid_template_columns": null,
            "grid_template_rows": null,
            "height": null,
            "justify_content": null,
            "justify_items": null,
            "left": null,
            "margin": null,
            "max_height": null,
            "max_width": null,
            "min_height": null,
            "min_width": null,
            "object_fit": null,
            "object_position": null,
            "order": null,
            "overflow": null,
            "overflow_x": null,
            "overflow_y": null,
            "padding": null,
            "right": null,
            "top": null,
            "visibility": null,
            "width": null
          }
        },
        "3c7175756efe4457826bb3bef827986f": {
          "model_module": "@jupyter-widgets/controls",
          "model_name": "DescriptionStyleModel",
          "model_module_version": "1.5.0",
          "state": {
            "_model_module": "@jupyter-widgets/controls",
            "_model_module_version": "1.5.0",
            "_model_name": "DescriptionStyleModel",
            "_view_count": null,
            "_view_module": "@jupyter-widgets/base",
            "_view_module_version": "1.2.0",
            "_view_name": "StyleView",
            "description_width": ""
          }
        },
        "0bab6dabfcd64667a54055dbf7fdad70": {
          "model_module": "@jupyter-widgets/base",
          "model_name": "LayoutModel",
          "model_module_version": "1.2.0",
          "state": {
            "_model_module": "@jupyter-widgets/base",
            "_model_module_version": "1.2.0",
            "_model_name": "LayoutModel",
            "_view_count": null,
            "_view_module": "@jupyter-widgets/base",
            "_view_module_version": "1.2.0",
            "_view_name": "LayoutView",
            "align_content": null,
            "align_items": null,
            "align_self": null,
            "border": null,
            "bottom": null,
            "display": null,
            "flex": null,
            "flex_flow": null,
            "grid_area": null,
            "grid_auto_columns": null,
            "grid_auto_flow": null,
            "grid_auto_rows": null,
            "grid_column": null,
            "grid_gap": null,
            "grid_row": null,
            "grid_template_areas": null,
            "grid_template_columns": null,
            "grid_template_rows": null,
            "height": null,
            "justify_content": null,
            "justify_items": null,
            "left": null,
            "margin": null,
            "max_height": null,
            "max_width": null,
            "min_height": null,
            "min_width": null,
            "object_fit": null,
            "object_position": null,
            "order": null,
            "overflow": null,
            "overflow_x": null,
            "overflow_y": null,
            "padding": null,
            "right": null,
            "top": null,
            "visibility": null,
            "width": null
          }
        },
        "32fbd8ac8616497fa7da6e7880a24804": {
          "model_module": "@jupyter-widgets/controls",
          "model_name": "ProgressStyleModel",
          "model_module_version": "1.5.0",
          "state": {
            "_model_module": "@jupyter-widgets/controls",
            "_model_module_version": "1.5.0",
            "_model_name": "ProgressStyleModel",
            "_view_count": null,
            "_view_module": "@jupyter-widgets/base",
            "_view_module_version": "1.2.0",
            "_view_name": "StyleView",
            "bar_color": null,
            "description_width": ""
          }
        },
        "93a928474ede48818f5acd526aa7cc35": {
          "model_module": "@jupyter-widgets/base",
          "model_name": "LayoutModel",
          "model_module_version": "1.2.0",
          "state": {
            "_model_module": "@jupyter-widgets/base",
            "_model_module_version": "1.2.0",
            "_model_name": "LayoutModel",
            "_view_count": null,
            "_view_module": "@jupyter-widgets/base",
            "_view_module_version": "1.2.0",
            "_view_name": "LayoutView",
            "align_content": null,
            "align_items": null,
            "align_self": null,
            "border": null,
            "bottom": null,
            "display": null,
            "flex": null,
            "flex_flow": null,
            "grid_area": null,
            "grid_auto_columns": null,
            "grid_auto_flow": null,
            "grid_auto_rows": null,
            "grid_column": null,
            "grid_gap": null,
            "grid_row": null,
            "grid_template_areas": null,
            "grid_template_columns": null,
            "grid_template_rows": null,
            "height": null,
            "justify_content": null,
            "justify_items": null,
            "left": null,
            "margin": null,
            "max_height": null,
            "max_width": null,
            "min_height": null,
            "min_width": null,
            "object_fit": null,
            "object_position": null,
            "order": null,
            "overflow": null,
            "overflow_x": null,
            "overflow_y": null,
            "padding": null,
            "right": null,
            "top": null,
            "visibility": null,
            "width": null
          }
        },
        "7775783b6c7a4773b4af5e0115fbf500": {
          "model_module": "@jupyter-widgets/controls",
          "model_name": "DescriptionStyleModel",
          "model_module_version": "1.5.0",
          "state": {
            "_model_module": "@jupyter-widgets/controls",
            "_model_module_version": "1.5.0",
            "_model_name": "DescriptionStyleModel",
            "_view_count": null,
            "_view_module": "@jupyter-widgets/base",
            "_view_module_version": "1.2.0",
            "_view_name": "StyleView",
            "description_width": ""
          }
        },
        "9ed9f96f4f9942388772402a2d439d27": {
          "model_module": "@jupyter-widgets/controls",
          "model_name": "HBoxModel",
          "model_module_version": "1.5.0",
          "state": {
            "_dom_classes": [],
            "_model_module": "@jupyter-widgets/controls",
            "_model_module_version": "1.5.0",
            "_model_name": "HBoxModel",
            "_view_count": null,
            "_view_module": "@jupyter-widgets/controls",
            "_view_module_version": "1.5.0",
            "_view_name": "HBoxView",
            "box_style": "",
            "children": [
              "IPY_MODEL_e724e39cfb69488c95a86d1480c04149",
              "IPY_MODEL_3962d390a7844471b578e5c26c0463cf",
              "IPY_MODEL_db27b0627a33474ab45eae6c15a7c298"
            ],
            "layout": "IPY_MODEL_68e18c0d9e04496dada92b4fba0d5ffe"
          }
        },
        "e724e39cfb69488c95a86d1480c04149": {
          "model_module": "@jupyter-widgets/controls",
          "model_name": "HTMLModel",
          "model_module_version": "1.5.0",
          "state": {
            "_dom_classes": [],
            "_model_module": "@jupyter-widgets/controls",
            "_model_module_version": "1.5.0",
            "_model_name": "HTMLModel",
            "_view_count": null,
            "_view_module": "@jupyter-widgets/controls",
            "_view_module_version": "1.5.0",
            "_view_name": "HTMLView",
            "description": "",
            "description_tooltip": null,
            "layout": "IPY_MODEL_44a7a8c556fe4201a86d8af284a42c72",
            "placeholder": "​",
            "style": "IPY_MODEL_d73c3adc3ef845a78f114481b37d745d",
            "value": "Shuffling /root/tensorflow_datasets/food101/2.0.0.incompleteU1994Q/food101-validation.tfrecord*...:  99%"
          }
        },
        "3962d390a7844471b578e5c26c0463cf": {
          "model_module": "@jupyter-widgets/controls",
          "model_name": "FloatProgressModel",
          "model_module_version": "1.5.0",
          "state": {
            "_dom_classes": [],
            "_model_module": "@jupyter-widgets/controls",
            "_model_module_version": "1.5.0",
            "_model_name": "FloatProgressModel",
            "_view_count": null,
            "_view_module": "@jupyter-widgets/controls",
            "_view_module_version": "1.5.0",
            "_view_name": "ProgressView",
            "bar_style": "",
            "description": "",
            "description_tooltip": null,
            "layout": "IPY_MODEL_97d1dcbed1a84c769eb2aa0da018a88f",
            "max": 25250,
            "min": 0,
            "orientation": "horizontal",
            "style": "IPY_MODEL_ad608141a2df438691b19132b3154955",
            "value": 25250
          }
        },
        "db27b0627a33474ab45eae6c15a7c298": {
          "model_module": "@jupyter-widgets/controls",
          "model_name": "HTMLModel",
          "model_module_version": "1.5.0",
          "state": {
            "_dom_classes": [],
            "_model_module": "@jupyter-widgets/controls",
            "_model_module_version": "1.5.0",
            "_model_name": "HTMLModel",
            "_view_count": null,
            "_view_module": "@jupyter-widgets/controls",
            "_view_module_version": "1.5.0",
            "_view_name": "HTMLView",
            "description": "",
            "description_tooltip": null,
            "layout": "IPY_MODEL_3bcb206c24f5430a964952ff21c7f6d8",
            "placeholder": "​",
            "style": "IPY_MODEL_f48d4751dafb4b7fafc64806dbc49825",
            "value": " 24909/25250 [00:05&lt;00:00, 5242.44 examples/s]"
          }
        },
        "68e18c0d9e04496dada92b4fba0d5ffe": {
          "model_module": "@jupyter-widgets/base",
          "model_name": "LayoutModel",
          "model_module_version": "1.2.0",
          "state": {
            "_model_module": "@jupyter-widgets/base",
            "_model_module_version": "1.2.0",
            "_model_name": "LayoutModel",
            "_view_count": null,
            "_view_module": "@jupyter-widgets/base",
            "_view_module_version": "1.2.0",
            "_view_name": "LayoutView",
            "align_content": null,
            "align_items": null,
            "align_self": null,
            "border": null,
            "bottom": null,
            "display": null,
            "flex": null,
            "flex_flow": null,
            "grid_area": null,
            "grid_auto_columns": null,
            "grid_auto_flow": null,
            "grid_auto_rows": null,
            "grid_column": null,
            "grid_gap": null,
            "grid_row": null,
            "grid_template_areas": null,
            "grid_template_columns": null,
            "grid_template_rows": null,
            "height": null,
            "justify_content": null,
            "justify_items": null,
            "left": null,
            "margin": null,
            "max_height": null,
            "max_width": null,
            "min_height": null,
            "min_width": null,
            "object_fit": null,
            "object_position": null,
            "order": null,
            "overflow": null,
            "overflow_x": null,
            "overflow_y": null,
            "padding": null,
            "right": null,
            "top": null,
            "visibility": "hidden",
            "width": null
          }
        },
        "44a7a8c556fe4201a86d8af284a42c72": {
          "model_module": "@jupyter-widgets/base",
          "model_name": "LayoutModel",
          "model_module_version": "1.2.0",
          "state": {
            "_model_module": "@jupyter-widgets/base",
            "_model_module_version": "1.2.0",
            "_model_name": "LayoutModel",
            "_view_count": null,
            "_view_module": "@jupyter-widgets/base",
            "_view_module_version": "1.2.0",
            "_view_name": "LayoutView",
            "align_content": null,
            "align_items": null,
            "align_self": null,
            "border": null,
            "bottom": null,
            "display": null,
            "flex": null,
            "flex_flow": null,
            "grid_area": null,
            "grid_auto_columns": null,
            "grid_auto_flow": null,
            "grid_auto_rows": null,
            "grid_column": null,
            "grid_gap": null,
            "grid_row": null,
            "grid_template_areas": null,
            "grid_template_columns": null,
            "grid_template_rows": null,
            "height": null,
            "justify_content": null,
            "justify_items": null,
            "left": null,
            "margin": null,
            "max_height": null,
            "max_width": null,
            "min_height": null,
            "min_width": null,
            "object_fit": null,
            "object_position": null,
            "order": null,
            "overflow": null,
            "overflow_x": null,
            "overflow_y": null,
            "padding": null,
            "right": null,
            "top": null,
            "visibility": null,
            "width": null
          }
        },
        "d73c3adc3ef845a78f114481b37d745d": {
          "model_module": "@jupyter-widgets/controls",
          "model_name": "DescriptionStyleModel",
          "model_module_version": "1.5.0",
          "state": {
            "_model_module": "@jupyter-widgets/controls",
            "_model_module_version": "1.5.0",
            "_model_name": "DescriptionStyleModel",
            "_view_count": null,
            "_view_module": "@jupyter-widgets/base",
            "_view_module_version": "1.2.0",
            "_view_name": "StyleView",
            "description_width": ""
          }
        },
        "97d1dcbed1a84c769eb2aa0da018a88f": {
          "model_module": "@jupyter-widgets/base",
          "model_name": "LayoutModel",
          "model_module_version": "1.2.0",
          "state": {
            "_model_module": "@jupyter-widgets/base",
            "_model_module_version": "1.2.0",
            "_model_name": "LayoutModel",
            "_view_count": null,
            "_view_module": "@jupyter-widgets/base",
            "_view_module_version": "1.2.0",
            "_view_name": "LayoutView",
            "align_content": null,
            "align_items": null,
            "align_self": null,
            "border": null,
            "bottom": null,
            "display": null,
            "flex": null,
            "flex_flow": null,
            "grid_area": null,
            "grid_auto_columns": null,
            "grid_auto_flow": null,
            "grid_auto_rows": null,
            "grid_column": null,
            "grid_gap": null,
            "grid_row": null,
            "grid_template_areas": null,
            "grid_template_columns": null,
            "grid_template_rows": null,
            "height": null,
            "justify_content": null,
            "justify_items": null,
            "left": null,
            "margin": null,
            "max_height": null,
            "max_width": null,
            "min_height": null,
            "min_width": null,
            "object_fit": null,
            "object_position": null,
            "order": null,
            "overflow": null,
            "overflow_x": null,
            "overflow_y": null,
            "padding": null,
            "right": null,
            "top": null,
            "visibility": null,
            "width": null
          }
        },
        "ad608141a2df438691b19132b3154955": {
          "model_module": "@jupyter-widgets/controls",
          "model_name": "ProgressStyleModel",
          "model_module_version": "1.5.0",
          "state": {
            "_model_module": "@jupyter-widgets/controls",
            "_model_module_version": "1.5.0",
            "_model_name": "ProgressStyleModel",
            "_view_count": null,
            "_view_module": "@jupyter-widgets/base",
            "_view_module_version": "1.2.0",
            "_view_name": "StyleView",
            "bar_color": null,
            "description_width": ""
          }
        },
        "3bcb206c24f5430a964952ff21c7f6d8": {
          "model_module": "@jupyter-widgets/base",
          "model_name": "LayoutModel",
          "model_module_version": "1.2.0",
          "state": {
            "_model_module": "@jupyter-widgets/base",
            "_model_module_version": "1.2.0",
            "_model_name": "LayoutModel",
            "_view_count": null,
            "_view_module": "@jupyter-widgets/base",
            "_view_module_version": "1.2.0",
            "_view_name": "LayoutView",
            "align_content": null,
            "align_items": null,
            "align_self": null,
            "border": null,
            "bottom": null,
            "display": null,
            "flex": null,
            "flex_flow": null,
            "grid_area": null,
            "grid_auto_columns": null,
            "grid_auto_flow": null,
            "grid_auto_rows": null,
            "grid_column": null,
            "grid_gap": null,
            "grid_row": null,
            "grid_template_areas": null,
            "grid_template_columns": null,
            "grid_template_rows": null,
            "height": null,
            "justify_content": null,
            "justify_items": null,
            "left": null,
            "margin": null,
            "max_height": null,
            "max_width": null,
            "min_height": null,
            "min_width": null,
            "object_fit": null,
            "object_position": null,
            "order": null,
            "overflow": null,
            "overflow_x": null,
            "overflow_y": null,
            "padding": null,
            "right": null,
            "top": null,
            "visibility": null,
            "width": null
          }
        },
        "f48d4751dafb4b7fafc64806dbc49825": {
          "model_module": "@jupyter-widgets/controls",
          "model_name": "DescriptionStyleModel",
          "model_module_version": "1.5.0",
          "state": {
            "_model_module": "@jupyter-widgets/controls",
            "_model_module_version": "1.5.0",
            "_model_name": "DescriptionStyleModel",
            "_view_count": null,
            "_view_module": "@jupyter-widgets/base",
            "_view_module_version": "1.2.0",
            "_view_name": "StyleView",
            "description_width": ""
          }
        }
      }
    }
  },
  "cells": [
    {
      "cell_type": "markdown",
      "metadata": {
        "id": "view-in-github",
        "colab_type": "text"
      },
      "source": [
        "<a href=\"https://colab.research.google.com/github/rahulrajpr/milestone_projects/blob/main/food_vision101/DeepLearning_FoodVision101.ipynb\" target=\"_parent\"><img src=\"https://colab.research.google.com/assets/colab-badge.svg\" alt=\"Open In Colab\"/></a>"
      ]
    },
    {
      "cell_type": "code",
      "source": [
        "# version control on tensorflow\n",
        "from IPython.display import clear_output\n",
        "!pip install tensorflow==2.9.0\n",
        "clear_output()\n",
        "import tensorflow as tf\n",
        "tf.__version__"
      ],
      "metadata": {
        "id": "Dek0aNvZMCBd",
        "colab": {
          "base_uri": "https://localhost:8080/",
          "height": 36
        },
        "outputId": "2fb8e447-432c-4d57-b251-9cf150ae5aba"
      },
      "execution_count": null,
      "outputs": [
        {
          "output_type": "execute_result",
          "data": {
            "text/plain": [
              "'2.9.0'"
            ],
            "application/vnd.google.colaboratory.intrinsic+json": {
              "type": "string"
            }
          },
          "metadata": {},
          "execution_count": 1
        }
      ]
    },
    {
      "cell_type": "markdown",
      "source": [
        "> Import usual libraries"
      ],
      "metadata": {
        "id": "am9cpWMJWNGD"
      }
    },
    {
      "cell_type": "code",
      "execution_count": null,
      "metadata": {
        "id": "w5SWtY2UVpDP"
      },
      "outputs": [],
      "source": [
        "import pandas as pd\n",
        "import numpy as np\n",
        "import matplotlib.pyplot as plt\n",
        "import os\n",
        "import random\n",
        "import warnings\n",
        "warnings.filterwarnings('ignore')"
      ]
    },
    {
      "cell_type": "markdown",
      "source": [
        "> Bench Mark Paper\n",
        "\n",
        "https://arxiv.org/pdf/1606.05675.pdf"
      ],
      "metadata": {
        "id": "q0_VxmaJ8R99"
      }
    },
    {
      "cell_type": "markdown",
      "source": [
        "![Screenshot from 2023-02-23 16-33-05.png](data:image/png;base64,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)"
      ],
      "metadata": {
        "id": "MlFU9x4u8Ptm"
      }
    },
    {
      "cell_type": "markdown",
      "source": [
        "> Check the GPU"
      ],
      "metadata": {
        "id": "ClRYWLrkWgFm"
      }
    },
    {
      "cell_type": "code",
      "source": [
        "!nvidia-smi -L"
      ],
      "metadata": {
        "id": "co3jAhOAWVNR",
        "colab": {
          "base_uri": "https://localhost:8080/"
        },
        "outputId": "8a9cee4a-4827-453c-f38b-d21f2a190da7"
      },
      "execution_count": null,
      "outputs": [
        {
          "output_type": "stream",
          "name": "stdout",
          "text": [
            "GPU 0: Tesla T4 (UUID: GPU-866905e1-0508-d17f-104e-0f08701b23a5)\n"
          ]
        }
      ]
    },
    {
      "cell_type": "markdown",
      "source": [
        "In this project, we use mixprecision to accelarate the model training, which works to its benifit in GPU with computation power > 7.0"
      ],
      "metadata": {
        "id": "fPxQ-A9nWmt1"
      }
    },
    {
      "cell_type": "markdown",
      "source": [
        "> Get the helper functions.py"
      ],
      "metadata": {
        "id": "O11EirQjW6zZ"
      }
    },
    {
      "cell_type": "code",
      "source": [
        "!wget https://raw.githubusercontent.com/rahulrajpr/references/main/helper_functions.py"
      ],
      "metadata": {
        "id": "-YhSYaNDWi5J",
        "colab": {
          "base_uri": "https://localhost:8080/"
        },
        "outputId": "ea77a219-d3ed-46af-de9d-fa70cc927988"
      },
      "execution_count": null,
      "outputs": [
        {
          "output_type": "stream",
          "name": "stdout",
          "text": [
            "--2023-02-24 03:13:39--  https://raw.githubusercontent.com/rahulrajpr/references/main/helper_functions.py\n",
            "Resolving raw.githubusercontent.com (raw.githubusercontent.com)... 185.199.110.133, 185.199.109.133, 185.199.108.133, ...\n",
            "Connecting to raw.githubusercontent.com (raw.githubusercontent.com)|185.199.110.133|:443... connected.\n",
            "HTTP request sent, awaiting response... 200 OK\n",
            "Length: 12000 (12K) [text/plain]\n",
            "Saving to: ‘helper_functions.py’\n",
            "\n",
            "\rhelper_functions.py   0%[                    ]       0  --.-KB/s               \rhelper_functions.py 100%[===================>]  11.72K  --.-KB/s    in 0s      \n",
            "\n",
            "2023-02-24 03:13:39 (89.5 MB/s) - ‘helper_functions.py’ saved [12000/12000]\n",
            "\n"
          ]
        }
      ]
    },
    {
      "cell_type": "code",
      "source": [
        "from helper_functions import create_tensorboard_callback,plot_loss_curves,compare_historys"
      ],
      "metadata": {
        "id": "muhibw6gXFeY"
      },
      "execution_count": null,
      "outputs": []
    },
    {
      "cell_type": "markdown",
      "source": [
        "> Lets Define the Global variables"
      ],
      "metadata": {
        "id": "ECncoFedu1Lw"
      }
    },
    {
      "cell_type": "code",
      "source": [
        "IMG_SIZE = (224,224)\n",
        "BATCH_SIZE = 32"
      ],
      "metadata": {
        "id": "jcrrXxXju7dH"
      },
      "execution_count": null,
      "outputs": []
    },
    {
      "cell_type": "markdown",
      "source": [
        "> Get the DataSet from TensorFlow DataSet"
      ],
      "metadata": {
        "id": "QMaSmKr7XauI"
      }
    },
    {
      "cell_type": "code",
      "source": [
        "import tensorflow_datasets as tfds"
      ],
      "metadata": {
        "id": "8lQzOek4XXfj"
      },
      "execution_count": null,
      "outputs": []
    },
    {
      "cell_type": "code",
      "source": [
        "dataset_list = tfds.list_builders()\n",
        "dataset_list"
      ],
      "metadata": {
        "id": "gPE1zhAXXkj_",
        "colab": {
          "base_uri": "https://localhost:8080/"
        },
        "outputId": "1f87790b-36f3-42db-9942-f2a0a42c9e9e"
      },
      "execution_count": null,
      "outputs": [
        {
          "output_type": "execute_result",
          "data": {
            "text/plain": [
              "['abstract_reasoning',\n",
              " 'accentdb',\n",
              " 'aeslc',\n",
              " 'aflw2k3d',\n",
              " 'ag_news_subset',\n",
              " 'ai2_arc',\n",
              " 'ai2_arc_with_ir',\n",
              " 'amazon_us_reviews',\n",
              " 'anli',\n",
              " 'answer_equivalence',\n",
              " 'arc',\n",
              " 'asqa',\n",
              " 'asset',\n",
              " 'assin2',\n",
              " 'bair_robot_pushing_small',\n",
              " 'bccd',\n",
              " 'beans',\n",
              " 'bee_dataset',\n",
              " 'beir',\n",
              " 'big_patent',\n",
              " 'bigearthnet',\n",
              " 'billsum',\n",
              " 'binarized_mnist',\n",
              " 'binary_alpha_digits',\n",
              " 'ble_wind_field',\n",
              " 'blimp',\n",
              " 'booksum',\n",
              " 'bool_q',\n",
              " 'bucc',\n",
              " 'c4',\n",
              " 'c4_wsrs',\n",
              " 'caltech101',\n",
              " 'caltech_birds2010',\n",
              " 'caltech_birds2011',\n",
              " 'cardiotox',\n",
              " 'cars196',\n",
              " 'cassava',\n",
              " 'cats_vs_dogs',\n",
              " 'celeb_a',\n",
              " 'celeb_a_hq',\n",
              " 'cfq',\n",
              " 'cherry_blossoms',\n",
              " 'chexpert',\n",
              " 'cifar10',\n",
              " 'cifar100',\n",
              " 'cifar100_n',\n",
              " 'cifar10_1',\n",
              " 'cifar10_corrupted',\n",
              " 'cifar10_n',\n",
              " 'citrus_leaves',\n",
              " 'cityscapes',\n",
              " 'civil_comments',\n",
              " 'clevr',\n",
              " 'clic',\n",
              " 'clinc_oos',\n",
              " 'cmaterdb',\n",
              " 'cnn_dailymail',\n",
              " 'coco',\n",
              " 'coco_captions',\n",
              " 'coil100',\n",
              " 'colorectal_histology',\n",
              " 'colorectal_histology_large',\n",
              " 'common_voice',\n",
              " 'conll2002',\n",
              " 'conll2003',\n",
              " 'controlled_noisy_web_labels',\n",
              " 'coqa',\n",
              " 'cos_e',\n",
              " 'cosmos_qa',\n",
              " 'covid19',\n",
              " 'covid19sum',\n",
              " 'crema_d',\n",
              " 'criteo',\n",
              " 'cs_restaurants',\n",
              " 'curated_breast_imaging_ddsm',\n",
              " 'cycle_gan',\n",
              " 'd4rl_adroit_door',\n",
              " 'd4rl_adroit_hammer',\n",
              " 'd4rl_adroit_pen',\n",
              " 'd4rl_adroit_relocate',\n",
              " 'd4rl_antmaze',\n",
              " 'd4rl_mujoco_ant',\n",
              " 'd4rl_mujoco_halfcheetah',\n",
              " 'd4rl_mujoco_hopper',\n",
              " 'd4rl_mujoco_walker2d',\n",
              " 'dart',\n",
              " 'davis',\n",
              " 'deep1b',\n",
              " 'deep_weeds',\n",
              " 'definite_pronoun_resolution',\n",
              " 'dementiabank',\n",
              " 'diabetic_retinopathy_detection',\n",
              " 'diamonds',\n",
              " 'div2k',\n",
              " 'dmlab',\n",
              " 'doc_nli',\n",
              " 'dolphin_number_word',\n",
              " 'domainnet',\n",
              " 'downsampled_imagenet',\n",
              " 'drop',\n",
              " 'dsprites',\n",
              " 'dtd',\n",
              " 'duke_ultrasound',\n",
              " 'e2e_cleaned',\n",
              " 'efron_morris75',\n",
              " 'emnist',\n",
              " 'eraser_multi_rc',\n",
              " 'esnli',\n",
              " 'eurosat',\n",
              " 'fashion_mnist',\n",
              " 'flic',\n",
              " 'flores',\n",
              " 'food101',\n",
              " 'forest_fires',\n",
              " 'fuss',\n",
              " 'gap',\n",
              " 'geirhos_conflict_stimuli',\n",
              " 'gem',\n",
              " 'genomics_ood',\n",
              " 'german_credit_numeric',\n",
              " 'gigaword',\n",
              " 'glove100_angular',\n",
              " 'glue',\n",
              " 'goemotions',\n",
              " 'gov_report',\n",
              " 'gpt3',\n",
              " 'gref',\n",
              " 'groove',\n",
              " 'grounded_scan',\n",
              " 'gsm8k',\n",
              " 'gtzan',\n",
              " 'gtzan_music_speech',\n",
              " 'hellaswag',\n",
              " 'higgs',\n",
              " 'hillstrom',\n",
              " 'horses_or_humans',\n",
              " 'howell',\n",
              " 'i_naturalist2017',\n",
              " 'i_naturalist2018',\n",
              " 'i_naturalist2021',\n",
              " 'imagenet2012',\n",
              " 'imagenet2012_corrupted',\n",
              " 'imagenet2012_fewshot',\n",
              " 'imagenet2012_multilabel',\n",
              " 'imagenet2012_real',\n",
              " 'imagenet2012_subset',\n",
              " 'imagenet_a',\n",
              " 'imagenet_lt',\n",
              " 'imagenet_r',\n",
              " 'imagenet_resized',\n",
              " 'imagenet_sketch',\n",
              " 'imagenet_v2',\n",
              " 'imagenette',\n",
              " 'imagewang',\n",
              " 'imdb_reviews',\n",
              " 'irc_disentanglement',\n",
              " 'iris',\n",
              " 'istella',\n",
              " 'kddcup99',\n",
              " 'kitti',\n",
              " 'kmnist',\n",
              " 'laion400m',\n",
              " 'lambada',\n",
              " 'lfw',\n",
              " 'librispeech',\n",
              " 'librispeech_lm',\n",
              " 'libritts',\n",
              " 'ljspeech',\n",
              " 'lm1b',\n",
              " 'locomotion',\n",
              " 'lost_and_found',\n",
              " 'lsun',\n",
              " 'lvis',\n",
              " 'malaria',\n",
              " 'math_dataset',\n",
              " 'math_qa',\n",
              " 'mctaco',\n",
              " 'media_sum',\n",
              " 'mlqa',\n",
              " 'mnist',\n",
              " 'mnist_corrupted',\n",
              " 'movie_lens',\n",
              " 'movie_rationales',\n",
              " 'movielens',\n",
              " 'moving_mnist',\n",
              " 'mrqa',\n",
              " 'mslr_web',\n",
              " 'mt_opt',\n",
              " 'mtnt',\n",
              " 'multi_news',\n",
              " 'multi_nli',\n",
              " 'multi_nli_mismatch',\n",
              " 'natural_instructions',\n",
              " 'natural_questions',\n",
              " 'natural_questions_open',\n",
              " 'newsroom',\n",
              " 'nsynth',\n",
              " 'nyu_depth_v2',\n",
              " 'ogbg_molpcba',\n",
              " 'omniglot',\n",
              " 'open_images_challenge2019_detection',\n",
              " 'open_images_v4',\n",
              " 'openbookqa',\n",
              " 'opinion_abstracts',\n",
              " 'opinosis',\n",
              " 'opus',\n",
              " 'oxford_flowers102',\n",
              " 'oxford_iiit_pet',\n",
              " 'para_crawl',\n",
              " 'pass',\n",
              " 'patch_camelyon',\n",
              " 'paws_wiki',\n",
              " 'paws_x_wiki',\n",
              " 'penguins',\n",
              " 'pet_finder',\n",
              " 'pg19',\n",
              " 'piqa',\n",
              " 'places365_small',\n",
              " 'placesfull',\n",
              " 'plant_leaves',\n",
              " 'plant_village',\n",
              " 'plantae_k',\n",
              " 'protein_net',\n",
              " 'q_re_cc',\n",
              " 'qa4mre',\n",
              " 'qasc',\n",
              " 'quac',\n",
              " 'quality',\n",
              " 'quickdraw_bitmap',\n",
              " 'race',\n",
              " 'radon',\n",
              " 'reddit',\n",
              " 'reddit_disentanglement',\n",
              " 'reddit_tifu',\n",
              " 'ref_coco',\n",
              " 'resisc45',\n",
              " 'rlu_atari',\n",
              " 'rlu_atari_checkpoints',\n",
              " 'rlu_atari_checkpoints_ordered',\n",
              " 'rlu_control_suite',\n",
              " 'rlu_dmlab_explore_object_rewards_few',\n",
              " 'rlu_dmlab_explore_object_rewards_many',\n",
              " 'rlu_dmlab_rooms_select_nonmatching_object',\n",
              " 'rlu_dmlab_rooms_watermaze',\n",
              " 'rlu_dmlab_seekavoid_arena01',\n",
              " 'rlu_locomotion',\n",
              " 'rlu_rwrl',\n",
              " 'robomimic_ph',\n",
              " 'robonet',\n",
              " 'robosuite_panda_pick_place_can',\n",
              " 'rock_paper_scissors',\n",
              " 'rock_you',\n",
              " 's3o4d',\n",
              " 'salient_span_wikipedia',\n",
              " 'samsum',\n",
              " 'savee',\n",
              " 'scan',\n",
              " 'scene_parse150',\n",
              " 'schema_guided_dialogue',\n",
              " 'sci_tail',\n",
              " 'scicite',\n",
              " 'scientific_papers',\n",
              " 'scrolls',\n",
              " 'sentiment140',\n",
              " 'shapes3d',\n",
              " 'sift1m',\n",
              " 'simpte',\n",
              " 'siscore',\n",
              " 'smallnorb',\n",
              " 'smartwatch_gestures',\n",
              " 'snli',\n",
              " 'so2sat',\n",
              " 'speech_commands',\n",
              " 'spoken_digit',\n",
              " 'squad',\n",
              " 'squad_question_generation',\n",
              " 'stanford_dogs',\n",
              " 'stanford_online_products',\n",
              " 'star_cfq',\n",
              " 'starcraft_video',\n",
              " 'stl10',\n",
              " 'story_cloze',\n",
              " 'summscreen',\n",
              " 'sun397',\n",
              " 'super_glue',\n",
              " 'svhn_cropped',\n",
              " 'symmetric_solids',\n",
              " 'tao',\n",
              " 'tatoeba',\n",
              " 'ted_hrlr_translate',\n",
              " 'ted_multi_translate',\n",
              " 'tedlium',\n",
              " 'tf_flowers',\n",
              " 'the300w_lp',\n",
              " 'tiny_shakespeare',\n",
              " 'titanic',\n",
              " 'trec',\n",
              " 'trivia_qa',\n",
              " 'tydi_qa',\n",
              " 'uc_merced',\n",
              " 'ucf101',\n",
              " 'unified_qa',\n",
              " 'universal_dependencies',\n",
              " 'unnatural_instructions',\n",
              " 'user_libri_audio',\n",
              " 'user_libri_text',\n",
              " 'vctk',\n",
              " 'visual_domain_decathlon',\n",
              " 'voc',\n",
              " 'voxceleb',\n",
              " 'voxforge',\n",
              " 'waymo_open_dataset',\n",
              " 'web_graph',\n",
              " 'web_nlg',\n",
              " 'web_questions',\n",
              " 'wider_face',\n",
              " 'wiki40b',\n",
              " 'wiki_auto',\n",
              " 'wiki_bio',\n",
              " 'wiki_dialog',\n",
              " 'wiki_table_questions',\n",
              " 'wiki_table_text',\n",
              " 'wikiann',\n",
              " 'wikihow',\n",
              " 'wikipedia',\n",
              " 'wikipedia_toxicity_subtypes',\n",
              " 'wine_quality',\n",
              " 'winogrande',\n",
              " 'wit',\n",
              " 'wit_kaggle',\n",
              " 'wmt13_translate',\n",
              " 'wmt14_translate',\n",
              " 'wmt15_translate',\n",
              " 'wmt16_translate',\n",
              " 'wmt17_translate',\n",
              " 'wmt18_translate',\n",
              " 'wmt19_translate',\n",
              " 'wmt_t2t_translate',\n",
              " 'wmt_translate',\n",
              " 'wordnet',\n",
              " 'wsc273',\n",
              " 'xnli',\n",
              " 'xquad',\n",
              " 'xsum',\n",
              " 'xtreme_pawsx',\n",
              " 'xtreme_pos',\n",
              " 'xtreme_s',\n",
              " 'xtreme_xnli',\n",
              " 'yahoo_ltrc',\n",
              " 'yelp_polarity_reviews',\n",
              " 'yes_no',\n",
              " 'youtube_vis',\n",
              " 'huggingface:acronym_identification',\n",
              " 'huggingface:ade_corpus_v2',\n",
              " 'huggingface:adv_glue',\n",
              " 'huggingface:adversarial_qa',\n",
              " 'huggingface:aeslc',\n",
              " 'huggingface:afrikaans_ner_corpus',\n",
              " 'huggingface:ag_news',\n",
              " 'huggingface:ai2_arc',\n",
              " 'huggingface:air_dialogue',\n",
              " 'huggingface:ajgt_twitter_ar',\n",
              " 'huggingface:allegro_reviews',\n",
              " 'huggingface:allocine',\n",
              " 'huggingface:alt',\n",
              " 'huggingface:amazon_polarity',\n",
              " 'huggingface:amazon_reviews_multi',\n",
              " 'huggingface:amazon_us_reviews',\n",
              " 'huggingface:ambig_qa',\n",
              " 'huggingface:americas_nli',\n",
              " 'huggingface:ami',\n",
              " 'huggingface:amttl',\n",
              " 'huggingface:anli',\n",
              " 'huggingface:app_reviews',\n",
              " 'huggingface:aqua_rat',\n",
              " 'huggingface:aquamuse',\n",
              " 'huggingface:ar_cov19',\n",
              " 'huggingface:ar_res_reviews',\n",
              " 'huggingface:ar_sarcasm',\n",
              " 'huggingface:arabic_billion_words',\n",
              " 'huggingface:arabic_pos_dialect',\n",
              " 'huggingface:arabic_speech_corpus',\n",
              " 'huggingface:arcd',\n",
              " 'huggingface:arsentd_lev',\n",
              " 'huggingface:art',\n",
              " 'huggingface:arxiv_dataset',\n",
              " 'huggingface:ascent_kb',\n",
              " 'huggingface:aslg_pc12',\n",
              " 'huggingface:asnq',\n",
              " 'huggingface:asset',\n",
              " 'huggingface:assin',\n",
              " 'huggingface:assin2',\n",
              " 'huggingface:atomic',\n",
              " 'huggingface:autshumato',\n",
              " 'huggingface:babi_qa',\n",
              " 'huggingface:banking77',\n",
              " 'huggingface:bbaw_egyptian',\n",
              " 'huggingface:bbc_hindi_nli',\n",
              " 'huggingface:bc2gm_corpus',\n",
              " 'huggingface:beans',\n",
              " 'huggingface:best2009',\n",
              " 'huggingface:bianet',\n",
              " 'huggingface:bible_para',\n",
              " 'huggingface:big_patent',\n",
              " 'huggingface:bigbench',\n",
              " 'huggingface:billsum',\n",
              " 'huggingface:bing_coronavirus_query_set',\n",
              " 'huggingface:biomrc',\n",
              " 'huggingface:biosses',\n",
              " 'huggingface:biwi_kinect_head_pose',\n",
              " 'huggingface:blbooks',\n",
              " 'huggingface:blbooksgenre',\n",
              " 'huggingface:blended_skill_talk',\n",
              " 'huggingface:blimp',\n",
              " 'huggingface:blog_authorship_corpus',\n",
              " 'huggingface:bn_hate_speech',\n",
              " 'huggingface:bnl_newspapers',\n",
              " 'huggingface:bookcorpus',\n",
              " 'huggingface:bookcorpusopen',\n",
              " 'huggingface:boolq',\n",
              " 'huggingface:bprec',\n",
              " 'huggingface:break_data',\n",
              " 'huggingface:brwac',\n",
              " 'huggingface:bsd_ja_en',\n",
              " 'huggingface:bswac',\n",
              " 'huggingface:c3',\n",
              " 'huggingface:c4',\n",
              " 'huggingface:cail2018',\n",
              " 'huggingface:caner',\n",
              " 'huggingface:capes',\n",
              " 'huggingface:casino',\n",
              " 'huggingface:catalonia_independence',\n",
              " 'huggingface:cats_vs_dogs',\n",
              " 'huggingface:cawac',\n",
              " 'huggingface:cbt',\n",
              " 'huggingface:cc100',\n",
              " 'huggingface:cc_news',\n",
              " 'huggingface:ccaligned_multilingual',\n",
              " 'huggingface:cdsc',\n",
              " 'huggingface:cdt',\n",
              " 'huggingface:cedr',\n",
              " 'huggingface:cfq',\n",
              " 'huggingface:chr_en',\n",
              " 'huggingface:cifar10',\n",
              " 'huggingface:cifar100',\n",
              " 'huggingface:circa',\n",
              " 'huggingface:civil_comments',\n",
              " 'huggingface:clickbait_news_bg',\n",
              " 'huggingface:climate_fever',\n",
              " 'huggingface:clinc_oos',\n",
              " 'huggingface:clue',\n",
              " 'huggingface:cmrc2018',\n",
              " 'huggingface:cmu_hinglish_dog',\n",
              " 'huggingface:cnn_dailymail',\n",
              " 'huggingface:coached_conv_pref',\n",
              " 'huggingface:coarse_discourse',\n",
              " 'huggingface:codah',\n",
              " 'huggingface:code_search_net',\n",
              " 'huggingface:code_x_glue_cc_clone_detection_big_clone_bench',\n",
              " 'huggingface:code_x_glue_cc_clone_detection_poj104',\n",
              " 'huggingface:code_x_glue_cc_cloze_testing_all',\n",
              " 'huggingface:code_x_glue_cc_cloze_testing_maxmin',\n",
              " 'huggingface:code_x_glue_cc_code_completion_line',\n",
              " 'huggingface:code_x_glue_cc_code_completion_token',\n",
              " 'huggingface:code_x_glue_cc_code_refinement',\n",
              " 'huggingface:code_x_glue_cc_code_to_code_trans',\n",
              " 'huggingface:code_x_glue_cc_defect_detection',\n",
              " 'huggingface:code_x_glue_ct_code_to_text',\n",
              " 'huggingface:code_x_glue_tc_nl_code_search_adv',\n",
              " 'huggingface:code_x_glue_tc_text_to_code',\n",
              " 'huggingface:code_x_glue_tt_text_to_text',\n",
              " 'huggingface:com_qa',\n",
              " 'huggingface:common_gen',\n",
              " 'huggingface:common_language',\n",
              " 'huggingface:common_voice',\n",
              " 'huggingface:commonsense_qa',\n",
              " 'huggingface:competition_math',\n",
              " 'huggingface:compguesswhat',\n",
              " 'huggingface:conceptnet5',\n",
              " 'huggingface:conceptual_12m',\n",
              " 'huggingface:conceptual_captions',\n",
              " 'huggingface:conll2000',\n",
              " 'huggingface:conll2002',\n",
              " 'huggingface:conll2003',\n",
              " 'huggingface:conll2012_ontonotesv5',\n",
              " 'huggingface:conllpp',\n",
              " 'huggingface:consumer-finance-complaints',\n",
              " 'huggingface:conv_ai',\n",
              " 'huggingface:conv_ai_2',\n",
              " 'huggingface:conv_ai_3',\n",
              " 'huggingface:conv_questions',\n",
              " 'huggingface:coqa',\n",
              " 'huggingface:cord19',\n",
              " 'huggingface:cornell_movie_dialog',\n",
              " 'huggingface:cos_e',\n",
              " 'huggingface:cosmos_qa',\n",
              " 'huggingface:counter',\n",
              " 'huggingface:covid_qa_castorini',\n",
              " 'huggingface:covid_qa_deepset',\n",
              " 'huggingface:covid_qa_ucsd',\n",
              " 'huggingface:covid_tweets_japanese',\n",
              " 'huggingface:covost2',\n",
              " 'huggingface:cppe-5',\n",
              " 'huggingface:craigslist_bargains',\n",
              " 'huggingface:crawl_domain',\n",
              " 'huggingface:crd3',\n",
              " 'huggingface:crime_and_punish',\n",
              " 'huggingface:crows_pairs',\n",
              " 'huggingface:cryptonite',\n",
              " 'huggingface:cs_restaurants',\n",
              " 'huggingface:cuad',\n",
              " 'huggingface:curiosity_dialogs',\n",
              " 'huggingface:daily_dialog',\n",
              " 'huggingface:dane',\n",
              " 'huggingface:danish_political_comments',\n",
              " 'huggingface:dart',\n",
              " 'huggingface:datacommons_factcheck',\n",
              " 'huggingface:dbpedia_14',\n",
              " 'huggingface:dbrd',\n",
              " 'huggingface:deal_or_no_dialog',\n",
              " 'huggingface:definite_pronoun_resolution',\n",
              " 'huggingface:dengue_filipino',\n",
              " 'huggingface:dialog_re',\n",
              " 'huggingface:diplomacy_detection',\n",
              " 'huggingface:disaster_response_messages',\n",
              " 'huggingface:discofuse',\n",
              " 'huggingface:discovery',\n",
              " 'huggingface:disfl_qa',\n",
              " 'huggingface:doc2dial',\n",
              " 'huggingface:docred',\n",
              " 'huggingface:doqa',\n",
              " 'huggingface:dream',\n",
              " 'huggingface:drop',\n",
              " 'huggingface:duorc',\n",
              " 'huggingface:dutch_social',\n",
              " 'huggingface:dyk',\n",
              " 'huggingface:e2e_nlg',\n",
              " 'huggingface:e2e_nlg_cleaned',\n",
              " 'huggingface:ecb',\n",
              " 'huggingface:ecthr_cases',\n",
              " 'huggingface:eduge',\n",
              " 'huggingface:ehealth_kd',\n",
              " 'huggingface:eitb_parcc',\n",
              " 'huggingface:electricity_load_diagrams',\n",
              " 'huggingface:eli5',\n",
              " 'huggingface:eli5_category',\n",
              " 'huggingface:elkarhizketak',\n",
              " 'huggingface:emea',\n",
              " 'huggingface:emo',\n",
              " 'huggingface:emotion',\n",
              " 'huggingface:emotone_ar',\n",
              " 'huggingface:empathetic_dialogues',\n",
              " 'huggingface:enriched_web_nlg',\n",
              " 'huggingface:enwik8',\n",
              " 'huggingface:eraser_multi_rc',\n",
              " 'huggingface:esnli',\n",
              " 'huggingface:eth_py150_open',\n",
              " 'huggingface:ethos',\n",
              " 'huggingface:ett',\n",
              " 'huggingface:eu_regulatory_ir',\n",
              " 'huggingface:eurlex',\n",
              " 'huggingface:euronews',\n",
              " 'huggingface:europa_eac_tm',\n",
              " 'huggingface:europa_ecdc_tm',\n",
              " 'huggingface:europarl_bilingual',\n",
              " 'huggingface:event2Mind',\n",
              " 'huggingface:evidence_infer_treatment',\n",
              " 'huggingface:exams',\n",
              " 'huggingface:factckbr',\n",
              " 'huggingface:fake_news_english',\n",
              " 'huggingface:fake_news_filipino',\n",
              " 'huggingface:farsi_news',\n",
              " 'huggingface:fashion_mnist',\n",
              " 'huggingface:fever',\n",
              " 'huggingface:few_rel',\n",
              " 'huggingface:financial_phrasebank',\n",
              " 'huggingface:finer',\n",
              " 'huggingface:flores',\n",
              " 'huggingface:flue',\n",
              " 'huggingface:food101',\n",
              " 'huggingface:fquad',\n",
              " 'huggingface:freebase_qa',\n",
              " 'huggingface:gap',\n",
              " 'huggingface:gem',\n",
              " 'huggingface:generated_reviews_enth',\n",
              " 'huggingface:generics_kb',\n",
              " 'huggingface:german_legal_entity_recognition',\n",
              " 'huggingface:germaner',\n",
              " 'huggingface:germeval_14',\n",
              " 'huggingface:giga_fren',\n",
              " 'huggingface:gigaword',\n",
              " 'huggingface:glucose',\n",
              " 'huggingface:glue',\n",
              " 'huggingface:gnad10',\n",
              " 'huggingface:go_emotions',\n",
              " 'huggingface:gooaq',\n",
              " 'huggingface:google_wellformed_query',\n",
              " 'huggingface:grail_qa',\n",
              " 'huggingface:great_code',\n",
              " 'huggingface:greek_legal_code',\n",
              " 'huggingface:gsm8k',\n",
              " 'huggingface:guardian_authorship',\n",
              " 'huggingface:gutenberg_time',\n",
              " 'huggingface:hans',\n",
              " 'huggingface:hansards',\n",
              " 'huggingface:hard',\n",
              " 'huggingface:harem',\n",
              " 'huggingface:has_part',\n",
              " 'huggingface:hate_offensive',\n",
              " 'huggingface:hate_speech18',\n",
              " 'huggingface:hate_speech_filipino',\n",
              " 'huggingface:hate_speech_offensive',\n",
              " 'huggingface:hate_speech_pl',\n",
              " 'huggingface:hate_speech_portuguese',\n",
              " 'huggingface:hatexplain',\n",
              " 'huggingface:hausa_voa_ner',\n",
              " 'huggingface:hausa_voa_topics',\n",
              " 'huggingface:hda_nli_hindi',\n",
              " 'huggingface:head_qa',\n",
              " 'huggingface:health_fact',\n",
              " 'huggingface:hebrew_projectbenyehuda',\n",
              " 'huggingface:hebrew_sentiment',\n",
              " 'huggingface:hebrew_this_world',\n",
              " 'huggingface:hellaswag',\n",
              " 'huggingface:hendrycks_test',\n",
              " 'huggingface:hind_encorp',\n",
              " 'huggingface:hindi_discourse',\n",
              " 'huggingface:hippocorpus',\n",
              " 'huggingface:hkcancor',\n",
              " 'huggingface:hlgd',\n",
              " 'huggingface:hope_edi',\n",
              " 'huggingface:hotpot_qa',\n",
              " 'huggingface:hover',\n",
              " 'huggingface:hrenwac_para',\n",
              " 'huggingface:hrwac',\n",
              " 'huggingface:humicroedit',\n",
              " 'huggingface:hybrid_qa',\n",
              " 'huggingface:hyperpartisan_news_detection',\n",
              " 'huggingface:iapp_wiki_qa_squad',\n",
              " 'huggingface:id_clickbait',\n",
              " 'huggingface:id_liputan6',\n",
              " 'huggingface:id_nergrit_corpus',\n",
              " 'huggingface:id_newspapers_2018',\n",
              " 'huggingface:id_panl_bppt',\n",
              " 'huggingface:id_puisi',\n",
              " 'huggingface:igbo_english_machine_translation',\n",
              " 'huggingface:igbo_monolingual',\n",
              " 'huggingface:igbo_ner',\n",
              " 'huggingface:ilist',\n",
              " 'huggingface:imagenet-1k',\n",
              " 'huggingface:imagenet_sketch',\n",
              " 'huggingface:imdb',\n",
              " 'huggingface:imdb_urdu_reviews',\n",
              " 'huggingface:imppres',\n",
              " 'huggingface:indic_glue',\n",
              " 'huggingface:indonli',\n",
              " 'huggingface:indonlu',\n",
              " 'huggingface:inquisitive_qg',\n",
              " 'huggingface:interpress_news_category_tr',\n",
              " 'huggingface:interpress_news_category_tr_lite',\n",
              " 'huggingface:irc_disentangle',\n",
              " 'huggingface:isixhosa_ner_corpus',\n",
              " 'huggingface:isizulu_ner_corpus',\n",
              " 'huggingface:iwslt2017',\n",
              " 'huggingface:jeopardy',\n",
              " 'huggingface:jfleg',\n",
              " 'huggingface:jigsaw_toxicity_pred',\n",
              " 'huggingface:jigsaw_unintended_bias',\n",
              " 'huggingface:jnlpba',\n",
              " 'huggingface:journalists_questions',\n",
              " 'huggingface:kan_hope',\n",
              " 'huggingface:kannada_news',\n",
              " 'huggingface:kd_conv',\n",
              " 'huggingface:kde4',\n",
              " 'huggingface:kelm',\n",
              " 'huggingface:kilt_tasks',\n",
              " 'huggingface:kilt_wikipedia',\n",
              " 'huggingface:kinnews_kirnews',\n",
              " 'huggingface:klue',\n",
              " 'huggingface:kor_3i4k',\n",
              " 'huggingface:kor_hate',\n",
              " 'huggingface:kor_ner',\n",
              " 'huggingface:kor_nli',\n",
              " 'huggingface:kor_nlu',\n",
              " 'huggingface:kor_qpair',\n",
              " 'huggingface:kor_sae',\n",
              " 'huggingface:kor_sarcasm',\n",
              " 'huggingface:labr',\n",
              " 'huggingface:lama',\n",
              " 'huggingface:lambada',\n",
              " 'huggingface:large_spanish_corpus',\n",
              " 'huggingface:laroseda',\n",
              " 'huggingface:lc_quad',\n",
              " 'huggingface:lccc',\n",
              " 'huggingface:lener_br',\n",
              " 'huggingface:lex_glue',\n",
              " 'huggingface:liar',\n",
              " 'huggingface:librispeech_asr',\n",
              " 'huggingface:librispeech_lm',\n",
              " 'huggingface:limit',\n",
              " 'huggingface:lince',\n",
              " 'huggingface:linnaeus',\n",
              " 'huggingface:liveqa',\n",
              " 'huggingface:lj_speech',\n",
              " 'huggingface:lm1b',\n",
              " 'huggingface:lst20',\n",
              " 'huggingface:m_lama',\n",
              " 'huggingface:mac_morpho',\n",
              " 'huggingface:makhzan',\n",
              " 'huggingface:masakhaner',\n",
              " 'huggingface:math_dataset',\n",
              " 'huggingface:math_qa',\n",
              " 'huggingface:matinf',\n",
              " 'huggingface:mbpp',\n",
              " 'huggingface:mc4',\n",
              " 'huggingface:mc_taco',\n",
              " 'huggingface:md_gender_bias',\n",
              " 'huggingface:mdd',\n",
              " 'huggingface:med_hop',\n",
              " 'huggingface:medal',\n",
              " 'huggingface:medical_dialog',\n",
              " 'huggingface:medical_questions_pairs',\n",
              " 'huggingface:medmcqa',\n",
              " 'huggingface:menyo20k_mt',\n",
              " 'huggingface:meta_woz',\n",
              " 'huggingface:metashift',\n",
              " 'huggingface:metooma',\n",
              " 'huggingface:metrec',\n",
              " 'huggingface:miam',\n",
              " 'huggingface:mkb',\n",
              " 'huggingface:mkqa',\n",
              " 'huggingface:mlqa',\n",
              " 'huggingface:mlsum',\n",
              " 'huggingface:mnist',\n",
              " 'huggingface:mocha',\n",
              " 'huggingface:monash_tsf',\n",
              " 'huggingface:moroco',\n",
              " 'huggingface:movie_rationales',\n",
              " 'huggingface:mrqa',\n",
              " 'huggingface:ms_marco',\n",
              " 'huggingface:ms_terms',\n",
              " 'huggingface:msr_genomics_kbcomp',\n",
              " 'huggingface:msr_sqa',\n",
              " 'huggingface:msr_text_compression',\n",
              " 'huggingface:msr_zhen_translation_parity',\n",
              " 'huggingface:msra_ner',\n",
              " 'huggingface:mt_eng_vietnamese',\n",
              " 'huggingface:muchocine',\n",
              " 'huggingface:multi_booked',\n",
              " 'huggingface:multi_eurlex',\n",
              " 'huggingface:multi_news',\n",
              " 'huggingface:multi_nli',\n",
              " 'huggingface:multi_nli_mismatch',\n",
              " 'huggingface:multi_para_crawl',\n",
              " 'huggingface:multi_re_qa',\n",
              " 'huggingface:multi_woz_v22',\n",
              " 'huggingface:multi_x_science_sum',\n",
              " 'huggingface:multidoc2dial',\n",
              " 'huggingface:multilingual_librispeech',\n",
              " 'huggingface:mutual_friends',\n",
              " 'huggingface:mwsc',\n",
              " 'huggingface:myanmar_news',\n",
              " 'huggingface:narrativeqa',\n",
              " 'huggingface:narrativeqa_manual',\n",
              " 'huggingface:natural_questions',\n",
              " 'huggingface:ncbi_disease',\n",
              " 'huggingface:nchlt',\n",
              " 'huggingface:ncslgr',\n",
              " 'huggingface:nell',\n",
              " 'huggingface:neural_code_search',\n",
              " 'huggingface:news_commentary',\n",
              " 'huggingface:newsgroup',\n",
              " 'huggingface:newsph',\n",
              " 'huggingface:newsph_nli',\n",
              " 'huggingface:newspop',\n",
              " 'huggingface:newsqa',\n",
              " 'huggingface:newsroom',\n",
              " 'huggingface:nkjp-ner',\n",
              " 'huggingface:nli_tr',\n",
              " 'huggingface:nlu_evaluation_data',\n",
              " 'huggingface:norec',\n",
              " 'huggingface:norne',\n",
              " 'huggingface:norwegian_ner',\n",
              " 'huggingface:nq_open',\n",
              " 'huggingface:nsmc',\n",
              " 'huggingface:numer_sense',\n",
              " 'huggingface:numeric_fused_head',\n",
              " 'huggingface:oclar',\n",
              " 'huggingface:offcombr',\n",
              " 'huggingface:offenseval2020_tr',\n",
              " 'huggingface:offenseval_dravidian',\n",
              " 'huggingface:ofis_publik',\n",
              " 'huggingface:ohsumed',\n",
              " 'huggingface:ollie',\n",
              " 'huggingface:omp',\n",
              " 'huggingface:onestop_english',\n",
              " 'huggingface:onestop_qa',\n",
              " 'huggingface:open_subtitles',\n",
              " 'huggingface:openai_humaneval',\n",
              " 'huggingface:openbookqa',\n",
              " 'huggingface:openslr',\n",
              " 'huggingface:openwebtext',\n",
              " 'huggingface:opinosis',\n",
              " 'huggingface:opus100',\n",
              " 'huggingface:opus_books',\n",
              " 'huggingface:opus_dgt',\n",
              " 'huggingface:opus_dogc',\n",
              " 'huggingface:opus_elhuyar',\n",
              " 'huggingface:opus_euconst',\n",
              " 'huggingface:opus_finlex',\n",
              " 'huggingface:opus_fiskmo',\n",
              " 'huggingface:opus_gnome',\n",
              " 'huggingface:opus_infopankki',\n",
              " 'huggingface:opus_memat',\n",
              " 'huggingface:opus_montenegrinsubs',\n",
              " 'huggingface:opus_openoffice',\n",
              " 'huggingface:opus_paracrawl',\n",
              " 'huggingface:opus_rf',\n",
              " 'huggingface:opus_tedtalks',\n",
              " 'huggingface:opus_ubuntu',\n",
              " 'huggingface:opus_wikipedia',\n",
              " 'huggingface:opus_xhosanavy',\n",
              " 'huggingface:orange_sum',\n",
              " 'huggingface:oscar',\n",
              " 'huggingface:para_crawl',\n",
              " 'huggingface:para_pat',\n",
              " 'huggingface:parsinlu_reading_comprehension',\n",
              " 'huggingface:pass',\n",
              " 'huggingface:paws',\n",
              " 'huggingface:paws-x',\n",
              " 'huggingface:pec',\n",
              " 'huggingface:peer_read',\n",
              " 'huggingface:peoples_daily_ner',\n",
              " 'huggingface:per_sent',\n",
              " 'huggingface:persian_ner',\n",
              " 'huggingface:pg19',\n",
              " 'huggingface:php',\n",
              " 'huggingface:piaf',\n",
              " 'huggingface:pib',\n",
              " 'huggingface:piqa',\n",
              " 'huggingface:pn_summary',\n",
              " 'huggingface:poem_sentiment',\n",
              " 'huggingface:polemo2',\n",
              " 'huggingface:poleval2019_cyberbullying',\n",
              " 'huggingface:poleval2019_mt',\n",
              " 'huggingface:polsum',\n",
              " 'huggingface:polyglot_ner',\n",
              " 'huggingface:prachathai67k',\n",
              " 'huggingface:pragmeval',\n",
              " 'huggingface:proto_qa',\n",
              " 'huggingface:psc',\n",
              " 'huggingface:ptb_text_only',\n",
              " 'huggingface:pubmed',\n",
              " 'huggingface:pubmed_qa',\n",
              " 'huggingface:py_ast',\n",
              " 'huggingface:qa4mre',\n",
              " 'huggingface:qa_srl',\n",
              " 'huggingface:qa_zre',\n",
              " 'huggingface:qangaroo',\n",
              " 'huggingface:qanta',\n",
              " 'huggingface:qasc',\n",
              " 'huggingface:qasper',\n",
              " 'huggingface:qed',\n",
              " 'huggingface:qed_amara',\n",
              " 'huggingface:quac',\n",
              " 'huggingface:quail',\n",
              " 'huggingface:quarel',\n",
              " 'huggingface:quartz',\n",
              " 'huggingface:quickdraw',\n",
              " 'huggingface:quora',\n",
              " 'huggingface:quoref',\n",
              " 'huggingface:race',\n",
              " 'huggingface:re_dial',\n",
              " 'huggingface:reasoning_bg',\n",
              " 'huggingface:recipe_nlg',\n",
              " 'huggingface:reclor',\n",
              " 'huggingface:red_caps',\n",
              " 'huggingface:reddit',\n",
              " 'huggingface:reddit_tifu',\n",
              " 'huggingface:refresd',\n",
              " 'huggingface:reuters21578',\n",
              " 'huggingface:riddle_sense',\n",
              " 'huggingface:ro_sent',\n",
              " 'huggingface:ro_sts',\n",
              " 'huggingface:ro_sts_parallel',\n",
              " 'huggingface:roman_urdu',\n",
              " 'huggingface:roman_urdu_hate_speech',\n",
              " 'huggingface:ronec',\n",
              " 'huggingface:ropes',\n",
              " 'huggingface:rotten_tomatoes',\n",
              " 'huggingface:russian_super_glue',\n",
              " 'huggingface:rvl_cdip',\n",
              " 'huggingface:s2orc',\n",
              " 'huggingface:samsum',\n",
              " 'huggingface:sanskrit_classic',\n",
              " 'huggingface:saudinewsnet',\n",
              " 'huggingface:sberquad',\n",
              " 'huggingface:sbu_captions',\n",
              " 'huggingface:scan',\n",
              " 'huggingface:scb_mt_enth_2020',\n",
              " 'huggingface:scene_parse_150',\n",
              " 'huggingface:schema_guided_dstc8',\n",
              " 'huggingface:scicite',\n",
              " 'huggingface:scielo',\n",
              " 'huggingface:scientific_papers',\n",
              " 'huggingface:scifact',\n",
              " 'huggingface:sciq',\n",
              " 'huggingface:scitail',\n",
              " 'huggingface:scitldr',\n",
              " 'huggingface:search_qa',\n",
              " 'huggingface:sede',\n",
              " 'huggingface:selqa',\n",
              " 'huggingface:sem_eval_2010_task_8',\n",
              " 'huggingface:sem_eval_2014_task_1',\n",
              " 'huggingface:sem_eval_2018_task_1',\n",
              " 'huggingface:sem_eval_2020_task_11',\n",
              " 'huggingface:sent_comp',\n",
              " 'huggingface:senti_lex',\n",
              " 'huggingface:senti_ws',\n",
              " 'huggingface:sentiment140',\n",
              " 'huggingface:sepedi_ner',\n",
              " 'huggingface:sesotho_ner_corpus',\n",
              " 'huggingface:setimes',\n",
              " 'huggingface:setswana_ner_corpus',\n",
              " 'huggingface:sharc',\n",
              " 'huggingface:sharc_modified',\n",
              " 'huggingface:sick',\n",
              " 'huggingface:silicone',\n",
              " 'huggingface:simple_questions_v2',\n",
              " 'huggingface:siswati_ner_corpus',\n",
              " 'huggingface:smartdata',\n",
              " 'huggingface:sms_spam',\n",
              " 'huggingface:snips_built_in_intents',\n",
              " 'huggingface:snli',\n",
              " 'huggingface:snow_simplified_japanese_corpus',\n",
              " 'huggingface:so_stacksample',\n",
              " 'huggingface:social_bias_frames',\n",
              " 'huggingface:social_i_qa',\n",
              " 'huggingface:sofc_materials_articles',\n",
              " 'huggingface:sogou_news',\n",
              " 'huggingface:spanish_billion_words',\n",
              " 'huggingface:spc',\n",
              " 'huggingface:species_800',\n",
              " 'huggingface:speech_commands',\n",
              " 'huggingface:spider',\n",
              " 'huggingface:squad',\n",
              " 'huggingface:squad_adversarial',\n",
              " 'huggingface:squad_es',\n",
              " 'huggingface:squad_it',\n",
              " 'huggingface:squad_kor_v1',\n",
              " 'huggingface:squad_kor_v2',\n",
              " 'huggingface:squad_v1_pt',\n",
              " 'huggingface:squad_v2',\n",
              " 'huggingface:squadshifts',\n",
              " 'huggingface:srwac',\n",
              " 'huggingface:sst',\n",
              " 'huggingface:stereoset',\n",
              " 'huggingface:story_cloze',\n",
              " 'huggingface:stsb_mt_sv',\n",
              " 'huggingface:stsb_multi_mt',\n",
              " 'huggingface:style_change_detection',\n",
              " 'huggingface:subjqa',\n",
              " 'huggingface:super_glue',\n",
              " 'huggingface:superb',\n",
              " 'huggingface:svhn',\n",
              " 'huggingface:swag',\n",
              " 'huggingface:swahili',\n",
              " 'huggingface:swahili_news',\n",
              " 'huggingface:swda',\n",
              " 'huggingface:swedish_medical_ner',\n",
              " 'huggingface:swedish_ner_corpus',\n",
              " 'huggingface:swedish_reviews',\n",
              " 'huggingface:swiss_judgment_prediction',\n",
              " 'huggingface:tab_fact',\n",
              " 'huggingface:tamilmixsentiment',\n",
              " 'huggingface:tanzil',\n",
              " 'huggingface:tapaco',\n",
              " 'huggingface:tashkeela',\n",
              " 'huggingface:taskmaster1',\n",
              " 'huggingface:taskmaster2',\n",
              " 'huggingface:taskmaster3',\n",
              " 'huggingface:tatoeba',\n",
              " 'huggingface:ted_hrlr',\n",
              " 'huggingface:ted_iwlst2013',\n",
              " 'huggingface:ted_multi',\n",
              " 'huggingface:ted_talks_iwslt',\n",
              " 'huggingface:telugu_books',\n",
              " 'huggingface:telugu_news',\n",
              " 'huggingface:tep_en_fa_para',\n",
              " 'huggingface:text2log',\n",
              " 'huggingface:textvqa',\n",
              " 'huggingface:thai_toxicity_tweet',\n",
              " 'huggingface:thainer',\n",
              " 'huggingface:thaiqa_squad',\n",
              " 'huggingface:thaisum',\n",
              " 'huggingface:the_pile',\n",
              " 'huggingface:the_pile_books3',\n",
              " 'huggingface:the_pile_openwebtext2',\n",
              " 'huggingface:the_pile_stack_exchange',\n",
              " 'huggingface:tilde_model',\n",
              " ...]"
            ]
          },
          "metadata": {},
          "execution_count": 8
        }
      ]
    },
    {
      "cell_type": "code",
      "source": [
        "'food101' in dataset_list"
      ],
      "metadata": {
        "id": "EGeRWrpvYjur",
        "colab": {
          "base_uri": "https://localhost:8080/"
        },
        "outputId": "c550f2e4-684e-43dc-8653-fff3a2e4f3a2"
      },
      "execution_count": null,
      "outputs": [
        {
          "output_type": "execute_result",
          "data": {
            "text/plain": [
              "True"
            ]
          },
          "metadata": {},
          "execution_count": 9
        }
      ]
    },
    {
      "cell_type": "markdown",
      "source": [
        "`food101` data set is in the dataset_list of tensorflow dataset"
      ],
      "metadata": {
        "id": "HMQ0RMS4YxJx"
      }
    },
    {
      "cell_type": "markdown",
      "source": [
        "> Download the dataset"
      ],
      "metadata": {
        "id": "JRCPOuKCZ6WZ"
      }
    },
    {
      "cell_type": "code",
      "source": [
        "(train_data, test_data), ds_info = tfds.load(name = 'food101',\n",
        "                                             split = ['train', 'validation'],\n",
        "                                             shuffle_files = True,\n",
        "                                             as_supervised= True,\n",
        "                                             with_info = True)"
      ],
      "metadata": {
        "id": "y39DKcEuYvqz",
        "colab": {
          "base_uri": "https://localhost:8080/",
          "height": 149,
          "referenced_widgets": [
            "9e81a873fbe9419ea0c7f7406e365f85",
            "5e7fbc11deeb4ff087ada330a32bc898",
            "5e1fffe00a56474ca054284db6b281fe",
            "cb45957894aa4d34a146dc09a8a7353c",
            "285deb20f0a847678634833a8de52ede",
            "e975446fe0c641e8becab924f5e8d5c1",
            "f6893a73635545179ba1c1dc1fe44b61",
            "f4ba94422c82482db923a4145d56be03",
            "2d0b1ef9d90548c29befe70f94b5ba66",
            "7ca2cfe586784d0cb69c2e394574a7b0",
            "d9f8dc7b0a25432a8868fd8384f528ea",
            "33c7757d510943d898bb211e6b2c43b3",
            "176150bb818345089c388c1ffb6a01dc",
            "25929ec95ae741e58b68ad20173ca588",
            "49bf0f980f2b43feb44502181f438da2",
            "86c4a6b803a9474f9687fde80a70945f",
            "af57c8e319fe4fdb8560fcee66a82518",
            "2110ddbbec1243be9f6c16e3744ae935",
            "346c7a967a504f629fe802853a4882a1",
            "765210ed30114e52b075a1326a2ed654",
            "9c4ea3bbbdcc4b3680c16320766eaf11",
            "6f2302976f20498da1eaed005a787424",
            "fc1b0364bdfb4ef483aa4a2e6f6277cb",
            "cd3abf4546b14a90af1096c501a9da7e",
            "c6e3bc204f194c15a78c7c85acd5dd05",
            "b35a4820d9f14dc4b5c68dd6e92dfad4",
            "7582934f75904e47a0d3e945abb6ab66",
            "9b9e065a86a24acbb72690935c7a8f73",
            "e4e39ffb00714adfa529dd460e167d5b",
            "1f3988f176ca4eaeb59a47723c788122",
            "5d852a7f56d642a89d090ebfe23e6598",
            "05204cc0e4c04b6491a8d6667dfa10ef",
            "0619228ef4c349e0bb08b255be27f267",
            "f18da41d6ed54d439f49d35b8e61dd15",
            "b24c55fc11834c24b5b780bdcdcc6dbe",
            "0aafab35a1774637936054c4f7ba48a1",
            "9f6aa39544e042e38153aed4e67f6aaf",
            "f76f15a3d73d43e08138ada860863a6b",
            "9f2300c717064e6fb436da25e17bc353",
            "79339aaf9cdf4514a01c815df05fe850",
            "442145f3b48447e79be6a762d6c3df04",
            "8d8758e216bb44b68521f6b7d66a8914",
            "ccd4e25c802046e7ad472fe67c409c8e",
            "a934cf0fa30a473f993871371a521b7e",
            "7597334203c0430280507cc833869ed9",
            "6ecef965d011498c997d2560aa3f208f",
            "4d8a2b91c8ff44ef885dee3d8c549ad4",
            "14f8b7b26e594ee8bb098e920ed8eaae",
            "d2b514a0910240b48c014af216d72a40",
            "244ef4cccc72452386a2f59e25ce326c",
            "3c7175756efe4457826bb3bef827986f",
            "0bab6dabfcd64667a54055dbf7fdad70",
            "32fbd8ac8616497fa7da6e7880a24804",
            "93a928474ede48818f5acd526aa7cc35",
            "7775783b6c7a4773b4af5e0115fbf500",
            "9ed9f96f4f9942388772402a2d439d27",
            "e724e39cfb69488c95a86d1480c04149",
            "3962d390a7844471b578e5c26c0463cf",
            "db27b0627a33474ab45eae6c15a7c298",
            "68e18c0d9e04496dada92b4fba0d5ffe",
            "44a7a8c556fe4201a86d8af284a42c72",
            "d73c3adc3ef845a78f114481b37d745d",
            "97d1dcbed1a84c769eb2aa0da018a88f",
            "ad608141a2df438691b19132b3154955",
            "3bcb206c24f5430a964952ff21c7f6d8",
            "f48d4751dafb4b7fafc64806dbc49825"
          ]
        },
        "outputId": "461d5958-347c-46e7-a0d5-3dff7c080f72"
      },
      "execution_count": null,
      "outputs": [
        {
          "output_type": "stream",
          "name": "stdout",
          "text": [
            "Downloading and preparing dataset 4.65 GiB (download: 4.65 GiB, generated: Unknown size, total: 4.65 GiB) to /root/tensorflow_datasets/food101/2.0.0...\n"
          ]
        },
        {
          "output_type": "display_data",
          "data": {
            "text/plain": [
              "Dl Completed...: 0 url [00:00, ? url/s]"
            ],
            "application/vnd.jupyter.widget-view+json": {
              "version_major": 2,
              "version_minor": 0,
              "model_id": "9e81a873fbe9419ea0c7f7406e365f85"
            }
          },
          "metadata": {}
        },
        {
          "output_type": "display_data",
          "data": {
            "text/plain": [
              "Dl Size...: 0 MiB [00:00, ? MiB/s]"
            ],
            "application/vnd.jupyter.widget-view+json": {
              "version_major": 2,
              "version_minor": 0,
              "model_id": "33c7757d510943d898bb211e6b2c43b3"
            }
          },
          "metadata": {}
        },
        {
          "output_type": "display_data",
          "data": {
            "text/plain": [
              "Extraction completed...: 0 file [00:00, ? file/s]"
            ],
            "application/vnd.jupyter.widget-view+json": {
              "version_major": 2,
              "version_minor": 0,
              "model_id": "fc1b0364bdfb4ef483aa4a2e6f6277cb"
            }
          },
          "metadata": {}
        },
        {
          "output_type": "display_data",
          "data": {
            "text/plain": [
              "Shuffling /root/tensorflow_datasets/food101/2.0.0.incompleteU1994Q/food101-train.tfrecord*...:   0%|          …"
            ],
            "application/vnd.jupyter.widget-view+json": {
              "version_major": 2,
              "version_minor": 0,
              "model_id": "f18da41d6ed54d439f49d35b8e61dd15"
            }
          },
          "metadata": {}
        },
        {
          "output_type": "display_data",
          "data": {
            "text/plain": [
              "Generating validation examples...:   0%|          | 0/25250 [00:00<?, ? examples/s]"
            ],
            "application/vnd.jupyter.widget-view+json": {
              "version_major": 2,
              "version_minor": 0,
              "model_id": "7597334203c0430280507cc833869ed9"
            }
          },
          "metadata": {}
        },
        {
          "output_type": "display_data",
          "data": {
            "text/plain": [
              "Shuffling /root/tensorflow_datasets/food101/2.0.0.incompleteU1994Q/food101-validation.tfrecord*...:   0%|     …"
            ],
            "application/vnd.jupyter.widget-view+json": {
              "version_major": 2,
              "version_minor": 0,
              "model_id": "9ed9f96f4f9942388772402a2d439d27"
            }
          },
          "metadata": {}
        },
        {
          "output_type": "stream",
          "name": "stdout",
          "text": [
            "Dataset food101 downloaded and prepared to /root/tensorflow_datasets/food101/2.0.0. Subsequent calls will reuse this data.\n"
          ]
        }
      ]
    },
    {
      "cell_type": "markdown",
      "source": [
        "> Exploring the Dataset\n",
        "\n",
        "- Classes\n",
        "- Shape\n",
        "- Data Type\n",
        "- One Sample"
      ],
      "metadata": {
        "id": "reLeRogtaI3U"
      }
    },
    {
      "cell_type": "code",
      "source": [
        "ds_info"
      ],
      "metadata": {
        "id": "KmrdUhkkZ32i",
        "colab": {
          "base_uri": "https://localhost:8080/"
        },
        "outputId": "8398db87-1f11-4b97-fc0a-e3ddcb484100"
      },
      "execution_count": null,
      "outputs": [
        {
          "output_type": "execute_result",
          "data": {
            "text/plain": [
              "tfds.core.DatasetInfo(\n",
              "    name='food101',\n",
              "    full_name='food101/2.0.0',\n",
              "    description=\"\"\"\n",
              "    This dataset consists of 101 food categories, with 101'000 images. For each class, 250 manually reviewed test images are provided as well as 750 training images. On purpose, the training images were not cleaned, and thus still contain some amount of noise. This comes mostly in the form of intense colors and sometimes wrong labels. All images were rescaled to have a maximum side length of 512 pixels.\n",
              "    \"\"\",\n",
              "    homepage='https://data.vision.ee.ethz.ch/cvl/datasets_extra/food-101/',\n",
              "    data_path=PosixGPath('/tmp/tmp0wnp33vftfds'),\n",
              "    file_format=tfrecord,\n",
              "    download_size=4.65 GiB,\n",
              "    dataset_size=4.77 GiB,\n",
              "    features=FeaturesDict({\n",
              "        'image': Image(shape=(None, None, 3), dtype=uint8),\n",
              "        'label': ClassLabel(shape=(), dtype=int64, num_classes=101),\n",
              "    }),\n",
              "    supervised_keys=('image', 'label'),\n",
              "    disable_shuffling=False,\n",
              "    splits={\n",
              "        'train': <SplitInfo num_examples=75750, num_shards=32>,\n",
              "        'validation': <SplitInfo num_examples=25250, num_shards=16>,\n",
              "    },\n",
              "    citation=\"\"\"@inproceedings{bossard14,\n",
              "      title = {Food-101 -- Mining Discriminative Components with Random Forests},\n",
              "      author = {Bossard, Lukas and Guillaumin, Matthieu and Van Gool, Luc},\n",
              "      booktitle = {European Conference on Computer Vision},\n",
              "      year = {2014}\n",
              "    }\"\"\",\n",
              ")"
            ]
          },
          "metadata": {},
          "execution_count": 11
        }
      ]
    },
    {
      "cell_type": "code",
      "source": [
        "ds_info.features"
      ],
      "metadata": {
        "id": "ZguxFi0BZ3z-",
        "colab": {
          "base_uri": "https://localhost:8080/"
        },
        "outputId": "4e0266d2-c428-4968-e33a-836769b14567"
      },
      "execution_count": null,
      "outputs": [
        {
          "output_type": "execute_result",
          "data": {
            "text/plain": [
              "FeaturesDict({\n",
              "    'image': Image(shape=(None, None, 3), dtype=uint8),\n",
              "    'label': ClassLabel(shape=(), dtype=int64, num_classes=101),\n",
              "})"
            ]
          },
          "metadata": {},
          "execution_count": 12
        }
      ]
    },
    {
      "cell_type": "markdown",
      "source": [
        "Things to note that:\n",
        "- the tensors datatype is uint8 in tha dataset\n",
        "- The class is not one-hot encoded, but lable encoded"
      ],
      "metadata": {
        "id": "xU5fDIxPely1"
      }
    },
    {
      "cell_type": "markdown",
      "source": [
        "Lets get the classes of the dataset"
      ],
      "metadata": {
        "id": "he-YvZ3Me6Pf"
      }
    },
    {
      "cell_type": "code",
      "source": [
        "class_names = ds_info.features['label'].names\n",
        "class_names[:10]"
      ],
      "metadata": {
        "id": "pMwHqXi1Z3u6",
        "colab": {
          "base_uri": "https://localhost:8080/"
        },
        "outputId": "afd284d7-8468-414f-9802-6670897b8bbe"
      },
      "execution_count": null,
      "outputs": [
        {
          "output_type": "execute_result",
          "data": {
            "text/plain": [
              "['apple_pie',\n",
              " 'baby_back_ribs',\n",
              " 'baklava',\n",
              " 'beef_carpaccio',\n",
              " 'beef_tartare',\n",
              " 'beet_salad',\n",
              " 'beignets',\n",
              " 'bibimbap',\n",
              " 'bread_pudding',\n",
              " 'breakfast_burrito']"
            ]
          },
          "metadata": {},
          "execution_count": 13
        }
      ]
    },
    {
      "cell_type": "markdown",
      "source": [
        "> Examine one Sample"
      ],
      "metadata": {
        "id": "uwzK6j-mfZeq"
      }
    },
    {
      "cell_type": "code",
      "source": [
        "one_sample = train_data.take(1)\n",
        "one_sample"
      ],
      "metadata": {
        "id": "z90lNkQWZ3sN",
        "colab": {
          "base_uri": "https://localhost:8080/"
        },
        "outputId": "e59a33d5-98c3-4755-affb-54024d5e3afa"
      },
      "execution_count": null,
      "outputs": [
        {
          "output_type": "execute_result",
          "data": {
            "text/plain": [
              "<TakeDataset element_spec=(TensorSpec(shape=(None, None, 3), dtype=tf.uint8, name=None), TensorSpec(shape=(), dtype=tf.int64, name=None))>"
            ]
          },
          "metadata": {},
          "execution_count": 14
        }
      ]
    },
    {
      "cell_type": "code",
      "source": [
        "for image,label in one_sample:\n",
        "\n",
        "  print(\n",
        "      f\"\"\"\n",
        "      image : {image[:2]}\n",
        "      image_shape : {image.shape}\n",
        "      inage_dtype : {image.dtype}\n",
        "      label : {label}\n",
        "      lable_shape : {label.shape}\n",
        "      class_name : {class_names[label]}\n",
        "      \"\"\"\n",
        "  )"
      ],
      "metadata": {
        "id": "05MjGnvvfnwx",
        "colab": {
          "base_uri": "https://localhost:8080/"
        },
        "outputId": "86a57fb9-776b-4b1a-8353-972dad8f4439"
      },
      "execution_count": null,
      "outputs": [
        {
          "output_type": "stream",
          "name": "stdout",
          "text": [
            "\n",
            "      image : [[[233 253 251]\n",
            "  [231 253 250]\n",
            "  [228 254 251]\n",
            "  ...\n",
            "  [ 85  82  89]\n",
            "  [ 68  67  75]\n",
            "  [ 57  57  67]]\n",
            "\n",
            " [[232 254 252]\n",
            "  [229 254 251]\n",
            "  [226 255 251]\n",
            "  ...\n",
            "  [121 116 120]\n",
            "  [100  99 104]\n",
            "  [ 86  85  91]]]\n",
            "      image_shape : (512, 512, 3)\n",
            "      inage_dtype : <dtype: 'uint8'>\n",
            "      label : 56\n",
            "      lable_shape : ()\n",
            "      class_name : huevos_rancheros\n",
            "      \n"
          ]
        }
      ]
    },
    {
      "cell_type": "markdown",
      "source": [
        "Inference : \n",
        "\n",
        "- The images are of diffrent shapes(image sizes)\n",
        "- The images are not not normalized\n",
        "- The datatypes are of uint8 type"
      ],
      "metadata": {
        "id": "vquiCUHIgjeA"
      }
    },
    {
      "cell_type": "markdown",
      "source": [
        "lets plot one of the image"
      ],
      "metadata": {
        "id": "6yASFB8thA71"
      }
    },
    {
      "cell_type": "code",
      "source": [
        "plt.imshow(image)\n",
        "plt.title(class_names[label])\n",
        "plt.axis(False);"
      ],
      "metadata": {
        "id": "0QZNKbLAgaqk",
        "colab": {
          "base_uri": "https://localhost:8080/",
          "height": 264
        },
        "outputId": "e752c18a-4163-481f-890a-922680505cf4"
      },
      "execution_count": null,
      "outputs": [
        {
          "output_type": "display_data",
          "data": {
            "text/plain": [
              "<Figure size 432x288 with 1 Axes>"
            ],
            "image/png": "[encoded data removed]"
          },
          "metadata": {
            "needs_background": "light"
          }
        }
      ]
    },
    {
      "cell_type": "markdown",
      "source": [
        "> Create a preprocessing function so that it can be put into a function"
      ],
      "metadata": {
        "id": "kRTQT1_bhXs7"
      }
    },
    {
      "cell_type": "code",
      "source": [
        "def image_preprocess(image, label, image_size = (224,224)):\n",
        "  \n",
        "  # resize the image\n",
        "  image = tf.image.resize(image, size = image_size)\n",
        "  # convert into float32\n",
        "  image = tf.cast(image, dtype = tf.float32)\n",
        "  # rescale\n",
        "  #image = image/255.0 # this is not required when we use the efficientnet framework\n",
        "\n",
        "  return image, label"
      ],
      "metadata": {
        "id": "-KpslSn0hJvF"
      },
      "execution_count": null,
      "outputs": []
    },
    {
      "cell_type": "markdown",
      "source": [
        "Lets apply the preprocessing function in one of the sample image"
      ],
      "metadata": {
        "id": "QygUgnckiprV"
      }
    },
    {
      "cell_type": "code",
      "source": [
        "image_preprocessed = image_preprocess(image, label)\n",
        "image_preprocessed"
      ],
      "metadata": {
        "id": "yU60XEgBiosh",
        "colab": {
          "base_uri": "https://localhost:8080/"
        },
        "outputId": "c229d23b-0a00-45d6-aec8-a25bf2b7fd13"
      },
      "execution_count": null,
      "outputs": [
        {
          "output_type": "execute_result",
          "data": {
            "text/plain": [
              "(<tf.Tensor: shape=(224, 224, 3), dtype=float32, numpy=\n",
              " array([[[230.65816  , 253.64285  , 251.       ],\n",
              "         [222.99998  , 254.97449  , 252.19388  ],\n",
              "         [207.06633  , 255.       , 250.36734  ],\n",
              "         ...,\n",
              "         [140.66287  , 129.52519  , 121.22428  ],\n",
              "         [121.14268  , 115.26515  , 116.95397  ],\n",
              "         [ 83.95363  ,  83.08119  ,  89.63737  ]],\n",
              " \n",
              "        [[221.47449  , 254.37755  , 253.33163  ],\n",
              "         [214.5102   , 255.       , 253.92348  ],\n",
              "         [198.41327  , 254.58673  , 251.96939  ],\n",
              "         ...,\n",
              "         [208.66318  , 195.82143  , 173.40823  ],\n",
              "         [197.03056  , 190.1071   , 174.83162  ],\n",
              "         [175.54036  , 171.6169   , 161.21384  ]],\n",
              " \n",
              "        [[204.21428  , 253.42857  , 249.57143  ],\n",
              "         [198.71428  , 254.64287  , 251.2449   ],\n",
              "         [185.04591  , 251.73979  , 252.21428  ],\n",
              "         ...,\n",
              "         [222.45403  , 207.47444  , 169.35715  ],\n",
              "         [216.52551  , 205.01024  , 172.02556  ],\n",
              "         [215.51529  , 207.87244  , 177.58672  ]],\n",
              " \n",
              "        ...,\n",
              " \n",
              "        [[ 47.112076 ,  81.04076  , 121.17347  ],\n",
              "         [ 30.413044 ,  63.612114 , 101.32644  ],\n",
              "         [127.3627   , 158.90869  , 193.0057   ],\n",
              "         ...,\n",
              "         [  3.954091 ,  11.954091 ,  23.382618 ],\n",
              "         [  2.2703981,  10.326532 ,  21.214264 ],\n",
              "         [  6.8622665,  16.07653  ,  25.290794 ]],\n",
              " \n",
              "        [[ 68.89793  , 111.18369  , 160.04086  ],\n",
              "         [ 41.204117 ,  82.28577  , 126.70928  ],\n",
              "         [ 55.051186 ,  92.26549  , 131.30635  ],\n",
              "         ...,\n",
              "         [  4.086749 ,  12.658221 ,  21.872484 ],\n",
              "         [  5.0663376,  14.066338 ,  23.066338 ],\n",
              "         [ 11.760158 ,  20.760159 ,  29.760159 ]],\n",
              " \n",
              "        [[ 74.94894  , 122.89291  , 176.91843  ],\n",
              "         [ 59.688942 , 105.714455 , 155.31143  ],\n",
              "         [103.81651  , 144.11244  , 188.16861  ],\n",
              "         ...,\n",
              "         [  6.214264 ,  13.214264 ,  23.214264 ],\n",
              "         [  4.454137 ,  13.454137 ,  22.454136 ],\n",
              "         [  9.127576 ,  18.127577 ,  25.127577 ]]], dtype=float32)>,\n",
              " <tf.Tensor: shape=(), dtype=int64, numpy=56>)"
            ]
          },
          "metadata": {},
          "execution_count": 18
        }
      ]
    },
    {
      "cell_type": "markdown",
      "source": [
        "Lets plot the preprocessed image"
      ],
      "metadata": {
        "id": "CJTiS-1OjHSt"
      }
    },
    {
      "cell_type": "code",
      "source": [
        "plt.imshow(image_preprocessed[0]/255.0)\n",
        "plt.title(f\"class : {class_names[image_preprocessed[1]]} | size : {image_preprocessed[0].shape}\\n dtype : {image_preprocessed[0].dtype}\")\n",
        "plt.axis(False);"
      ],
      "metadata": {
        "id": "wQWe2WeWi_n2",
        "colab": {
          "base_uri": "https://localhost:8080/",
          "height": 279
        },
        "outputId": "cc2e4c05-155d-44e2-91bc-8fea2be1f8bd"
      },
      "execution_count": null,
      "outputs": [
        {
          "output_type": "display_data",
          "data": {
            "text/plain": [
              "<Figure size 432x288 with 1 Axes>"
            ],
            "image/png": "[encoded data removed]"
          },
          "metadata": {
            "needs_background": "light"
          }
        }
      ]
    },
    {
      "cell_type": "markdown",
      "source": [
        "> Preprocess the dataset\n",
        "\n",
        "- Preprocess the dataset by mapping the above function using the `dataset.map function`\n",
        "- Batch the dataset for the faster training using the `dataset.batch` function\n",
        "\n",
        "Note the usage of `num_paralell_calls : tf.data.AUTOTUNE` and `.prefetch(tf.data.AUTOTUNE)`\n",
        "\n",
        "tf.data.AUTOTUNE ask the kernal to use the all the available CPU's to do parellel processing of the given task"
      ],
      "metadata": {
        "id": "hXa7YvT3khJG"
      }
    },
    {
      "cell_type": "code",
      "source": [
        "# mapping the preprocessing function to the train data\n",
        "\n",
        "train_data = train_data.map(map_func = image_preprocess, num_parallel_calls = tf.data.AUTOTUNE)\n",
        "\n",
        "# batching the train data after shuffling\n",
        "\n",
        "train_data = train_data.shuffle(buffer_size = 1000).batch(batch_size = 32).prefetch(buffer_size = tf.data.AUTOTUNE)\n"
      ],
      "metadata": {
        "id": "s7P1GAiIjXFd"
      },
      "execution_count": null,
      "outputs": []
    },
    {
      "cell_type": "code",
      "source": [
        "# Applyin the same thing on the test_data but not to do shuffling\n",
        "\n",
        "test_data = test_data.map(map_func = image_preprocess, num_parallel_calls = tf.data.AUTOTUNE)\n",
        "\n",
        "test_data = test_data.batch(batch_size = 32).prefetch(buffer_size = tf.data.AUTOTUNE)"
      ],
      "metadata": {
        "id": "dyyZikygmbEo"
      },
      "execution_count": null,
      "outputs": []
    },
    {
      "cell_type": "markdown",
      "source": [
        "Lets look at the shape of the train and the test datasets"
      ],
      "metadata": {
        "id": "XJdpj3s3nDQF"
      }
    },
    {
      "cell_type": "code",
      "source": [
        "train_data, test_data"
      ],
      "metadata": {
        "id": "FgdmhuU4m_xg",
        "colab": {
          "base_uri": "https://localhost:8080/"
        },
        "outputId": "a91705c5-213a-4bcf-ccb3-d508364461ae"
      },
      "execution_count": null,
      "outputs": [
        {
          "output_type": "execute_result",
          "data": {
            "text/plain": [
              "(<PrefetchDataset element_spec=(TensorSpec(shape=(None, 224, 224, 3), dtype=tf.float32, name=None), TensorSpec(shape=(None,), dtype=tf.int64, name=None))>,\n",
              " <PrefetchDataset element_spec=(TensorSpec(shape=(None, 224, 224, 3), dtype=tf.float32, name=None), TensorSpec(shape=(None,), dtype=tf.int64, name=None))>)"
            ]
          },
          "metadata": {},
          "execution_count": 22
        }
      ]
    },
    {
      "cell_type": "code",
      "source": [
        "len(train_data), len(test_data)"
      ],
      "metadata": {
        "colab": {
          "base_uri": "https://localhost:8080/"
        },
        "id": "ST5SDXAnHN1n",
        "outputId": "4e4ef131-dd08-4d56-9141-033387e19e49"
      },
      "execution_count": null,
      "outputs": [
        {
          "output_type": "execute_result",
          "data": {
            "text/plain": [
              "(2368, 790)"
            ]
          },
          "metadata": {},
          "execution_count": 23
        }
      ]
    },
    {
      "cell_type": "markdown",
      "source": [
        "> Create Modeling callbacks "
      ],
      "metadata": {
        "id": "i2LCV6Wtnbyu"
      }
    },
    {
      "cell_type": "code",
      "source": [
        "from helper_functions import create_tensorboard_callback"
      ],
      "metadata": {
        "id": "Ai2LUumOnJPR"
      },
      "execution_count": null,
      "outputs": []
    },
    {
      "cell_type": "code",
      "source": [
        "checkpoint_path = 'checkpoints/cp.ckpt'\n",
        "checkpoint = tf.keras.callbacks.ModelCheckpoint(filepath = checkpoint_path, \n",
        "                                                monitor= 'val_accuracy', \n",
        "                                                save_weights_only = True,\n",
        "                                                save_best_only = True,\n",
        "                                                verbose = 0)"
      ],
      "metadata": {
        "id": "9_9kbo8JnnF0"
      },
      "execution_count": null,
      "outputs": []
    },
    {
      "cell_type": "markdown",
      "source": [
        "> Set up the Mixed Precsion training"
      ],
      "metadata": {
        "id": "s8f2B7yL-fFJ"
      }
    },
    {
      "cell_type": "code",
      "source": [
        "# from tensorflow.keras import mixed_precision\n",
        "# mixed_precision.set_global_policy('mixed_float16') # This enable the model to compute in float 16 whereever possible "
      ],
      "metadata": {
        "id": "Nhr42obPzjtE"
      },
      "execution_count": null,
      "outputs": []
    },
    {
      "cell_type": "code",
      "source": [
        "# mixed_precision.global_policy()"
      ],
      "metadata": {
        "id": "IpU_83IOzjqv"
      },
      "execution_count": null,
      "outputs": []
    },
    {
      "cell_type": "markdown",
      "source": [
        "> Building the efficentnet model with mixed precision ( For Feature Extraction - with Backbone model is not trainable)"
      ],
      "metadata": {
        "id": "t7miAshg_E4f"
      }
    },
    {
      "cell_type": "code",
      "source": [
        "from tensorflow.keras import layers\n",
        "from tensorflow.keras.optimizers import Adam"
      ],
      "metadata": {
        "id": "-IT-x1kM_RIP"
      },
      "execution_count": null,
      "outputs": []
    },
    {
      "cell_type": "code",
      "source": [
        "tf.random.set_seed(42)\n",
        "\n",
        "# define the backbone model\n",
        "\n",
        "base_model = tf.keras.applications.efficientnet.EfficientNetB0(include_top = False)\n",
        "\n",
        "base_model.trainable = False\n",
        "\n",
        "# create model using the application API\n",
        "\n",
        "inputs = layers.Input(shape = IMG_SIZE+(3,), name = 'input_layer')\n",
        "\n",
        "x = base_model(inputs)\n",
        "\n",
        "x = layers.GlobalAveragePooling2D()(x)\n",
        "\n",
        "x = layers.Dense(units = len(class_names))(x)\n",
        "\n",
        "# this step necessiry as we use the mixed precision and the data type needs to converted to float32 as they are only stable in terms varibles\n",
        "outputs = layers.Activation(activation = 'softmax', dtype = tf.float32, name = 'output_layer')(x)\n",
        "\n",
        "model = tf.keras.Model(inputs,outputs)\n",
        "\n",
        "# compile model\n",
        "\n",
        "model.compile(loss = 'sparse_categorical_crossentropy', # since the lables are in integer form, not in one-hot encoded form\n",
        "              optimizer = Adam(),\n",
        "              metrics = ['accuracy'])"
      ],
      "metadata": {
        "id": "c4UG_2Bezjon",
        "colab": {
          "base_uri": "https://localhost:8080/"
        },
        "outputId": "3af92156-44da-486a-c98d-a0f8b3c46196"
      },
      "execution_count": null,
      "outputs": [
        {
          "output_type": "stream",
          "name": "stdout",
          "text": [
            "Downloading data from https://storage.googleapis.com/keras-applications/efficientnetb0_notop.h5\n",
            "16705208/16705208 [==============================] - 1s 0us/step\n"
          ]
        }
      ]
    },
    {
      "cell_type": "markdown",
      "source": [
        "> Lets check the model parameters"
      ],
      "metadata": {
        "id": "N7zXtHfGB-jL"
      }
    },
    {
      "cell_type": "code",
      "source": [
        "model.summary()"
      ],
      "metadata": {
        "id": "wryk2ANLzjmL",
        "colab": {
          "base_uri": "https://localhost:8080/"
        },
        "outputId": "974e7af9-b90e-4972-ed6f-34ada992472f"
      },
      "execution_count": null,
      "outputs": [
        {
          "output_type": "stream",
          "name": "stdout",
          "text": [
            "Model: \"model\"\n",
            "_________________________________________________________________\n",
            " Layer (type)                Output Shape              Param #   \n",
            "=================================================================\n",
            " input_layer (InputLayer)    [(None, 224, 224, 3)]     0         \n",
            "                                                                 \n",
            " efficientnetb0 (Functional)  (None, None, None, 1280)  4049571  \n",
            "                                                                 \n",
            " global_average_pooling2d (G  (None, 1280)             0         \n",
            " lobalAveragePooling2D)                                          \n",
            "                                                                 \n",
            " dense (Dense)               (None, 101)               129381    \n",
            "                                                                 \n",
            " output_layer (Activation)   (None, 101)               0         \n",
            "                                                                 \n",
            "=================================================================\n",
            "Total params: 4,178,952\n",
            "Trainable params: 129,381\n",
            "Non-trainable params: 4,049,571\n",
            "_________________________________________________________________\n"
          ]
        }
      ]
    },
    {
      "cell_type": "code",
      "source": [
        "for layer in model.layers:\n",
        "  print(layer.name, layer.trainable, layer.dtype, layer.dtype_policy)"
      ],
      "metadata": {
        "id": "9ouBf6_5zjkR",
        "colab": {
          "base_uri": "https://localhost:8080/"
        },
        "outputId": "9c53584b-3619-4e62-e9e6-819dee4e2876"
      },
      "execution_count": null,
      "outputs": [
        {
          "output_type": "stream",
          "name": "stdout",
          "text": [
            "input_layer True float32 <Policy \"float32\">\n",
            "efficientnetb0 False float32 <Policy \"float32\">\n",
            "global_average_pooling2d True float32 <Policy \"float32\">\n",
            "dense True float32 <Policy \"float32\">\n",
            "output_layer True float32 <Policy \"float32\">\n"
          ]
        }
      ]
    },
    {
      "cell_type": "markdown",
      "source": [
        "lets check the sam for the backbone model"
      ],
      "metadata": {
        "id": "6THokTGECPEG"
      }
    },
    {
      "cell_type": "code",
      "source": [
        "for layer in model.layers[1].layers:\n",
        "  print(layer.name, layer.trainable, layer.dtype, layer.dtype_policy)"
      ],
      "metadata": {
        "id": "S5EFlIFjzjiL",
        "colab": {
          "base_uri": "https://localhost:8080/"
        },
        "outputId": "b8c8d50a-ac31-494d-d0d7-2fc524420f21"
      },
      "execution_count": null,
      "outputs": [
        {
          "output_type": "stream",
          "name": "stdout",
          "text": [
            "input_1 False float32 <Policy \"float32\">\n",
            "rescaling False float32 <Policy \"float32\">\n",
            "normalization False float32 <Policy \"float32\">\n",
            "tf.math.truediv False float32 <Policy \"float32\">\n",
            "stem_conv_pad False float32 <Policy \"float32\">\n",
            "stem_conv False float32 <Policy \"float32\">\n",
            "stem_bn False float32 <Policy \"float32\">\n",
            "stem_activation False float32 <Policy \"float32\">\n",
            "block1a_dwconv False float32 <Policy \"float32\">\n",
            "block1a_bn False float32 <Policy \"float32\">\n",
            "block1a_activation False float32 <Policy \"float32\">\n",
            "block1a_se_squeeze False float32 <Policy \"float32\">\n",
            "block1a_se_reshape False float32 <Policy \"float32\">\n",
            "block1a_se_reduce False float32 <Policy \"float32\">\n",
            "block1a_se_expand False float32 <Policy \"float32\">\n",
            "block1a_se_excite False float32 <Policy \"float32\">\n",
            "block1a_project_conv False float32 <Policy \"float32\">\n",
            "block1a_project_bn False float32 <Policy \"float32\">\n",
            "block2a_expand_conv False float32 <Policy \"float32\">\n",
            "block2a_expand_bn False float32 <Policy \"float32\">\n",
            "block2a_expand_activation False float32 <Policy \"float32\">\n",
            "block2a_dwconv_pad False float32 <Policy \"float32\">\n",
            "block2a_dwconv False float32 <Policy \"float32\">\n",
            "block2a_bn False float32 <Policy \"float32\">\n",
            "block2a_activation False float32 <Policy \"float32\">\n",
            "block2a_se_squeeze False float32 <Policy \"float32\">\n",
            "block2a_se_reshape False float32 <Policy \"float32\">\n",
            "block2a_se_reduce False float32 <Policy \"float32\">\n",
            "block2a_se_expand False float32 <Policy \"float32\">\n",
            "block2a_se_excite False float32 <Policy \"float32\">\n",
            "block2a_project_conv False float32 <Policy \"float32\">\n",
            "block2a_project_bn False float32 <Policy \"float32\">\n",
            "block2b_expand_conv False float32 <Policy \"float32\">\n",
            "block2b_expand_bn False float32 <Policy \"float32\">\n",
            "block2b_expand_activation False float32 <Policy \"float32\">\n",
            "block2b_dwconv False float32 <Policy \"float32\">\n",
            "block2b_bn False float32 <Policy \"float32\">\n",
            "block2b_activation False float32 <Policy \"float32\">\n",
            "block2b_se_squeeze False float32 <Policy \"float32\">\n",
            "block2b_se_reshape False float32 <Policy \"float32\">\n",
            "block2b_se_reduce False float32 <Policy \"float32\">\n",
            "block2b_se_expand False float32 <Policy \"float32\">\n",
            "block2b_se_excite False float32 <Policy \"float32\">\n",
            "block2b_project_conv False float32 <Policy \"float32\">\n",
            "block2b_project_bn False float32 <Policy \"float32\">\n",
            "block2b_drop False float32 <Policy \"float32\">\n",
            "block2b_add False float32 <Policy \"float32\">\n",
            "block3a_expand_conv False float32 <Policy \"float32\">\n",
            "block3a_expand_bn False float32 <Policy \"float32\">\n",
            "block3a_expand_activation False float32 <Policy \"float32\">\n",
            "block3a_dwconv_pad False float32 <Policy \"float32\">\n",
            "block3a_dwconv False float32 <Policy \"float32\">\n",
            "block3a_bn False float32 <Policy \"float32\">\n",
            "block3a_activation False float32 <Policy \"float32\">\n",
            "block3a_se_squeeze False float32 <Policy \"float32\">\n",
            "block3a_se_reshape False float32 <Policy \"float32\">\n",
            "block3a_se_reduce False float32 <Policy \"float32\">\n",
            "block3a_se_expand False float32 <Policy \"float32\">\n",
            "block3a_se_excite False float32 <Policy \"float32\">\n",
            "block3a_project_conv False float32 <Policy \"float32\">\n",
            "block3a_project_bn False float32 <Policy \"float32\">\n",
            "block3b_expand_conv False float32 <Policy \"float32\">\n",
            "block3b_expand_bn False float32 <Policy \"float32\">\n",
            "block3b_expand_activation False float32 <Policy \"float32\">\n",
            "block3b_dwconv False float32 <Policy \"float32\">\n",
            "block3b_bn False float32 <Policy \"float32\">\n",
            "block3b_activation False float32 <Policy \"float32\">\n",
            "block3b_se_squeeze False float32 <Policy \"float32\">\n",
            "block3b_se_reshape False float32 <Policy \"float32\">\n",
            "block3b_se_reduce False float32 <Policy \"float32\">\n",
            "block3b_se_expand False float32 <Policy \"float32\">\n",
            "block3b_se_excite False float32 <Policy \"float32\">\n",
            "block3b_project_conv False float32 <Policy \"float32\">\n",
            "block3b_project_bn False float32 <Policy \"float32\">\n",
            "block3b_drop False float32 <Policy \"float32\">\n",
            "block3b_add False float32 <Policy \"float32\">\n",
            "block4a_expand_conv False float32 <Policy \"float32\">\n",
            "block4a_expand_bn False float32 <Policy \"float32\">\n",
            "block4a_expand_activation False float32 <Policy \"float32\">\n",
            "block4a_dwconv_pad False float32 <Policy \"float32\">\n",
            "block4a_dwconv False float32 <Policy \"float32\">\n",
            "block4a_bn False float32 <Policy \"float32\">\n",
            "block4a_activation False float32 <Policy \"float32\">\n",
            "block4a_se_squeeze False float32 <Policy \"float32\">\n",
            "block4a_se_reshape False float32 <Policy \"float32\">\n",
            "block4a_se_reduce False float32 <Policy \"float32\">\n",
            "block4a_se_expand False float32 <Policy \"float32\">\n",
            "block4a_se_excite False float32 <Policy \"float32\">\n",
            "block4a_project_conv False float32 <Policy \"float32\">\n",
            "block4a_project_bn False float32 <Policy \"float32\">\n",
            "block4b_expand_conv False float32 <Policy \"float32\">\n",
            "block4b_expand_bn False float32 <Policy \"float32\">\n",
            "block4b_expand_activation False float32 <Policy \"float32\">\n",
            "block4b_dwconv False float32 <Policy \"float32\">\n",
            "block4b_bn False float32 <Policy \"float32\">\n",
            "block4b_activation False float32 <Policy \"float32\">\n",
            "block4b_se_squeeze False float32 <Policy \"float32\">\n",
            "block4b_se_reshape False float32 <Policy \"float32\">\n",
            "block4b_se_reduce False float32 <Policy \"float32\">\n",
            "block4b_se_expand False float32 <Policy \"float32\">\n",
            "block4b_se_excite False float32 <Policy \"float32\">\n",
            "block4b_project_conv False float32 <Policy \"float32\">\n",
            "block4b_project_bn False float32 <Policy \"float32\">\n",
            "block4b_drop False float32 <Policy \"float32\">\n",
            "block4b_add False float32 <Policy \"float32\">\n",
            "block4c_expand_conv False float32 <Policy \"float32\">\n",
            "block4c_expand_bn False float32 <Policy \"float32\">\n",
            "block4c_expand_activation False float32 <Policy \"float32\">\n",
            "block4c_dwconv False float32 <Policy \"float32\">\n",
            "block4c_bn False float32 <Policy \"float32\">\n",
            "block4c_activation False float32 <Policy \"float32\">\n",
            "block4c_se_squeeze False float32 <Policy \"float32\">\n",
            "block4c_se_reshape False float32 <Policy \"float32\">\n",
            "block4c_se_reduce False float32 <Policy \"float32\">\n",
            "block4c_se_expand False float32 <Policy \"float32\">\n",
            "block4c_se_excite False float32 <Policy \"float32\">\n",
            "block4c_project_conv False float32 <Policy \"float32\">\n",
            "block4c_project_bn False float32 <Policy \"float32\">\n",
            "block4c_drop False float32 <Policy \"float32\">\n",
            "block4c_add False float32 <Policy \"float32\">\n",
            "block5a_expand_conv False float32 <Policy \"float32\">\n",
            "block5a_expand_bn False float32 <Policy \"float32\">\n",
            "block5a_expand_activation False float32 <Policy \"float32\">\n",
            "block5a_dwconv False float32 <Policy \"float32\">\n",
            "block5a_bn False float32 <Policy \"float32\">\n",
            "block5a_activation False float32 <Policy \"float32\">\n",
            "block5a_se_squeeze False float32 <Policy \"float32\">\n",
            "block5a_se_reshape False float32 <Policy \"float32\">\n",
            "block5a_se_reduce False float32 <Policy \"float32\">\n",
            "block5a_se_expand False float32 <Policy \"float32\">\n",
            "block5a_se_excite False float32 <Policy \"float32\">\n",
            "block5a_project_conv False float32 <Policy \"float32\">\n",
            "block5a_project_bn False float32 <Policy \"float32\">\n",
            "block5b_expand_conv False float32 <Policy \"float32\">\n",
            "block5b_expand_bn False float32 <Policy \"float32\">\n",
            "block5b_expand_activation False float32 <Policy \"float32\">\n",
            "block5b_dwconv False float32 <Policy \"float32\">\n",
            "block5b_bn False float32 <Policy \"float32\">\n",
            "block5b_activation False float32 <Policy \"float32\">\n",
            "block5b_se_squeeze False float32 <Policy \"float32\">\n",
            "block5b_se_reshape False float32 <Policy \"float32\">\n",
            "block5b_se_reduce False float32 <Policy \"float32\">\n",
            "block5b_se_expand False float32 <Policy \"float32\">\n",
            "block5b_se_excite False float32 <Policy \"float32\">\n",
            "block5b_project_conv False float32 <Policy \"float32\">\n",
            "block5b_project_bn False float32 <Policy \"float32\">\n",
            "block5b_drop False float32 <Policy \"float32\">\n",
            "block5b_add False float32 <Policy \"float32\">\n",
            "block5c_expand_conv False float32 <Policy \"float32\">\n",
            "block5c_expand_bn False float32 <Policy \"float32\">\n",
            "block5c_expand_activation False float32 <Policy \"float32\">\n",
            "block5c_dwconv False float32 <Policy \"float32\">\n",
            "block5c_bn False float32 <Policy \"float32\">\n",
            "block5c_activation False float32 <Policy \"float32\">\n",
            "block5c_se_squeeze False float32 <Policy \"float32\">\n",
            "block5c_se_reshape False float32 <Policy \"float32\">\n",
            "block5c_se_reduce False float32 <Policy \"float32\">\n",
            "block5c_se_expand False float32 <Policy \"float32\">\n",
            "block5c_se_excite False float32 <Policy \"float32\">\n",
            "block5c_project_conv False float32 <Policy \"float32\">\n",
            "block5c_project_bn False float32 <Policy \"float32\">\n",
            "block5c_drop False float32 <Policy \"float32\">\n",
            "block5c_add False float32 <Policy \"float32\">\n",
            "block6a_expand_conv False float32 <Policy \"float32\">\n",
            "block6a_expand_bn False float32 <Policy \"float32\">\n",
            "block6a_expand_activation False float32 <Policy \"float32\">\n",
            "block6a_dwconv_pad False float32 <Policy \"float32\">\n",
            "block6a_dwconv False float32 <Policy \"float32\">\n",
            "block6a_bn False float32 <Policy \"float32\">\n",
            "block6a_activation False float32 <Policy \"float32\">\n",
            "block6a_se_squeeze False float32 <Policy \"float32\">\n",
            "block6a_se_reshape False float32 <Policy \"float32\">\n",
            "block6a_se_reduce False float32 <Policy \"float32\">\n",
            "block6a_se_expand False float32 <Policy \"float32\">\n",
            "block6a_se_excite False float32 <Policy \"float32\">\n",
            "block6a_project_conv False float32 <Policy \"float32\">\n",
            "block6a_project_bn False float32 <Policy \"float32\">\n",
            "block6b_expand_conv False float32 <Policy \"float32\">\n",
            "block6b_expand_bn False float32 <Policy \"float32\">\n",
            "block6b_expand_activation False float32 <Policy \"float32\">\n",
            "block6b_dwconv False float32 <Policy \"float32\">\n",
            "block6b_bn False float32 <Policy \"float32\">\n",
            "block6b_activation False float32 <Policy \"float32\">\n",
            "block6b_se_squeeze False float32 <Policy \"float32\">\n",
            "block6b_se_reshape False float32 <Policy \"float32\">\n",
            "block6b_se_reduce False float32 <Policy \"float32\">\n",
            "block6b_se_expand False float32 <Policy \"float32\">\n",
            "block6b_se_excite False float32 <Policy \"float32\">\n",
            "block6b_project_conv False float32 <Policy \"float32\">\n",
            "block6b_project_bn False float32 <Policy \"float32\">\n",
            "block6b_drop False float32 <Policy \"float32\">\n",
            "block6b_add False float32 <Policy \"float32\">\n",
            "block6c_expand_conv False float32 <Policy \"float32\">\n",
            "block6c_expand_bn False float32 <Policy \"float32\">\n",
            "block6c_expand_activation False float32 <Policy \"float32\">\n",
            "block6c_dwconv False float32 <Policy \"float32\">\n",
            "block6c_bn False float32 <Policy \"float32\">\n",
            "block6c_activation False float32 <Policy \"float32\">\n",
            "block6c_se_squeeze False float32 <Policy \"float32\">\n",
            "block6c_se_reshape False float32 <Policy \"float32\">\n",
            "block6c_se_reduce False float32 <Policy \"float32\">\n",
            "block6c_se_expand False float32 <Policy \"float32\">\n",
            "block6c_se_excite False float32 <Policy \"float32\">\n",
            "block6c_project_conv False float32 <Policy \"float32\">\n",
            "block6c_project_bn False float32 <Policy \"float32\">\n",
            "block6c_drop False float32 <Policy \"float32\">\n",
            "block6c_add False float32 <Policy \"float32\">\n",
            "block6d_expand_conv False float32 <Policy \"float32\">\n",
            "block6d_expand_bn False float32 <Policy \"float32\">\n",
            "block6d_expand_activation False float32 <Policy \"float32\">\n",
            "block6d_dwconv False float32 <Policy \"float32\">\n",
            "block6d_bn False float32 <Policy \"float32\">\n",
            "block6d_activation False float32 <Policy \"float32\">\n",
            "block6d_se_squeeze False float32 <Policy \"float32\">\n",
            "block6d_se_reshape False float32 <Policy \"float32\">\n",
            "block6d_se_reduce False float32 <Policy \"float32\">\n",
            "block6d_se_expand False float32 <Policy \"float32\">\n",
            "block6d_se_excite False float32 <Policy \"float32\">\n",
            "block6d_project_conv False float32 <Policy \"float32\">\n",
            "block6d_project_bn False float32 <Policy \"float32\">\n",
            "block6d_drop False float32 <Policy \"float32\">\n",
            "block6d_add False float32 <Policy \"float32\">\n",
            "block7a_expand_conv False float32 <Policy \"float32\">\n",
            "block7a_expand_bn False float32 <Policy \"float32\">\n",
            "block7a_expand_activation False float32 <Policy \"float32\">\n",
            "block7a_dwconv False float32 <Policy \"float32\">\n",
            "block7a_bn False float32 <Policy \"float32\">\n",
            "block7a_activation False float32 <Policy \"float32\">\n",
            "block7a_se_squeeze False float32 <Policy \"float32\">\n",
            "block7a_se_reshape False float32 <Policy \"float32\">\n",
            "block7a_se_reduce False float32 <Policy \"float32\">\n",
            "block7a_se_expand False float32 <Policy \"float32\">\n",
            "block7a_se_excite False float32 <Policy \"float32\">\n",
            "block7a_project_conv False float32 <Policy \"float32\">\n",
            "block7a_project_bn False float32 <Policy \"float32\">\n",
            "top_conv False float32 <Policy \"float32\">\n",
            "top_bn False float32 <Policy \"float32\">\n",
            "top_activation False float32 <Policy \"float32\">\n"
          ]
        }
      ]
    },
    {
      "cell_type": "markdown",
      "source": [
        "> Lets train the first model"
      ],
      "metadata": {
        "id": "Os4cbE_bCdle"
      }
    },
    {
      "cell_type": "code",
      "source": [
        "!nvidia-smi"
      ],
      "metadata": {
        "colab": {
          "base_uri": "https://localhost:8080/"
        },
        "id": "wVKNVMmKIr7c",
        "outputId": "00b34363-d56d-48a2-c599-bf7189a55b4a"
      },
      "execution_count": null,
      "outputs": [
        {
          "output_type": "stream",
          "name": "stdout",
          "text": [
            "Fri Feb 24 03:24:33 2023       \n",
            "+-----------------------------------------------------------------------------+\n",
            "| NVIDIA-SMI 510.47.03    Driver Version: 510.47.03    CUDA Version: 11.6     |\n",
            "|-------------------------------+----------------------+----------------------+\n",
            "| GPU  Name        Persistence-M| Bus-Id        Disp.A | Volatile Uncorr. ECC |\n",
            "| Fan  Temp  Perf  Pwr:Usage/Cap|         Memory-Usage | GPU-Util  Compute M. |\n",
            "|                               |                      |               MIG M. |\n",
            "|===============================+======================+======================|\n",
            "|   0  Tesla T4            Off  | 00000000:00:04.0 Off |                    0 |\n",
            "| N/A   53C    P0    26W /  70W |    340MiB / 15360MiB |      0%      Default |\n",
            "|                               |                      |                  N/A |\n",
            "+-------------------------------+----------------------+----------------------+\n",
            "                                                                               \n",
            "+-----------------------------------------------------------------------------+\n",
            "| Processes:                                                                  |\n",
            "|  GPU   GI   CI        PID   Type   Process name                  GPU Memory |\n",
            "|        ID   ID                                                   Usage      |\n",
            "|=============================================================================|\n",
            "|    0   N/A  N/A      2047      C                                     337MiB |\n",
            "+-----------------------------------------------------------------------------+\n"
          ]
        }
      ]
    },
    {
      "cell_type": "code",
      "source": [
        "history_0 = model.fit(train_data,\n",
        "                      epochs = 5,\n",
        "                      steps_per_epoch = len(train_data),\n",
        "                      validation_data = test_data,\n",
        "                      validation_steps = int(0.15*len(test_data)),\n",
        "                      callbacks = [create_tensorboard_callback(dir_name = 'tensorboard_callbacks',\n",
        "                                                               experiment_name = 'food101_efficientnetB0_feature_extraction'),\n",
        "                                   checkpoint])"
      ],
      "metadata": {
        "id": "1ILOYlG1zjda",
        "colab": {
          "base_uri": "https://localhost:8080/"
        },
        "outputId": "7179c9c5-b0ff-4cb6-a4f2-d2a524b10aa8"
      },
      "execution_count": null,
      "outputs": [
        {
          "output_type": "stream",
          "name": "stdout",
          "text": [
            "Saving TensorBoard log files to: tensorboard_callbacks/food101_efficientnetB0_feature_extraction/20230224-032433\n",
            "Epoch 1/5\n",
            "2368/2368 [==============================] - 231s 91ms/step - loss: 1.7787 - accuracy: 0.5674 - val_loss: 1.1224 - val_accuracy: 0.6947\n",
            "Epoch 2/5\n",
            "2368/2368 [==============================] - 205s 86ms/step - loss: 1.2662 - accuracy: 0.6710 - val_loss: 1.0306 - val_accuracy: 0.7132\n",
            "Epoch 3/5\n",
            "2368/2368 [==============================] - 213s 88ms/step - loss: 1.1312 - accuracy: 0.7032 - val_loss: 0.9888 - val_accuracy: 0.7267\n",
            "Epoch 4/5\n",
            "2368/2368 [==============================] - 203s 85ms/step - loss: 1.0432 - accuracy: 0.7240 - val_loss: 0.9676 - val_accuracy: 0.7315\n",
            "Epoch 5/5\n",
            "2368/2368 [==============================] - 202s 84ms/step - loss: 0.9812 - accuracy: 0.7396 - val_loss: 0.9670 - val_accuracy: 0.7309\n"
          ]
        }
      ]
    },
    {
      "cell_type": "markdown",
      "source": [
        "Lets evaluate the model"
      ],
      "metadata": {
        "id": "EXKj2xP_HS37"
      }
    },
    {
      "cell_type": "code",
      "source": [
        "model.evaluate(test_data)"
      ],
      "metadata": {
        "id": "nNjz0cUIzjbG",
        "colab": {
          "base_uri": "https://localhost:8080/"
        },
        "outputId": "12ed471f-0a94-48f2-8038-e88b290204e7"
      },
      "execution_count": null,
      "outputs": [
        {
          "output_type": "stream",
          "name": "stdout",
          "text": [
            "790/790 [==============================] - 60s 76ms/step - loss: 0.9675 - accuracy: 0.7366\n"
          ]
        },
        {
          "output_type": "execute_result",
          "data": {
            "text/plain": [
              "[0.9675086736679077, 0.7366336584091187]"
            ]
          },
          "metadata": {},
          "execution_count": 35
        }
      ]
    },
    {
      "cell_type": "markdown",
      "source": [
        "> Lets Save the model"
      ],
      "metadata": {
        "id": "ppsmumcvJA_J"
      }
    },
    {
      "cell_type": "code",
      "source": [
        "model.save('/content/saved_models/feature_extraction')"
      ],
      "metadata": {
        "colab": {
          "base_uri": "https://localhost:8080/"
        },
        "id": "h-7ylVRjeR6c",
        "outputId": "5e3ed676-5967-42a9-deb5-c9ea9eba8251"
      },
      "execution_count": null,
      "outputs": [
        {
          "output_type": "stream",
          "name": "stderr",
          "text": [
            "WARNING:absl:Found untraced functions such as _jit_compiled_convolution_op, _jit_compiled_convolution_op, _jit_compiled_convolution_op, _jit_compiled_convolution_op, _jit_compiled_convolution_op while saving (showing 5 of 81). These functions will not be directly callable after loading.\n"
          ]
        }
      ]
    },
    {
      "cell_type": "code",
      "source": [
        "loaded_model = tf.keras.models.load_model('/content/saved_models/feature_extraction')\n",
        "loaded_model"
      ],
      "metadata": {
        "id": "CWPGo7asKqi5",
        "colab": {
          "base_uri": "https://localhost:8080/"
        },
        "outputId": "04dadbb1-228b-4bcb-8438-33e11c7ada71"
      },
      "execution_count": null,
      "outputs": [
        {
          "output_type": "execute_result",
          "data": {
            "text/plain": [
              "<keras.engine.functional.Functional at 0x7fc7db384220>"
            ]
          },
          "metadata": {},
          "execution_count": 37
        }
      ]
    },
    {
      "cell_type": "code",
      "source": [
        "loaded_model.evaluate(test_data)"
      ],
      "metadata": {
        "id": "QzN8XaSqKqgZ",
        "colab": {
          "base_uri": "https://localhost:8080/"
        },
        "outputId": "60fcfdf9-12e9-4e0b-f5ba-9a1c892da2aa"
      },
      "execution_count": null,
      "outputs": [
        {
          "output_type": "stream",
          "name": "stdout",
          "text": [
            "790/790 [==============================] - 65s 80ms/step - loss: 0.9675 - accuracy: 0.7366\n"
          ]
        },
        {
          "output_type": "execute_result",
          "data": {
            "text/plain": [
              "[0.9675092101097107, 0.7366336584091187]"
            ]
          },
          "metadata": {},
          "execution_count": 38
        }
      ]
    },
    {
      "cell_type": "markdown",
      "source": [
        "Lets examine the model visually"
      ],
      "metadata": {
        "id": "s5v72lM4fll6"
      }
    },
    {
      "cell_type": "code",
      "source": [
        "plot_loss_curves(history_0)"
      ],
      "metadata": {
        "id": "JJuYUqEBKqbV",
        "colab": {
          "base_uri": "https://localhost:8080/",
          "height": 573
        },
        "outputId": "9c3b5404-4401-4fcd-bcb0-a30edff3ad8b"
      },
      "execution_count": null,
      "outputs": [
        {
          "output_type": "display_data",
          "data": {
            "text/plain": [
              "<Figure size 432x288 with 1 Axes>"
            ],
            "image/png": "[encoded data removed]"
          },
          "metadata": {
            "needs_background": "light"
          }
        },
        {
          "output_type": "display_data",
          "data": {
            "text/plain": [
              "<Figure size 432x288 with 1 Axes>"
            ],
            "image/png": "[encoded data removed]"
          },
          "metadata": {
            "needs_background": "light"
          }
        }
      ]
    },
    {
      "cell_type": "markdown",
      "source": [
        "Lets do some fine tuning for the model"
      ],
      "metadata": {
        "id": "9J7iwWDIf_TT"
      }
    },
    {
      "cell_type": "code",
      "source": [
        "model.summary()"
      ],
      "metadata": {
        "id": "mJFd1hY0KqY5",
        "colab": {
          "base_uri": "https://localhost:8080/"
        },
        "outputId": "3615d527-7328-4bd2-a48b-ba5f705f76ad"
      },
      "execution_count": null,
      "outputs": [
        {
          "output_type": "stream",
          "name": "stdout",
          "text": [
            "Model: \"model\"\n",
            "_________________________________________________________________\n",
            " Layer (type)                Output Shape              Param #   \n",
            "=================================================================\n",
            " input_layer (InputLayer)    [(None, 224, 224, 3)]     0         \n",
            "                                                                 \n",
            " efficientnetb0 (Functional)  (None, None, None, 1280)  4049571  \n",
            "                                                                 \n",
            " global_average_pooling2d (G  (None, 1280)             0         \n",
            " lobalAveragePooling2D)                                          \n",
            "                                                                 \n",
            " dense (Dense)               (None, 101)               129381    \n",
            "                                                                 \n",
            " output_layer (Activation)   (None, 101)               0         \n",
            "                                                                 \n",
            "=================================================================\n",
            "Total params: 4,178,952\n",
            "Trainable params: 129,381\n",
            "Non-trainable params: 4,049,571\n",
            "_________________________________________________________________\n"
          ]
        }
      ]
    },
    {
      "cell_type": "markdown",
      "source": [
        "Fine tuning the Feature extraction Model"
      ],
      "metadata": {
        "id": "p7XQbkOjiHcb"
      }
    },
    {
      "cell_type": "code",
      "source": [
        "# modify the backbone model\n",
        "base_model.trainable = True\n",
        "\n",
        "for layer in base_model.layers[:-5]:\n",
        "  layer.trainable = False"
      ],
      "metadata": {
        "id": "niSnXuB0iG_e"
      },
      "execution_count": null,
      "outputs": []
    },
    {
      "cell_type": "code",
      "source": [
        "# recompile the model\n",
        "\n",
        "model.compile(loss = 'sparse_categorical_crossentropy',\n",
        "              optimizer = Adam(lr = 0.0001), \n",
        "              metrics = ['accuracy'])"
      ],
      "metadata": {
        "id": "ZpbYQsFehtWd"
      },
      "execution_count": null,
      "outputs": []
    },
    {
      "cell_type": "code",
      "source": [
        "model.summary()"
      ],
      "metadata": {
        "colab": {
          "base_uri": "https://localhost:8080/"
        },
        "id": "MLv-i9mjhtUP",
        "outputId": "f8227841-83b3-45e0-809f-7f335fe0f6cc"
      },
      "execution_count": null,
      "outputs": [
        {
          "output_type": "stream",
          "name": "stdout",
          "text": [
            "Model: \"model\"\n",
            "_________________________________________________________________\n",
            " Layer (type)                Output Shape              Param #   \n",
            "=================================================================\n",
            " input_layer (InputLayer)    [(None, 224, 224, 3)]     0         \n",
            "                                                                 \n",
            " efficientnetb0 (Functional)  (None, None, None, 1280)  4049571  \n",
            "                                                                 \n",
            " global_average_pooling2d (G  (None, 1280)             0         \n",
            " lobalAveragePooling2D)                                          \n",
            "                                                                 \n",
            " dense (Dense)               (None, 101)               129381    \n",
            "                                                                 \n",
            " output_layer (Activation)   (None, 101)               0         \n",
            "                                                                 \n",
            "=================================================================\n",
            "Total params: 4,178,952\n",
            "Trainable params: 910,821\n",
            "Non-trainable params: 3,268,131\n",
            "_________________________________________________________________\n"
          ]
        }
      ]
    },
    {
      "cell_type": "code",
      "source": [
        "for layer in model.layers:\n",
        "  print(layer.name,layer.trainable)"
      ],
      "metadata": {
        "id": "1lnge9BKgKYu",
        "colab": {
          "base_uri": "https://localhost:8080/"
        },
        "outputId": "c43c006c-6781-46bf-a1c0-c59e787991ba"
      },
      "execution_count": null,
      "outputs": [
        {
          "output_type": "stream",
          "name": "stdout",
          "text": [
            "input_layer True\n",
            "efficientnetb0 True\n",
            "global_average_pooling2d True\n",
            "dense True\n",
            "output_layer True\n"
          ]
        }
      ]
    },
    {
      "cell_type": "code",
      "source": [
        "for layer in model.layers[1].layers:\n",
        "  print(layer.name,layer.trainable)"
      ],
      "metadata": {
        "colab": {
          "base_uri": "https://localhost:8080/"
        },
        "id": "nq7Q3voujBiS",
        "outputId": "7572b6e0-bce8-4661-d10b-96472ed1364f"
      },
      "execution_count": null,
      "outputs": [
        {
          "output_type": "stream",
          "name": "stdout",
          "text": [
            "input_1 False\n",
            "rescaling False\n",
            "normalization False\n",
            "tf.math.truediv False\n",
            "stem_conv_pad False\n",
            "stem_conv False\n",
            "stem_bn False\n",
            "stem_activation False\n",
            "block1a_dwconv False\n",
            "block1a_bn False\n",
            "block1a_activation False\n",
            "block1a_se_squeeze False\n",
            "block1a_se_reshape False\n",
            "block1a_se_reduce False\n",
            "block1a_se_expand False\n",
            "block1a_se_excite False\n",
            "block1a_project_conv False\n",
            "block1a_project_bn False\n",
            "block2a_expand_conv False\n",
            "block2a_expand_bn False\n",
            "block2a_expand_activation False\n",
            "block2a_dwconv_pad False\n",
            "block2a_dwconv False\n",
            "block2a_bn False\n",
            "block2a_activation False\n",
            "block2a_se_squeeze False\n",
            "block2a_se_reshape False\n",
            "block2a_se_reduce False\n",
            "block2a_se_expand False\n",
            "block2a_se_excite False\n",
            "block2a_project_conv False\n",
            "block2a_project_bn False\n",
            "block2b_expand_conv False\n",
            "block2b_expand_bn False\n",
            "block2b_expand_activation False\n",
            "block2b_dwconv False\n",
            "block2b_bn False\n",
            "block2b_activation False\n",
            "block2b_se_squeeze False\n",
            "block2b_se_reshape False\n",
            "block2b_se_reduce False\n",
            "block2b_se_expand False\n",
            "block2b_se_excite False\n",
            "block2b_project_conv False\n",
            "block2b_project_bn False\n",
            "block2b_drop False\n",
            "block2b_add False\n",
            "block3a_expand_conv False\n",
            "block3a_expand_bn False\n",
            "block3a_expand_activation False\n",
            "block3a_dwconv_pad False\n",
            "block3a_dwconv False\n",
            "block3a_bn False\n",
            "block3a_activation False\n",
            "block3a_se_squeeze False\n",
            "block3a_se_reshape False\n",
            "block3a_se_reduce False\n",
            "block3a_se_expand False\n",
            "block3a_se_excite False\n",
            "block3a_project_conv False\n",
            "block3a_project_bn False\n",
            "block3b_expand_conv False\n",
            "block3b_expand_bn False\n",
            "block3b_expand_activation False\n",
            "block3b_dwconv False\n",
            "block3b_bn False\n",
            "block3b_activation False\n",
            "block3b_se_squeeze False\n",
            "block3b_se_reshape False\n",
            "block3b_se_reduce False\n",
            "block3b_se_expand False\n",
            "block3b_se_excite False\n",
            "block3b_project_conv False\n",
            "block3b_project_bn False\n",
            "block3b_drop False\n",
            "block3b_add False\n",
            "block4a_expand_conv False\n",
            "block4a_expand_bn False\n",
            "block4a_expand_activation False\n",
            "block4a_dwconv_pad False\n",
            "block4a_dwconv False\n",
            "block4a_bn False\n",
            "block4a_activation False\n",
            "block4a_se_squeeze False\n",
            "block4a_se_reshape False\n",
            "block4a_se_reduce False\n",
            "block4a_se_expand False\n",
            "block4a_se_excite False\n",
            "block4a_project_conv False\n",
            "block4a_project_bn False\n",
            "block4b_expand_conv False\n",
            "block4b_expand_bn False\n",
            "block4b_expand_activation False\n",
            "block4b_dwconv False\n",
            "block4b_bn False\n",
            "block4b_activation False\n",
            "block4b_se_squeeze False\n",
            "block4b_se_reshape False\n",
            "block4b_se_reduce False\n",
            "block4b_se_expand False\n",
            "block4b_se_excite False\n",
            "block4b_project_conv False\n",
            "block4b_project_bn False\n",
            "block4b_drop False\n",
            "block4b_add False\n",
            "block4c_expand_conv False\n",
            "block4c_expand_bn False\n",
            "block4c_expand_activation False\n",
            "block4c_dwconv False\n",
            "block4c_bn False\n",
            "block4c_activation False\n",
            "block4c_se_squeeze False\n",
            "block4c_se_reshape False\n",
            "block4c_se_reduce False\n",
            "block4c_se_expand False\n",
            "block4c_se_excite False\n",
            "block4c_project_conv False\n",
            "block4c_project_bn False\n",
            "block4c_drop False\n",
            "block4c_add False\n",
            "block5a_expand_conv False\n",
            "block5a_expand_bn False\n",
            "block5a_expand_activation False\n",
            "block5a_dwconv False\n",
            "block5a_bn False\n",
            "block5a_activation False\n",
            "block5a_se_squeeze False\n",
            "block5a_se_reshape False\n",
            "block5a_se_reduce False\n",
            "block5a_se_expand False\n",
            "block5a_se_excite False\n",
            "block5a_project_conv False\n",
            "block5a_project_bn False\n",
            "block5b_expand_conv False\n",
            "block5b_expand_bn False\n",
            "block5b_expand_activation False\n",
            "block5b_dwconv False\n",
            "block5b_bn False\n",
            "block5b_activation False\n",
            "block5b_se_squeeze False\n",
            "block5b_se_reshape False\n",
            "block5b_se_reduce False\n",
            "block5b_se_expand False\n",
            "block5b_se_excite False\n",
            "block5b_project_conv False\n",
            "block5b_project_bn False\n",
            "block5b_drop False\n",
            "block5b_add False\n",
            "block5c_expand_conv False\n",
            "block5c_expand_bn False\n",
            "block5c_expand_activation False\n",
            "block5c_dwconv False\n",
            "block5c_bn False\n",
            "block5c_activation False\n",
            "block5c_se_squeeze False\n",
            "block5c_se_reshape False\n",
            "block5c_se_reduce False\n",
            "block5c_se_expand False\n",
            "block5c_se_excite False\n",
            "block5c_project_conv False\n",
            "block5c_project_bn False\n",
            "block5c_drop False\n",
            "block5c_add False\n",
            "block6a_expand_conv False\n",
            "block6a_expand_bn False\n",
            "block6a_expand_activation False\n",
            "block6a_dwconv_pad False\n",
            "block6a_dwconv False\n",
            "block6a_bn False\n",
            "block6a_activation False\n",
            "block6a_se_squeeze False\n",
            "block6a_se_reshape False\n",
            "block6a_se_reduce False\n",
            "block6a_se_expand False\n",
            "block6a_se_excite False\n",
            "block6a_project_conv False\n",
            "block6a_project_bn False\n",
            "block6b_expand_conv False\n",
            "block6b_expand_bn False\n",
            "block6b_expand_activation False\n",
            "block6b_dwconv False\n",
            "block6b_bn False\n",
            "block6b_activation False\n",
            "block6b_se_squeeze False\n",
            "block6b_se_reshape False\n",
            "block6b_se_reduce False\n",
            "block6b_se_expand False\n",
            "block6b_se_excite False\n",
            "block6b_project_conv False\n",
            "block6b_project_bn False\n",
            "block6b_drop False\n",
            "block6b_add False\n",
            "block6c_expand_conv False\n",
            "block6c_expand_bn False\n",
            "block6c_expand_activation False\n",
            "block6c_dwconv False\n",
            "block6c_bn False\n",
            "block6c_activation False\n",
            "block6c_se_squeeze False\n",
            "block6c_se_reshape False\n",
            "block6c_se_reduce False\n",
            "block6c_se_expand False\n",
            "block6c_se_excite False\n",
            "block6c_project_conv False\n",
            "block6c_project_bn False\n",
            "block6c_drop False\n",
            "block6c_add False\n",
            "block6d_expand_conv False\n",
            "block6d_expand_bn False\n",
            "block6d_expand_activation False\n",
            "block6d_dwconv False\n",
            "block6d_bn False\n",
            "block6d_activation False\n",
            "block6d_se_squeeze False\n",
            "block6d_se_reshape False\n",
            "block6d_se_reduce False\n",
            "block6d_se_expand False\n",
            "block6d_se_excite False\n",
            "block6d_project_conv False\n",
            "block6d_project_bn False\n",
            "block6d_drop False\n",
            "block6d_add False\n",
            "block7a_expand_conv False\n",
            "block7a_expand_bn False\n",
            "block7a_expand_activation False\n",
            "block7a_dwconv False\n",
            "block7a_bn False\n",
            "block7a_activation False\n",
            "block7a_se_squeeze False\n",
            "block7a_se_reshape False\n",
            "block7a_se_reduce False\n",
            "block7a_se_expand False\n",
            "block7a_se_excite False\n",
            "block7a_project_conv True\n",
            "block7a_project_bn True\n",
            "top_conv True\n",
            "top_bn True\n",
            "top_activation True\n"
          ]
        }
      ]
    },
    {
      "cell_type": "code",
      "source": [
        "# lets fit the fine tune model\n",
        "\n",
        "fine_tune_epochs = 10\n",
        "\n",
        "history_1 = model.fit(train_data,\n",
        "                      epochs = fine_tune_epochs,\n",
        "                      steps_per_epoch = len(train_data),\n",
        "                      validation_data = test_data,\n",
        "                      validation_steps = int(0.15*len(test_data)),\n",
        "                      initial_epoch = history_0.epoch[-1],\n",
        "                      callbacks = [create_tensorboard_callback(dir_name = 'tensorborad_callbacks',\n",
        "                                                               experiment_name = 'food101_efficientnet_fine_tuning1')])"
      ],
      "metadata": {
        "colab": {
          "base_uri": "https://localhost:8080/"
        },
        "id": "FFgCFeXZjI3E",
        "outputId": "84c230e6-c6c7-45be-8e9c-49a28973c21c"
      },
      "execution_count": null,
      "outputs": [
        {
          "output_type": "stream",
          "name": "stdout",
          "text": [
            "Saving TensorBoard log files to: tensorborad_callbacks/food101_efficientnet_fine_tuning1/20230224-035806\n",
            "Epoch 5/10\n",
            "2368/2368 [==============================] - 216s 87ms/step - loss: 0.9426 - accuracy: 0.7487 - val_loss: 0.8972 - val_accuracy: 0.7511\n",
            "Epoch 6/10\n",
            "2368/2368 [==============================] - 208s 87ms/step - loss: 0.8097 - accuracy: 0.7833 - val_loss: 0.8704 - val_accuracy: 0.7582\n",
            "Epoch 7/10\n",
            "2368/2368 [==============================] - 207s 86ms/step - loss: 0.7344 - accuracy: 0.8033 - val_loss: 0.8670 - val_accuracy: 0.7585\n",
            "Epoch 8/10\n",
            "2368/2368 [==============================] - 206s 85ms/step - loss: 0.6729 - accuracy: 0.8226 - val_loss: 0.8414 - val_accuracy: 0.7696\n",
            "Epoch 9/10\n",
            "2368/2368 [==============================] - 208s 87ms/step - loss: 0.6213 - accuracy: 0.8349 - val_loss: 0.8470 - val_accuracy: 0.7683\n",
            "Epoch 10/10\n",
            "2368/2368 [==============================] - 206s 86ms/step - loss: 0.5763 - accuracy: 0.8472 - val_loss: 0.8361 - val_accuracy: 0.7738\n"
          ]
        }
      ]
    },
    {
      "cell_type": "code",
      "source": [
        "compare_historys(history_0,history_1, initial_epochs = 5)"
      ],
      "metadata": {
        "colab": {
          "base_uri": "https://localhost:8080/",
          "height": 513
        },
        "id": "SuXWCLRzozx2",
        "outputId": "af59cd63-e52f-4c33-ec60-7a9c6cde2cbd"
      },
      "execution_count": null,
      "outputs": [
        {
          "output_type": "display_data",
          "data": {
            "text/plain": [
              "<Figure size 576x576 with 2 Axes>"
            ],
            "image/png": "[encoded data removed]"
          },
          "metadata": {
            "needs_background": "light"
          }
        }
      ]
    },
    {
      "cell_type": "code",
      "source": [
        "# lets save the model\n",
        "\n",
        "model.save('/content/saved_models/feature_extraction_fine_tune1')"
      ],
      "metadata": {
        "colab": {
          "base_uri": "https://localhost:8080/"
        },
        "id": "mAjioqpzquUv",
        "outputId": "bc255120-7b79-4ce2-98ab-fabfc28f04b3"
      },
      "execution_count": null,
      "outputs": [
        {
          "output_type": "stream",
          "name": "stderr",
          "text": [
            "WARNING:absl:Found untraced functions such as _jit_compiled_convolution_op, _jit_compiled_convolution_op, _jit_compiled_convolution_op, _jit_compiled_convolution_op, _jit_compiled_convolution_op while saving (showing 5 of 81). These functions will not be directly callable after loading.\n"
          ]
        }
      ]
    },
    {
      "cell_type": "code",
      "source": [
        "loaded_model_fine_tune1 = tf.keras.models.load_model('/content/saved_models/feature_extraction_fine_tune1')"
      ],
      "metadata": {
        "id": "Hh9P2pTyq57c"
      },
      "execution_count": null,
      "outputs": []
    },
    {
      "cell_type": "code",
      "source": [
        "loaded_model_fine_tune1.evaluate(test_data)"
      ],
      "metadata": {
        "colab": {
          "base_uri": "https://localhost:8080/"
        },
        "id": "CIin8MHCrFDi",
        "outputId": "8e6d927f-400d-42b6-ea88-0a0a21e25c13"
      },
      "execution_count": null,
      "outputs": [
        {
          "output_type": "stream",
          "name": "stdout",
          "text": [
            "790/790 [==============================] - 73s 90ms/step - loss: 0.8438 - accuracy: 0.7670\n"
          ]
        },
        {
          "output_type": "execute_result",
          "data": {
            "text/plain": [
              "[0.8437617421150208, 0.7670099139213562]"
            ]
          },
          "metadata": {},
          "execution_count": 56
        }
      ]
    },
    {
      "cell_type": "markdown",
      "source": [
        "Seems like our model is improving the their performance in as we train for more epochs\n",
        "\n",
        "- how will you decide how much epochs required - we can use early stopping callback with 100 epochs"
      ],
      "metadata": {
        "id": "lNAfgYogqYPc"
      }
    },
    {
      "cell_type": "code",
      "source": [
        "# lets create a early stopping callback\n",
        "\n",
        "early_stopping = tf.keras.callbacks.EarlyStopping(monitor = 'val_accuracy',\n",
        "                                                  patience = 3)\n",
        "\n",
        "# lets create a checkpoint instace \n",
        "\n",
        "checkpoint_100_epoch = tf.keras.callbacks.ModelCheckpoint(filepath = 'check_point_100_epoch',\n",
        "                                                          monitor = 'val_accuray',\n",
        "                                                          verbose = 0,\n",
        "                                                          save_best_only = True,\n",
        "                                                          save_weights_only = True)\n",
        "\n",
        "# reduce learning rate based on performance on validation accuracy                                                          \n",
        "\n",
        "reduce_learning_rate = tf.keras.callbacks.ReduceLROnPlateau(monitor = 'val_accuracy',\n",
        "                                                            factor = 0.2,\n",
        "                                                            patience = 2, \n",
        "                                                            verbose = 1,\n",
        "                                                            min_lr = 1e-7)"
      ],
      "metadata": {
        "id": "dssV-po1ozva"
      },
      "execution_count": null,
      "outputs": []
    },
    {
      "cell_type": "markdown",
      "source": [
        "Get the model back to the feature extraction state"
      ],
      "metadata": {
        "id": "4vKO_sp1sTDv"
      }
    },
    {
      "cell_type": "code",
      "source": [
        "model.load_weights(filepath = 'checkpoints/cp.ckpt')"
      ],
      "metadata": {
        "colab": {
          "base_uri": "https://localhost:8080/"
        },
        "id": "q3c0g9Kwozq9",
        "outputId": "b5f305c6-5c18-4ea8-89bf-6f85c997636d"
      },
      "execution_count": null,
      "outputs": [
        {
          "output_type": "execute_result",
          "data": {
            "text/plain": [
              "<tensorflow.python.training.tracking.util.CheckpointLoadStatus at 0x7fc7d76a1130>"
            ]
          },
          "metadata": {},
          "execution_count": 71
        }
      ]
    },
    {
      "cell_type": "code",
      "source": [
        "# lets check the model is loaded with the correct checkpointed weights\n",
        "\n",
        "model.evaluate(test_data)"
      ],
      "metadata": {
        "colab": {
          "base_uri": "https://localhost:8080/"
        },
        "id": "6ql-s2ojozor",
        "outputId": "8a64386b-4040-427d-cd77-74cf6c492fcd"
      },
      "execution_count": null,
      "outputs": [
        {
          "output_type": "stream",
          "name": "stdout",
          "text": [
            "790/790 [==============================] - 73s 92ms/step - loss: 0.9754 - accuracy: 0.7339\n"
          ]
        },
        {
          "output_type": "execute_result",
          "data": {
            "text/plain": [
              "[0.9754393696784973, 0.7339009642601013]"
            ]
          },
          "metadata": {},
          "execution_count": 72
        }
      ]
    },
    {
      "cell_type": "markdown",
      "source": [
        " Lets create the trainable base model, and recompile the model"
      ],
      "metadata": {
        "id": "U12PgJmytRxs"
      }
    },
    {
      "cell_type": "code",
      "source": [
        "# modifying the base model\n",
        "\n",
        "base_model.trainable = True\n",
        "\n",
        "for layer in base_model.layers[:-5]:\n",
        "  layer.trainable = False\n",
        "\n",
        "# recompiling the model\n",
        "\n",
        "model.compile(loss = 'sparse_categorical_crossentropy',\n",
        "              optimizer = Adam(0.0001),\n",
        "              metrics = ['accuracy'])"
      ],
      "metadata": {
        "id": "1WBpmtsFozlw"
      },
      "execution_count": null,
      "outputs": []
    },
    {
      "cell_type": "markdown",
      "source": [
        "lets fit the model for 100 epochs with early stopping callbacks"
      ],
      "metadata": {
        "id": "fOYTUiGHt7_K"
      }
    },
    {
      "cell_type": "code",
      "source": [
        "history_3 = model.fit(train_data,\n",
        "                      epochs = 100,\n",
        "                      steps_per_epoch = len(train_data),\n",
        "                      validation_data = test_data,\n",
        "                      validation_steps = int(0.15*len(test_data)),\n",
        "                      initial_epoch = history_0.epoch[-1],\n",
        "                      callbacks = [create_tensorboard_callback(dir_name = 'tensorboard_callbacks',\n",
        "                                                               experiment_name = 'food101_efficientnet_fine_tuning2'),\n",
        "                                   early_stopping,\n",
        "                                   checkpoint_100_epoch,\n",
        "                                   reduce_learning_rate])"
      ],
      "metadata": {
        "colab": {
          "base_uri": "https://localhost:8080/"
        },
        "id": "NA9JkLkAozjN",
        "outputId": "9c3e49e2-4462-4245-93ec-8dbac332172a"
      },
      "execution_count": null,
      "outputs": [
        {
          "output_type": "stream",
          "name": "stdout",
          "text": [
            "Saving TensorBoard log files to: tensorboard_callbacks/food101_efficientnet_fine_tuning2/20230224-053827\n",
            "Epoch 5/100\n",
            "2367/2368 [============================>.] - ETA: 0s - loss: 0.9763 - accuracy: 0.7425"
          ]
        },
        {
          "output_type": "stream",
          "name": "stderr",
          "text": [
            "WARNING:tensorflow:Can save best model only with val_accuray available, skipping.\n"
          ]
        },
        {
          "output_type": "stream",
          "name": "stdout",
          "text": [
            "\b\b\b\b\b\b\b\b\b\b\b\b\b\b\b\b\b\b\b\b\b\b\b\b\b\b\b\b\b\b\b\b\b\b\b\b\b\b\b\b\b\b\b\b\b\b\b\b\b\b\b\b\b\b\b\b\b\b\b\b\b\b\b\b\b\b\b\b\b\b\b\b\b\b\b\b\b\b\b\b\b\b\b\b\b\b\r2368/2368 [==============================] - 217s 87ms/step - loss: 0.9764 - accuracy: 0.7424 - val_loss: 0.9035 - val_accuracy: 0.7492 - lr: 1.0000e-04\n",
            "Epoch 6/100\n",
            "2367/2368 [============================>.] - ETA: 0s - loss: 0.8504 - accuracy: 0.7742"
          ]
        },
        {
          "output_type": "stream",
          "name": "stderr",
          "text": [
            "WARNING:tensorflow:Can save best model only with val_accuray available, skipping.\n"
          ]
        },
        {
          "output_type": "stream",
          "name": "stdout",
          "text": [
            "\b\b\b\b\b\b\b\b\b\b\b\b\b\b\b\b\b\b\b\b\b\b\b\b\b\b\b\b\b\b\b\b\b\b\b\b\b\b\b\b\b\b\b\b\b\b\b\b\b\b\b\b\b\b\b\b\b\b\b\b\b\b\b\b\b\b\b\b\b\b\b\b\b\b\b\b\b\b\b\b\b\b\b\b\b\b\r2368/2368 [==============================] - 209s 87ms/step - loss: 0.8504 - accuracy: 0.7742 - val_loss: 0.8688 - val_accuracy: 0.7593 - lr: 1.0000e-04\n",
            "Epoch 7/100\n",
            "2368/2368 [==============================] - ETA: 0s - loss: 0.7694 - accuracy: 0.7957"
          ]
        },
        {
          "output_type": "stream",
          "name": "stderr",
          "text": [
            "WARNING:tensorflow:Can save best model only with val_accuray available, skipping.\n"
          ]
        },
        {
          "output_type": "stream",
          "name": "stdout",
          "text": [
            "\b\b\b\b\b\b\b\b\b\b\b\b\b\b\b\b\b\b\b\b\b\b\b\b\b\b\b\b\b\b\b\b\b\b\b\b\b\b\b\b\b\b\b\b\b\b\b\b\b\b\b\b\b\b\b\b\b\b\b\b\b\b\b\b\b\b\b\b\b\b\b\b\b\b\b\b\b\b\b\b\b\b\b\b\b\b\r2368/2368 [==============================] - 208s 87ms/step - loss: 0.7694 - accuracy: 0.7957 - val_loss: 0.8574 - val_accuracy: 0.7614 - lr: 1.0000e-04\n",
            "Epoch 8/100\n",
            "2368/2368 [==============================] - ETA: 0s - loss: 0.7079 - accuracy: 0.8119"
          ]
        },
        {
          "output_type": "stream",
          "name": "stderr",
          "text": [
            "WARNING:tensorflow:Can save best model only with val_accuray available, skipping.\n"
          ]
        },
        {
          "output_type": "stream",
          "name": "stdout",
          "text": [
            "\b\b\b\b\b\b\b\b\b\b\b\b\b\b\b\b\b\b\b\b\b\b\b\b\b\b\b\b\b\b\b\b\b\b\b\b\b\b\b\b\b\b\b\b\b\b\b\b\b\b\b\b\b\b\b\b\b\b\b\b\b\b\b\b\b\b\b\b\b\b\b\b\b\b\b\b\b\b\b\b\b\b\b\b\b\b\r2368/2368 [==============================] - 209s 87ms/step - loss: 0.7079 - accuracy: 0.8119 - val_loss: 0.8502 - val_accuracy: 0.7643 - lr: 1.0000e-04\n",
            "Epoch 9/100\n",
            "2368/2368 [==============================] - ETA: 0s - loss: 0.6565 - accuracy: 0.8262"
          ]
        },
        {
          "output_type": "stream",
          "name": "stderr",
          "text": [
            "WARNING:tensorflow:Can save best model only with val_accuray available, skipping.\n"
          ]
        },
        {
          "output_type": "stream",
          "name": "stdout",
          "text": [
            "\b\b\b\b\b\b\b\b\b\b\b\b\b\b\b\b\b\b\b\b\b\b\b\b\b\b\b\b\b\b\b\b\b\b\b\b\b\b\b\b\b\b\b\b\b\b\b\b\b\b\b\b\b\b\b\b\b\b\b\b\b\b\b\b\b\b\b\b\b\b\b\b\b\b\b\b\b\b\b\b\b\b\b\b\b\b\r2368/2368 [==============================] - 208s 87ms/step - loss: 0.6565 - accuracy: 0.8262 - val_loss: 0.8241 - val_accuracy: 0.7696 - lr: 1.0000e-04\n",
            "Epoch 10/100\n",
            "2368/2368 [==============================] - ETA: 0s - loss: 0.6108 - accuracy: 0.8396"
          ]
        },
        {
          "output_type": "stream",
          "name": "stderr",
          "text": [
            "WARNING:tensorflow:Can save best model only with val_accuray available, skipping.\n"
          ]
        },
        {
          "output_type": "stream",
          "name": "stdout",
          "text": [
            "\b\b\b\b\b\b\b\b\b\b\b\b\b\b\b\b\b\b\b\b\b\b\b\b\b\b\b\b\b\b\b\b\b\b\b\b\b\b\b\b\b\b\b\b\b\b\b\b\b\b\b\b\b\b\b\b\b\b\b\b\b\b\b\b\b\b\b\b\b\b\b\b\b\b\b\b\b\b\b\b\b\b\b\b\b\b\r2368/2368 [==============================] - 219s 91ms/step - loss: 0.6108 - accuracy: 0.8396 - val_loss: 0.8277 - val_accuracy: 0.7715 - lr: 1.0000e-04\n",
            "Epoch 11/100\n",
            "2367/2368 [============================>.] - ETA: 0s - loss: 0.5679 - accuracy: 0.8508"
          ]
        },
        {
          "output_type": "stream",
          "name": "stderr",
          "text": [
            "WARNING:tensorflow:Can save best model only with val_accuray available, skipping.\n"
          ]
        },
        {
          "output_type": "stream",
          "name": "stdout",
          "text": [
            "\b\b\b\b\b\b\b\b\b\b\b\b\b\b\b\b\b\b\b\b\b\b\b\b\b\b\b\b\b\b\b\b\b\b\b\b\b\b\b\b\b\b\b\b\b\b\b\b\b\b\b\b\b\b\b\b\b\b\b\b\b\b\b\b\b\b\b\b\b\b\b\b\b\b\b\b\b\b\b\b\b\b\b\b\b\b\r2368/2368 [==============================] - 261s 109ms/step - loss: 0.5679 - accuracy: 0.8508 - val_loss: 0.8339 - val_accuracy: 0.7699 - lr: 1.0000e-04\n",
            "Epoch 12/100\n",
            "2367/2368 [============================>.] - ETA: 0s - loss: 0.5310 - accuracy: 0.8621"
          ]
        },
        {
          "output_type": "stream",
          "name": "stderr",
          "text": [
            "WARNING:tensorflow:Can save best model only with val_accuray available, skipping.\n"
          ]
        },
        {
          "output_type": "stream",
          "name": "stdout",
          "text": [
            "\b\b\b\b\b\b\b\b\b\b\b\b\b\b\b\b\b\b\b\b\b\b\b\b\b\b\b\b\b\b\b\b\b\b\b\b\b\b\b\b\b\b\b\b\b\b\b\b\b\b\b\b\b\b\b\b\b\b\b\b\b\b\b\b\b\b\b\b\b\b\b\b\b\b\b\b\b\b\b\b\b\b\b\b\b\b\r2368/2368 [==============================] - 208s 87ms/step - loss: 0.5310 - accuracy: 0.8621 - val_loss: 0.8204 - val_accuracy: 0.7749 - lr: 1.0000e-04\n",
            "Epoch 13/100\n",
            "2367/2368 [============================>.] - ETA: 0s - loss: 0.4973 - accuracy: 0.8727"
          ]
        },
        {
          "output_type": "stream",
          "name": "stderr",
          "text": [
            "WARNING:tensorflow:Can save best model only with val_accuray available, skipping.\n"
          ]
        },
        {
          "output_type": "stream",
          "name": "stdout",
          "text": [
            "\b\b\b\b\b\b\b\b\b\b\b\b\b\b\b\b\b\b\b\b\b\b\b\b\b\b\b\b\b\b\b\b\b\b\b\b\b\b\b\b\b\b\b\b\b\b\b\b\b\b\b\b\b\b\b\b\b\b\b\b\b\b\b\b\b\b\b\b\b\b\b\b\b\b\b\b\b\b\b\b\b\b\b\b\b\b\r2368/2368 [==============================] - 205s 85ms/step - loss: 0.4973 - accuracy: 0.8727 - val_loss: 0.8230 - val_accuracy: 0.7712 - lr: 1.0000e-04\n",
            "Epoch 14/100\n",
            "2367/2368 [============================>.] - ETA: 0s - loss: 0.4657 - accuracy: 0.8818"
          ]
        },
        {
          "output_type": "stream",
          "name": "stderr",
          "text": [
            "WARNING:tensorflow:Can save best model only with val_accuray available, skipping.\n"
          ]
        },
        {
          "output_type": "stream",
          "name": "stdout",
          "text": [
            "\n",
            "Epoch 14: ReduceLROnPlateau reducing learning rate to 1.9999999494757503e-05.\n",
            "2368/2368 [==============================] - 205s 85ms/step - loss: 0.4657 - accuracy: 0.8818 - val_loss: 0.8160 - val_accuracy: 0.7728 - lr: 1.0000e-04\n",
            "Epoch 15/100\n",
            "2367/2368 [============================>.] - ETA: 0s - loss: 0.4030 - accuracy: 0.9035"
          ]
        },
        {
          "output_type": "stream",
          "name": "stderr",
          "text": [
            "WARNING:tensorflow:Can save best model only with val_accuray available, skipping.\n"
          ]
        },
        {
          "output_type": "stream",
          "name": "stdout",
          "text": [
            "\b\b\b\b\b\b\b\b\b\b\b\b\b\b\b\b\b\b\b\b\b\b\b\b\b\b\b\b\b\b\b\b\b\b\b\b\b\b\b\b\b\b\b\b\b\b\b\b\b\b\b\b\b\b\b\b\b\b\b\b\b\b\b\b\b\b\b\b\b\b\b\b\b\b\b\b\b\b\b\b\b\b\b\b\b\b\r2368/2368 [==============================] - 204s 85ms/step - loss: 0.4030 - accuracy: 0.9035 - val_loss: 0.8067 - val_accuracy: 0.7773 - lr: 2.0000e-05\n",
            "Epoch 16/100\n",
            "2367/2368 [============================>.] - ETA: 0s - loss: 0.3923 - accuracy: 0.9070"
          ]
        },
        {
          "output_type": "stream",
          "name": "stderr",
          "text": [
            "WARNING:tensorflow:Can save best model only with val_accuray available, skipping.\n"
          ]
        },
        {
          "output_type": "stream",
          "name": "stdout",
          "text": [
            "\b\b\b\b\b\b\b\b\b\b\b\b\b\b\b\b\b\b\b\b\b\b\b\b\b\b\b\b\b\b\b\b\b\b\b\b\b\b\b\b\b\b\b\b\b\b\b\b\b\b\b\b\b\b\b\b\b\b\b\b\b\b\b\b\b\b\b\b\b\b\b\b\b\b\b\b\b\b\b\b\b\b\b\b\b\b\r2368/2368 [==============================] - 205s 86ms/step - loss: 0.3924 - accuracy: 0.9070 - val_loss: 0.8120 - val_accuracy: 0.7778 - lr: 2.0000e-05\n",
            "Epoch 17/100\n",
            "2367/2368 [============================>.] - ETA: 0s - loss: 0.3866 - accuracy: 0.9096"
          ]
        },
        {
          "output_type": "stream",
          "name": "stderr",
          "text": [
            "WARNING:tensorflow:Can save best model only with val_accuray available, skipping.\n"
          ]
        },
        {
          "output_type": "stream",
          "name": "stdout",
          "text": [
            "\b\b\b\b\b\b\b\b\b\b\b\b\b\b\b\b\b\b\b\b\b\b\b\b\b\b\b\b\b\b\b\b\b\b\b\b\b\b\b\b\b\b\b\b\b\b\b\b\b\b\b\b\b\b\b\b\b\b\b\b\b\b\b\b\b\b\b\b\b\b\b\b\b\b\b\b\b\b\b\b\b\b\b\b\b\b\r2368/2368 [==============================] - 212s 89ms/step - loss: 0.3867 - accuracy: 0.9095 - val_loss: 0.8077 - val_accuracy: 0.7781 - lr: 2.0000e-05\n",
            "Epoch 18/100\n",
            "2367/2368 [============================>.] - ETA: 0s - loss: 0.3776 - accuracy: 0.9116"
          ]
        },
        {
          "output_type": "stream",
          "name": "stderr",
          "text": [
            "WARNING:tensorflow:Can save best model only with val_accuray available, skipping.\n"
          ]
        },
        {
          "output_type": "stream",
          "name": "stdout",
          "text": [
            "\b\b\b\b\b\b\b\b\b\b\b\b\b\b\b\b\b\b\b\b\b\b\b\b\b\b\b\b\b\b\b\b\b\b\b\b\b\b\b\b\b\b\b\b\b\b\b\b\b\b\b\b\b\b\b\b\b\b\b\b\b\b\b\b\b\b\b\b\b\b\b\b\b\b\b\b\b\b\b\b\b\b\b\b\b\b\r2368/2368 [==============================] - 206s 86ms/step - loss: 0.3777 - accuracy: 0.9115 - val_loss: 0.8210 - val_accuracy: 0.7762 - lr: 2.0000e-05\n",
            "Epoch 19/100\n",
            "2367/2368 [============================>.] - ETA: 0s - loss: 0.3708 - accuracy: 0.9129"
          ]
        },
        {
          "output_type": "stream",
          "name": "stderr",
          "text": [
            "WARNING:tensorflow:Can save best model only with val_accuray available, skipping.\n"
          ]
        },
        {
          "output_type": "stream",
          "name": "stdout",
          "text": [
            "\n",
            "Epoch 19: ReduceLROnPlateau reducing learning rate to 3.999999898951501e-06.\n",
            "2368/2368 [==============================] - 206s 86ms/step - loss: 0.3708 - accuracy: 0.9129 - val_loss: 0.8162 - val_accuracy: 0.7760 - lr: 2.0000e-05\n",
            "Epoch 20/100\n",
            "2368/2368 [==============================] - ETA: 0s - loss: 0.3591 - accuracy: 0.9176"
          ]
        },
        {
          "output_type": "stream",
          "name": "stderr",
          "text": [
            "WARNING:tensorflow:Can save best model only with val_accuray available, skipping.\n"
          ]
        },
        {
          "output_type": "stream",
          "name": "stdout",
          "text": [
            "\b\b\b\b\b\b\b\b\b\b\b\b\b\b\b\b\b\b\b\b\b\b\b\b\b\b\b\b\b\b\b\b\b\b\b\b\b\b\b\b\b\b\b\b\b\b\b\b\b\b\b\b\b\b\b\b\b\b\b\b\b\b\b\b\b\b\b\b\b\b\b\b\b\b\b\b\b\b\b\b\b\b\b\b\b\b\r2368/2368 [==============================] - 204s 85ms/step - loss: 0.3591 - accuracy: 0.9176 - val_loss: 0.8168 - val_accuracy: 0.7744 - lr: 4.0000e-06\n"
          ]
        }
      ]
    },
    {
      "cell_type": "code",
      "source": [
        "model.save('/content/saved_models/feature_extraction_fine_tune2')"
      ],
      "metadata": {
        "colab": {
          "base_uri": "https://localhost:8080/"
        },
        "id": "_I--8Dz-_Qfn",
        "outputId": "816124fd-6352-4307-eb06-ad73d20ea0fc"
      },
      "execution_count": null,
      "outputs": [
        {
          "output_type": "stream",
          "name": "stderr",
          "text": [
            "WARNING:absl:Found untraced functions such as _jit_compiled_convolution_op, _jit_compiled_convolution_op, _jit_compiled_convolution_op, _jit_compiled_convolution_op, _jit_compiled_convolution_op while saving (showing 5 of 81). These functions will not be directly callable after loading.\n"
          ]
        }
      ]
    },
    {
      "cell_type": "code",
      "source": [
        "loaded_model_fine_tune2 = tf.keras.models.load_model('/content/saved_models/feature_extraction_fine_tune2')"
      ],
      "metadata": {
        "id": "E_TpoMfq_QdN"
      },
      "execution_count": null,
      "outputs": []
    },
    {
      "cell_type": "code",
      "source": [
        "loaded_model_fine_tune2.evaluate(test_data)"
      ],
      "metadata": {
        "colab": {
          "base_uri": "https://localhost:8080/"
        },
        "id": "Wdv_Qbh0_Qa5",
        "outputId": "116202d3-6bab-4b6a-dec5-7144d5610f67"
      },
      "execution_count": null,
      "outputs": [
        {
          "output_type": "stream",
          "name": "stdout",
          "text": [
            "790/790 [==============================] - 63s 77ms/step - loss: 0.8145 - accuracy: 0.7781\n"
          ]
        },
        {
          "output_type": "execute_result",
          "data": {
            "text/plain": [
              "[0.814463198184967, 0.7781386375427246]"
            ]
          },
          "metadata": {},
          "execution_count": 79
        }
      ]
    },
    {
      "cell_type": "code",
      "source": [
        "compare_historys(history_0,history_3,5)"
      ],
      "metadata": {
        "colab": {
          "base_uri": "https://localhost:8080/",
          "height": 513
        },
        "id": "mYCr9L7_C-Nw",
        "outputId": "7f5a598b-7c81-4a22-a839-94dab71a0b2c"
      },
      "execution_count": null,
      "outputs": [
        {
          "output_type": "display_data",
          "data": {
            "text/plain": [
              "<Figure size 576x576 with 2 Axes>"
            ],
            "image/png": "[encoded data removed]"
          },
          "metadata": {
            "needs_background": "light"
          }
        }
      ]
    },
    {
      "cell_type": "markdown",
      "source": [
        "Lets get the best epoch from the checkpoints"
      ],
      "metadata": {
        "id": "YZVC-QS8KBMz"
      }
    },
    {
      "cell_type": "code",
      "source": [
        "model.load_weights('check_point_100_epoch')"
      ],
      "metadata": {
        "colab": {
          "base_uri": "https://localhost:8080/"
        },
        "id": "efhHyl1rC-Lg",
        "outputId": "6976e4f2-1b8b-4d78-e1c1-592dd746a8c2"
      },
      "execution_count": null,
      "outputs": [
        {
          "output_type": "execute_result",
          "data": {
            "text/plain": [
              "<tensorflow.python.training.tracking.util.CheckpointLoadStatus at 0x7fc707af2880>"
            ]
          },
          "metadata": {},
          "execution_count": 81
        }
      ]
    },
    {
      "cell_type": "code",
      "source": [
        "model.evaluate(test_data)"
      ],
      "metadata": {
        "colab": {
          "base_uri": "https://localhost:8080/"
        },
        "id": "dHyao5c3KLlx",
        "outputId": "e979b89c-99fb-42c4-ffca-f8957097f850"
      },
      "execution_count": null,
      "outputs": [
        {
          "output_type": "stream",
          "name": "stdout",
          "text": [
            "790/790 [==============================] - 60s 75ms/step - loss: 0.8265 - accuracy: 0.7740\n"
          ]
        },
        {
          "output_type": "execute_result",
          "data": {
            "text/plain": [
              "[0.8265040516853333, 0.7739802002906799]"
            ]
          },
          "metadata": {},
          "execution_count": 82
        }
      ]
    }
  ]
}